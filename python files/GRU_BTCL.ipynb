{
 "cells": [
  {
   "cell_type": "code",
   "execution_count": 1,
   "metadata": {},
   "outputs": [],
   "source": [
    "from numpy.random import seed\n",
    "seed(1)\n",
    "from tensorflow import random\n",
    "random.set_seed(5)\n",
    "import pandas as pd\n",
    "import numpy as np\n",
    "import matplotlib.pyplot as plt\n",
    "import seaborn as sns\n",
    "sns.set()\n",
    "from sklearn.preprocessing import MinMaxScaler\n",
    "from tensorflow.keras.models import Sequential\n",
    "from tensorflow.keras.layers import Dense\n",
    "from tensorflow.keras.layers import LSTM, GRU\n",
    "import math\n",
    "from sklearn.metrics import mean_squared_error,mean_absolute_error, r2_score\n",
    "from numpy import array"
   ]
  },
  {
   "cell_type": "code",
   "execution_count": 2,
   "metadata": {},
   "outputs": [
    {
     "data": {
      "text/html": [
       "<div>\n",
       "<style scoped>\n",
       "    .dataframe tbody tr th:only-of-type {\n",
       "        vertical-align: middle;\n",
       "    }\n",
       "\n",
       "    .dataframe tbody tr th {\n",
       "        vertical-align: top;\n",
       "    }\n",
       "\n",
       "    .dataframe thead th {\n",
       "        text-align: right;\n",
       "    }\n",
       "</style>\n",
       "<table border=\"1\" class=\"dataframe\">\n",
       "  <thead>\n",
       "    <tr style=\"text-align: right;\">\n",
       "      <th></th>\n",
       "      <th>DateTime</th>\n",
       "      <th>BTCL</th>\n",
       "    </tr>\n",
       "  </thead>\n",
       "  <tbody>\n",
       "    <tr>\n",
       "      <th>0</th>\n",
       "      <td>2020-04-23 06:34:02</td>\n",
       "      <td>158</td>\n",
       "    </tr>\n",
       "    <tr>\n",
       "      <th>1</th>\n",
       "      <td>2020-04-23 09:34:02</td>\n",
       "      <td>158</td>\n",
       "    </tr>\n",
       "    <tr>\n",
       "      <th>2</th>\n",
       "      <td>2020-04-24 06:34:01</td>\n",
       "      <td>158</td>\n",
       "    </tr>\n",
       "    <tr>\n",
       "      <th>3</th>\n",
       "      <td>2020-04-24 09:34:02</td>\n",
       "      <td>158</td>\n",
       "    </tr>\n",
       "    <tr>\n",
       "      <th>4</th>\n",
       "      <td>2020-04-27 06:33:57</td>\n",
       "      <td>158</td>\n",
       "    </tr>\n",
       "    <tr>\n",
       "      <th>...</th>\n",
       "      <td>...</td>\n",
       "      <td>...</td>\n",
       "    </tr>\n",
       "    <tr>\n",
       "      <th>2497</th>\n",
       "      <td>2022-07-14 04:55:53</td>\n",
       "      <td>656</td>\n",
       "    </tr>\n",
       "    <tr>\n",
       "      <th>2498</th>\n",
       "      <td>2022-07-14 05:55:54</td>\n",
       "      <td>625</td>\n",
       "    </tr>\n",
       "    <tr>\n",
       "      <th>2499</th>\n",
       "      <td>2022-07-14 07:55:52</td>\n",
       "      <td>625</td>\n",
       "    </tr>\n",
       "    <tr>\n",
       "      <th>2500</th>\n",
       "      <td>2022-07-14 08:55:53</td>\n",
       "      <td>625</td>\n",
       "    </tr>\n",
       "    <tr>\n",
       "      <th>2501</th>\n",
       "      <td>2022-07-15 03:55:51</td>\n",
       "      <td>625</td>\n",
       "    </tr>\n",
       "  </tbody>\n",
       "</table>\n",
       "<p>2502 rows × 2 columns</p>\n",
       "</div>"
      ],
      "text/plain": [
       "                 DateTime  BTCL\n",
       "0     2020-04-23 06:34:02   158\n",
       "1     2020-04-23 09:34:02   158\n",
       "2     2020-04-24 06:34:01   158\n",
       "3     2020-04-24 09:34:02   158\n",
       "4     2020-04-27 06:33:57   158\n",
       "...                   ...   ...\n",
       "2497  2022-07-14 04:55:53   656\n",
       "2498  2022-07-14 05:55:54   625\n",
       "2499  2022-07-14 07:55:52   625\n",
       "2500  2022-07-14 08:55:53   625\n",
       "2501  2022-07-15 03:55:51   625\n",
       "\n",
       "[2502 rows x 2 columns]"
      ]
     },
     "execution_count": 2,
     "metadata": {},
     "output_type": "execute_result"
    }
   ],
   "source": [
    "data = pd.read_csv(\"../data/BTCL.csv\")\n",
    "data"
   ]
  },
  {
   "cell_type": "code",
   "execution_count": 3,
   "metadata": {},
   "outputs": [
    {
     "data": {
      "text/html": [
       "<div>\n",
       "<style scoped>\n",
       "    .dataframe tbody tr th:only-of-type {\n",
       "        vertical-align: middle;\n",
       "    }\n",
       "\n",
       "    .dataframe tbody tr th {\n",
       "        vertical-align: top;\n",
       "    }\n",
       "\n",
       "    .dataframe thead th {\n",
       "        text-align: right;\n",
       "    }\n",
       "</style>\n",
       "<table border=\"1\" class=\"dataframe\">\n",
       "  <thead>\n",
       "    <tr style=\"text-align: right;\">\n",
       "      <th></th>\n",
       "      <th>date</th>\n",
       "      <th>price</th>\n",
       "    </tr>\n",
       "  </thead>\n",
       "  <tbody>\n",
       "    <tr>\n",
       "      <th>0</th>\n",
       "      <td>2020-04-23</td>\n",
       "      <td>158</td>\n",
       "    </tr>\n",
       "    <tr>\n",
       "      <th>1</th>\n",
       "      <td>2020-04-23</td>\n",
       "      <td>158</td>\n",
       "    </tr>\n",
       "    <tr>\n",
       "      <th>2</th>\n",
       "      <td>2020-04-24</td>\n",
       "      <td>158</td>\n",
       "    </tr>\n",
       "    <tr>\n",
       "      <th>3</th>\n",
       "      <td>2020-04-24</td>\n",
       "      <td>158</td>\n",
       "    </tr>\n",
       "    <tr>\n",
       "      <th>4</th>\n",
       "      <td>2020-04-27</td>\n",
       "      <td>158</td>\n",
       "    </tr>\n",
       "    <tr>\n",
       "      <th>...</th>\n",
       "      <td>...</td>\n",
       "      <td>...</td>\n",
       "    </tr>\n",
       "    <tr>\n",
       "      <th>2497</th>\n",
       "      <td>2022-07-14</td>\n",
       "      <td>656</td>\n",
       "    </tr>\n",
       "    <tr>\n",
       "      <th>2498</th>\n",
       "      <td>2022-07-14</td>\n",
       "      <td>625</td>\n",
       "    </tr>\n",
       "    <tr>\n",
       "      <th>2499</th>\n",
       "      <td>2022-07-14</td>\n",
       "      <td>625</td>\n",
       "    </tr>\n",
       "    <tr>\n",
       "      <th>2500</th>\n",
       "      <td>2022-07-14</td>\n",
       "      <td>625</td>\n",
       "    </tr>\n",
       "    <tr>\n",
       "      <th>2501</th>\n",
       "      <td>2022-07-15</td>\n",
       "      <td>625</td>\n",
       "    </tr>\n",
       "  </tbody>\n",
       "</table>\n",
       "<p>2502 rows × 2 columns</p>\n",
       "</div>"
      ],
      "text/plain": [
       "           date  price\n",
       "0    2020-04-23    158\n",
       "1    2020-04-23    158\n",
       "2    2020-04-24    158\n",
       "3    2020-04-24    158\n",
       "4    2020-04-27    158\n",
       "...         ...    ...\n",
       "2497 2022-07-14    656\n",
       "2498 2022-07-14    625\n",
       "2499 2022-07-14    625\n",
       "2500 2022-07-14    625\n",
       "2501 2022-07-15    625\n",
       "\n",
       "[2502 rows x 2 columns]"
      ]
     },
     "execution_count": 3,
     "metadata": {},
     "output_type": "execute_result"
    }
   ],
   "source": [
    "#Changing datetime to datetime format\n",
    "data['DateTime'] = pd.to_datetime(data['DateTime']).dt.date\n",
    "\n",
    "#renaming the columns\n",
    "data.rename(columns = {'DateTime':'date','BTCL':'price'}, inplace = True)\n",
    "data['date'] = pd.to_datetime(data['date'],format = \"%Y-%m-%d\")\n",
    "data"
   ]
  },
  {
   "cell_type": "code",
   "execution_count": 4,
   "metadata": {},
   "outputs": [
    {
     "data": {
      "text/html": [
       "<div>\n",
       "<style scoped>\n",
       "    .dataframe tbody tr th:only-of-type {\n",
       "        vertical-align: middle;\n",
       "    }\n",
       "\n",
       "    .dataframe tbody tr th {\n",
       "        vertical-align: top;\n",
       "    }\n",
       "\n",
       "    .dataframe thead th {\n",
       "        text-align: right;\n",
       "    }\n",
       "</style>\n",
       "<table border=\"1\" class=\"dataframe\">\n",
       "  <thead>\n",
       "    <tr style=\"text-align: right;\">\n",
       "      <th></th>\n",
       "      <th>price</th>\n",
       "    </tr>\n",
       "    <tr>\n",
       "      <th>date</th>\n",
       "      <th></th>\n",
       "    </tr>\n",
       "  </thead>\n",
       "  <tbody>\n",
       "    <tr>\n",
       "      <th>2020-04-23</th>\n",
       "      <td>158.0</td>\n",
       "    </tr>\n",
       "    <tr>\n",
       "      <th>2020-04-24</th>\n",
       "      <td>158.0</td>\n",
       "    </tr>\n",
       "    <tr>\n",
       "      <th>2020-04-27</th>\n",
       "      <td>158.0</td>\n",
       "    </tr>\n",
       "    <tr>\n",
       "      <th>2020-04-28</th>\n",
       "      <td>158.0</td>\n",
       "    </tr>\n",
       "    <tr>\n",
       "      <th>2020-04-29</th>\n",
       "      <td>158.0</td>\n",
       "    </tr>\n",
       "    <tr>\n",
       "      <th>...</th>\n",
       "      <td>...</td>\n",
       "    </tr>\n",
       "    <tr>\n",
       "      <th>2022-07-11</th>\n",
       "      <td>625.0</td>\n",
       "    </tr>\n",
       "    <tr>\n",
       "      <th>2022-07-12</th>\n",
       "      <td>625.0</td>\n",
       "    </tr>\n",
       "    <tr>\n",
       "      <th>2022-07-13</th>\n",
       "      <td>625.0</td>\n",
       "    </tr>\n",
       "    <tr>\n",
       "      <th>2022-07-14</th>\n",
       "      <td>637.4</td>\n",
       "    </tr>\n",
       "    <tr>\n",
       "      <th>2022-07-15</th>\n",
       "      <td>625.0</td>\n",
       "    </tr>\n",
       "  </tbody>\n",
       "</table>\n",
       "<p>548 rows × 1 columns</p>\n",
       "</div>"
      ],
      "text/plain": [
       "            price\n",
       "date             \n",
       "2020-04-23  158.0\n",
       "2020-04-24  158.0\n",
       "2020-04-27  158.0\n",
       "2020-04-28  158.0\n",
       "2020-04-29  158.0\n",
       "...           ...\n",
       "2022-07-11  625.0\n",
       "2022-07-12  625.0\n",
       "2022-07-13  625.0\n",
       "2022-07-14  637.4\n",
       "2022-07-15  625.0\n",
       "\n",
       "[548 rows x 1 columns]"
      ]
     },
     "execution_count": 4,
     "metadata": {},
     "output_type": "execute_result"
    }
   ],
   "source": [
    "data = data.groupby('date').mean()\n",
    "data"
   ]
  },
  {
   "cell_type": "code",
   "execution_count": 5,
   "metadata": {},
   "outputs": [
    {
     "data": {
      "text/plain": [
       "0      158.0\n",
       "1      158.0\n",
       "2      158.0\n",
       "3      158.0\n",
       "4      158.0\n",
       "       ...  \n",
       "543    625.0\n",
       "544    625.0\n",
       "545    625.0\n",
       "546    637.4\n",
       "547    625.0\n",
       "Name: price, Length: 548, dtype: float64"
      ]
     },
     "execution_count": 5,
     "metadata": {},
     "output_type": "execute_result"
    }
   ],
   "source": [
    "data1=data.reset_index()['price']\n",
    "data1"
   ]
  },
  {
   "cell_type": "code",
   "execution_count": 6,
   "metadata": {},
   "outputs": [
    {
     "name": "stdout",
     "output_type": "stream",
     "text": [
      "Size of the dataset:  (548,)\n",
      "Checking for null values:\n",
      " 0\n",
      "Checking Data-type of each column:\n",
      " float64\n"
     ]
    }
   ],
   "source": [
    "print(\"Size of the dataset: \",data1.shape)\n",
    "print(\"Checking for null values:\\n\",data1.isnull().sum())\n",
    "print(\"Checking Data-type of each column:\\n\",data1.dtypes)"
   ]
  },
  {
   "cell_type": "code",
   "execution_count": 7,
   "metadata": {},
   "outputs": [
    {
     "data": {
      "image/png": "[encoded data removed]",
      "text/plain": [
       "<Figure size 720x360 with 1 Axes>"
      ]
     },
     "metadata": {},
     "output_type": "display_data"
    }
   ],
   "source": [
    "plt.figure(figsize=(10,5))\n",
    "plt.plot(data1,label='price')\n",
    "plt.legend()\n",
    "plt.show()"
   ]
  },
  {
   "cell_type": "code",
   "execution_count": 8,
   "metadata": {},
   "outputs": [],
   "source": [
    "scaler=MinMaxScaler(feature_range=(0,1))\n",
    "data1=scaler.fit_transform(np.array(data1).reshape(-1,1))"
   ]
  },
  {
   "cell_type": "code",
   "execution_count": 9,
   "metadata": {},
   "outputs": [],
   "source": [
    "training_size=int(len(data1)*0.65)\n",
    "test_size=len(data1)-training_size\n",
    "train_data,test_data=data1[0:training_size,:],data1[training_size:len(data1),:1]"
   ]
  },
  {
   "cell_type": "code",
   "execution_count": 10,
   "metadata": {},
   "outputs": [
    {
     "data": {
      "text/plain": [
       "356"
      ]
     },
     "execution_count": 10,
     "metadata": {},
     "output_type": "execute_result"
    }
   ],
   "source": [
    "len(train_data)"
   ]
  },
  {
   "cell_type": "code",
   "execution_count": 11,
   "metadata": {},
   "outputs": [
    {
     "data": {
      "text/plain": [
       "(356, 192)"
      ]
     },
     "execution_count": 11,
     "metadata": {},
     "output_type": "execute_result"
    }
   ],
   "source": [
    "training_size,test_size"
   ]
  },
  {
   "cell_type": "code",
   "execution_count": 12,
   "metadata": {},
   "outputs": [],
   "source": [
    "def create_dataset(dataset, time_step=1):\n",
    "    dataX, dataY = [], []\n",
    "    for i in range(len(dataset)-time_step-1):\n",
    "        a = dataset[i:(i+time_step), 0]   \n",
    "        dataX.append(a)\n",
    "        dataY.append(dataset[i + time_step, 0])\n",
    "    return numpy.array(dataX), numpy.array(dataY)"
   ]
  },
  {
   "cell_type": "code",
   "execution_count": 13,
   "metadata": {},
   "outputs": [],
   "source": [
    "import numpy\n",
    "time_step = 10\n",
    "X_train, y_train = create_dataset(train_data, time_step)\n",
    "X_test, ytest = create_dataset(test_data, time_step)"
   ]
  },
  {
   "cell_type": "code",
   "execution_count": 14,
   "metadata": {},
   "outputs": [
    {
     "name": "stdout",
     "output_type": "stream",
     "text": [
      "(345, 10)\n",
      "(345,)\n"
     ]
    },
    {
     "data": {
      "text/plain": [
       "(None, None)"
      ]
     },
     "execution_count": 14,
     "metadata": {},
     "output_type": "execute_result"
    }
   ],
   "source": [
    "print(X_train.shape), print(y_train.shape)"
   ]
  },
  {
   "cell_type": "code",
   "execution_count": 15,
   "metadata": {},
   "outputs": [
    {
     "name": "stdout",
     "output_type": "stream",
     "text": [
      "(181, 10)\n",
      "(181,)\n"
     ]
    },
    {
     "data": {
      "text/plain": [
       "(None, None)"
      ]
     },
     "execution_count": 15,
     "metadata": {},
     "output_type": "execute_result"
    }
   ],
   "source": [
    "print(X_test.shape), print(ytest.shape)"
   ]
  },
  {
   "cell_type": "code",
   "execution_count": 16,
   "metadata": {},
   "outputs": [
    {
     "data": {
      "text/plain": [
       "10"
      ]
     },
     "execution_count": 16,
     "metadata": {},
     "output_type": "execute_result"
    }
   ],
   "source": [
    "X_train.shape[1]"
   ]
  },
  {
   "cell_type": "code",
   "execution_count": 17,
   "metadata": {},
   "outputs": [],
   "source": [
    "X_train =X_train.reshape(X_train.shape[0],X_train.shape[1] , 1)\n",
    "X_test = X_test.reshape(X_test.shape[0],X_test.shape[1] , 1)"
   ]
  },
  {
   "cell_type": "code",
   "execution_count": 18,
   "metadata": {},
   "outputs": [],
   "source": [
    "model=Sequential()\n",
    "model.add(GRU(64,activation='relu', return_sequences=False,input_shape=(time_step,1)))\n",
    "#model.add(GRU(128,activation='relu'))\n",
    "model.add(Dense(64))\n",
    "model.add(Dense(64))\n",
    "model.add(Dense(1))\n",
    "model.compile(loss='mean_squared_error',optimizer='adam')\n",
    "#model.summary()"
   ]
  },
  {
   "cell_type": "code",
   "execution_count": 19,
   "metadata": {},
   "outputs": [
    {
     "name": "stdout",
     "output_type": "stream",
     "text": [
      "Epoch 1/200\n",
      "11/11 - 5s - loss: 0.0181 - val_loss: 0.0098 - 5s/epoch - 453ms/step\n",
      "Epoch 2/200\n",
      "11/11 - 0s - loss: 0.0024 - val_loss: 0.0446 - 143ms/epoch - 13ms/step\n",
      "Epoch 3/200\n",
      "11/11 - 0s - loss: 0.0013 - val_loss: 0.0235 - 130ms/epoch - 12ms/step\n",
      "Epoch 4/200\n",
      "11/11 - 0s - loss: 7.2687e-04 - val_loss: 0.0283 - 140ms/epoch - 13ms/step\n",
      "Epoch 5/200\n",
      "11/11 - 0s - loss: 4.6166e-04 - val_loss: 0.0270 - 140ms/epoch - 13ms/step\n",
      "Epoch 6/200\n",
      "11/11 - 0s - loss: 4.2042e-04 - val_loss: 0.0245 - 186ms/epoch - 17ms/step\n",
      "Epoch 7/200\n",
      "11/11 - 0s - loss: 3.9320e-04 - val_loss: 0.0227 - 152ms/epoch - 14ms/step\n",
      "Epoch 8/200\n",
      "11/11 - 0s - loss: 3.7160e-04 - val_loss: 0.0204 - 153ms/epoch - 14ms/step\n",
      "Epoch 9/200\n",
      "11/11 - 0s - loss: 3.5292e-04 - val_loss: 0.0184 - 144ms/epoch - 13ms/step\n",
      "Epoch 10/200\n",
      "11/11 - 0s - loss: 3.2336e-04 - val_loss: 0.0174 - 142ms/epoch - 13ms/step\n",
      "Epoch 11/200\n",
      "11/11 - 0s - loss: 2.9839e-04 - val_loss: 0.0151 - 140ms/epoch - 13ms/step\n",
      "Epoch 12/200\n",
      "11/11 - 0s - loss: 2.6884e-04 - val_loss: 0.0144 - 132ms/epoch - 12ms/step\n",
      "Epoch 13/200\n",
      "11/11 - 0s - loss: 2.6450e-04 - val_loss: 0.0125 - 157ms/epoch - 14ms/step\n",
      "Epoch 14/200\n",
      "11/11 - 0s - loss: 2.3297e-04 - val_loss: 0.0111 - 159ms/epoch - 14ms/step\n",
      "Epoch 15/200\n",
      "11/11 - 0s - loss: 2.1327e-04 - val_loss: 0.0099 - 141ms/epoch - 13ms/step\n",
      "Epoch 16/200\n",
      "11/11 - 0s - loss: 1.9041e-04 - val_loss: 0.0084 - 137ms/epoch - 12ms/step\n",
      "Epoch 17/200\n",
      "11/11 - 0s - loss: 1.7458e-04 - val_loss: 0.0075 - 168ms/epoch - 15ms/step\n",
      "Epoch 18/200\n",
      "11/11 - 0s - loss: 1.7536e-04 - val_loss: 0.0068 - 146ms/epoch - 13ms/step\n",
      "Epoch 19/200\n",
      "11/11 - 0s - loss: 1.7747e-04 - val_loss: 0.0061 - 148ms/epoch - 13ms/step\n",
      "Epoch 20/200\n",
      "11/11 - 0s - loss: 1.7344e-04 - val_loss: 0.0058 - 179ms/epoch - 16ms/step\n",
      "Epoch 21/200\n",
      "11/11 - 0s - loss: 1.6024e-04 - val_loss: 0.0054 - 142ms/epoch - 13ms/step\n",
      "Epoch 22/200\n",
      "11/11 - 0s - loss: 1.6694e-04 - val_loss: 0.0057 - 140ms/epoch - 13ms/step\n",
      "Epoch 23/200\n",
      "11/11 - 0s - loss: 1.5769e-04 - val_loss: 0.0058 - 157ms/epoch - 14ms/step\n",
      "Epoch 24/200\n",
      "11/11 - 0s - loss: 1.8947e-04 - val_loss: 0.0052 - 144ms/epoch - 13ms/step\n",
      "Epoch 25/200\n",
      "11/11 - 0s - loss: 1.7667e-04 - val_loss: 0.0047 - 164ms/epoch - 15ms/step\n",
      "Epoch 26/200\n",
      "11/11 - 0s - loss: 1.6667e-04 - val_loss: 0.0053 - 151ms/epoch - 14ms/step\n",
      "Epoch 27/200\n",
      "11/11 - 0s - loss: 1.7136e-04 - val_loss: 0.0051 - 147ms/epoch - 13ms/step\n",
      "Epoch 28/200\n",
      "11/11 - 0s - loss: 1.6107e-04 - val_loss: 0.0050 - 136ms/epoch - 12ms/step\n",
      "Epoch 29/200\n",
      "11/11 - 0s - loss: 1.5677e-04 - val_loss: 0.0048 - 162ms/epoch - 15ms/step\n",
      "Epoch 30/200\n",
      "11/11 - 0s - loss: 1.5506e-04 - val_loss: 0.0051 - 138ms/epoch - 13ms/step\n",
      "Epoch 31/200\n",
      "11/11 - 0s - loss: 1.6274e-04 - val_loss: 0.0049 - 142ms/epoch - 13ms/step\n",
      "Epoch 32/200\n",
      "11/11 - 0s - loss: 1.5393e-04 - val_loss: 0.0050 - 142ms/epoch - 13ms/step\n",
      "Epoch 33/200\n",
      "11/11 - 0s - loss: 1.6039e-04 - val_loss: 0.0053 - 144ms/epoch - 13ms/step\n",
      "Epoch 34/200\n",
      "11/11 - 0s - loss: 1.7386e-04 - val_loss: 0.0052 - 148ms/epoch - 13ms/step\n",
      "Epoch 35/200\n",
      "11/11 - 0s - loss: 1.6181e-04 - val_loss: 0.0051 - 169ms/epoch - 15ms/step\n",
      "Epoch 36/200\n",
      "11/11 - 0s - loss: 1.6536e-04 - val_loss: 0.0050 - 154ms/epoch - 14ms/step\n",
      "Epoch 37/200\n",
      "11/11 - 0s - loss: 1.8560e-04 - val_loss: 0.0047 - 187ms/epoch - 17ms/step\n",
      "Epoch 38/200\n",
      "11/11 - 0s - loss: 1.6552e-04 - val_loss: 0.0050 - 149ms/epoch - 14ms/step\n",
      "Epoch 39/200\n",
      "11/11 - 0s - loss: 1.5599e-04 - val_loss: 0.0054 - 187ms/epoch - 17ms/step\n",
      "Epoch 40/200\n",
      "11/11 - 0s - loss: 1.5750e-04 - val_loss: 0.0053 - 162ms/epoch - 15ms/step\n",
      "Epoch 41/200\n",
      "11/11 - 0s - loss: 1.5499e-04 - val_loss: 0.0054 - 142ms/epoch - 13ms/step\n",
      "Epoch 42/200\n",
      "11/11 - 0s - loss: 1.5804e-04 - val_loss: 0.0051 - 145ms/epoch - 13ms/step\n",
      "Epoch 43/200\n",
      "11/11 - 0s - loss: 1.5843e-04 - val_loss: 0.0052 - 148ms/epoch - 13ms/step\n",
      "Epoch 44/200\n",
      "11/11 - 0s - loss: 1.6116e-04 - val_loss: 0.0046 - 148ms/epoch - 13ms/step\n",
      "Epoch 45/200\n",
      "11/11 - 0s - loss: 1.6350e-04 - val_loss: 0.0050 - 137ms/epoch - 12ms/step\n",
      "Epoch 46/200\n",
      "11/11 - 0s - loss: 1.5811e-04 - val_loss: 0.0049 - 166ms/epoch - 15ms/step\n",
      "Epoch 47/200\n",
      "11/11 - 0s - loss: 1.5569e-04 - val_loss: 0.0049 - 144ms/epoch - 13ms/step\n",
      "Epoch 48/200\n",
      "11/11 - 0s - loss: 1.7396e-04 - val_loss: 0.0046 - 138ms/epoch - 13ms/step\n",
      "Epoch 49/200\n",
      "11/11 - 0s - loss: 1.5530e-04 - val_loss: 0.0045 - 161ms/epoch - 15ms/step\n",
      "Epoch 50/200\n",
      "11/11 - 0s - loss: 1.5279e-04 - val_loss: 0.0044 - 151ms/epoch - 14ms/step\n",
      "Epoch 51/200\n",
      "11/11 - 0s - loss: 1.5470e-04 - val_loss: 0.0050 - 156ms/epoch - 14ms/step\n",
      "Epoch 52/200\n",
      "11/11 - 0s - loss: 1.5507e-04 - val_loss: 0.0051 - 147ms/epoch - 13ms/step\n",
      "Epoch 53/200\n",
      "11/11 - 0s - loss: 1.6361e-04 - val_loss: 0.0048 - 164ms/epoch - 15ms/step\n",
      "Epoch 54/200\n",
      "11/11 - 0s - loss: 1.6145e-04 - val_loss: 0.0044 - 173ms/epoch - 16ms/step\n",
      "Epoch 55/200\n",
      "11/11 - 0s - loss: 1.6188e-04 - val_loss: 0.0047 - 157ms/epoch - 14ms/step\n",
      "Epoch 56/200\n",
      "11/11 - 0s - loss: 1.5624e-04 - val_loss: 0.0044 - 147ms/epoch - 13ms/step\n",
      "Epoch 57/200\n",
      "11/11 - 0s - loss: 1.5506e-04 - val_loss: 0.0043 - 150ms/epoch - 14ms/step\n",
      "Epoch 58/200\n",
      "11/11 - 0s - loss: 1.5753e-04 - val_loss: 0.0047 - 155ms/epoch - 14ms/step\n",
      "Epoch 59/200\n",
      "11/11 - 0s - loss: 1.5282e-04 - val_loss: 0.0047 - 161ms/epoch - 15ms/step\n",
      "Epoch 60/200\n",
      "11/11 - 0s - loss: 1.6010e-04 - val_loss: 0.0050 - 149ms/epoch - 14ms/step\n",
      "Epoch 61/200\n",
      "11/11 - 0s - loss: 1.5215e-04 - val_loss: 0.0045 - 159ms/epoch - 14ms/step\n",
      "Epoch 62/200\n",
      "11/11 - 0s - loss: 1.5333e-04 - val_loss: 0.0045 - 154ms/epoch - 14ms/step\n",
      "Epoch 63/200\n",
      "11/11 - 0s - loss: 1.5317e-04 - val_loss: 0.0045 - 151ms/epoch - 14ms/step\n",
      "Epoch 64/200\n",
      "11/11 - 0s - loss: 1.5503e-04 - val_loss: 0.0042 - 186ms/epoch - 17ms/step\n",
      "Epoch 65/200\n",
      "11/11 - 0s - loss: 1.5265e-04 - val_loss: 0.0042 - 197ms/epoch - 18ms/step\n",
      "Epoch 66/200\n",
      "11/11 - 0s - loss: 1.6520e-04 - val_loss: 0.0041 - 154ms/epoch - 14ms/step\n",
      "Epoch 67/200\n",
      "11/11 - 0s - loss: 1.8191e-04 - val_loss: 0.0048 - 157ms/epoch - 14ms/step\n",
      "Epoch 68/200\n",
      "11/11 - 0s - loss: 1.7631e-04 - val_loss: 0.0051 - 143ms/epoch - 13ms/step\n",
      "Epoch 69/200\n",
      "11/11 - 0s - loss: 1.6037e-04 - val_loss: 0.0051 - 169ms/epoch - 15ms/step\n",
      "Epoch 70/200\n",
      "11/11 - 0s - loss: 1.6077e-04 - val_loss: 0.0047 - 150ms/epoch - 14ms/step\n",
      "Epoch 71/200\n",
      "11/11 - 0s - loss: 1.6055e-04 - val_loss: 0.0041 - 196ms/epoch - 18ms/step\n",
      "Epoch 72/200\n",
      "11/11 - 0s - loss: 1.6741e-04 - val_loss: 0.0041 - 139ms/epoch - 13ms/step\n",
      "Epoch 73/200\n",
      "11/11 - 0s - loss: 1.5824e-04 - val_loss: 0.0041 - 169ms/epoch - 15ms/step\n",
      "Epoch 74/200\n",
      "11/11 - 0s - loss: 1.5809e-04 - val_loss: 0.0045 - 163ms/epoch - 15ms/step\n",
      "Epoch 75/200\n",
      "11/11 - 0s - loss: 1.5327e-04 - val_loss: 0.0042 - 171ms/epoch - 16ms/step\n",
      "Epoch 76/200\n",
      "11/11 - 0s - loss: 1.5809e-04 - val_loss: 0.0043 - 159ms/epoch - 14ms/step\n",
      "Epoch 77/200\n",
      "11/11 - 0s - loss: 1.5300e-04 - val_loss: 0.0041 - 163ms/epoch - 15ms/step\n",
      "Epoch 78/200\n",
      "11/11 - 0s - loss: 1.5051e-04 - val_loss: 0.0047 - 153ms/epoch - 14ms/step\n",
      "Epoch 79/200\n",
      "11/11 - 0s - loss: 1.6202e-04 - val_loss: 0.0040 - 167ms/epoch - 15ms/step\n",
      "Epoch 80/200\n",
      "11/11 - 0s - loss: 1.5234e-04 - val_loss: 0.0041 - 157ms/epoch - 14ms/step\n",
      "Epoch 81/200\n",
      "11/11 - 0s - loss: 1.5215e-04 - val_loss: 0.0039 - 154ms/epoch - 14ms/step\n",
      "Epoch 82/200\n",
      "11/11 - 0s - loss: 1.5339e-04 - val_loss: 0.0043 - 158ms/epoch - 14ms/step\n",
      "Epoch 83/200\n",
      "11/11 - 0s - loss: 1.5113e-04 - val_loss: 0.0045 - 174ms/epoch - 16ms/step\n",
      "Epoch 84/200\n",
      "11/11 - 0s - loss: 1.6170e-04 - val_loss: 0.0042 - 172ms/epoch - 16ms/step\n",
      "Epoch 85/200\n",
      "11/11 - 0s - loss: 1.6945e-04 - val_loss: 0.0044 - 157ms/epoch - 14ms/step\n",
      "Epoch 86/200\n",
      "11/11 - 0s - loss: 1.5956e-04 - val_loss: 0.0050 - 152ms/epoch - 14ms/step\n",
      "Epoch 87/200\n",
      "11/11 - 0s - loss: 1.7051e-04 - val_loss: 0.0045 - 139ms/epoch - 13ms/step\n",
      "Epoch 88/200\n",
      "11/11 - 0s - loss: 1.4949e-04 - val_loss: 0.0049 - 140ms/epoch - 13ms/step\n",
      "Epoch 89/200\n",
      "11/11 - 0s - loss: 1.6692e-04 - val_loss: 0.0037 - 185ms/epoch - 17ms/step\n",
      "Epoch 90/200\n",
      "11/11 - 0s - loss: 1.5364e-04 - val_loss: 0.0040 - 208ms/epoch - 19ms/step\n",
      "Epoch 91/200\n",
      "11/11 - 0s - loss: 1.5240e-04 - val_loss: 0.0044 - 188ms/epoch - 17ms/step\n",
      "Epoch 92/200\n",
      "11/11 - 0s - loss: 1.5897e-04 - val_loss: 0.0042 - 182ms/epoch - 17ms/step\n",
      "Epoch 93/200\n",
      "11/11 - 0s - loss: 1.5653e-04 - val_loss: 0.0045 - 152ms/epoch - 14ms/step\n",
      "Epoch 94/200\n",
      "11/11 - 0s - loss: 1.5925e-04 - val_loss: 0.0040 - 142ms/epoch - 13ms/step\n",
      "Epoch 95/200\n",
      "11/11 - 0s - loss: 1.7264e-04 - val_loss: 0.0049 - 155ms/epoch - 14ms/step\n",
      "Epoch 96/200\n",
      "11/11 - 0s - loss: 1.9705e-04 - val_loss: 0.0047 - 175ms/epoch - 16ms/step\n",
      "Epoch 97/200\n",
      "11/11 - 0s - loss: 1.7525e-04 - val_loss: 0.0044 - 191ms/epoch - 17ms/step\n",
      "Epoch 98/200\n",
      "11/11 - 0s - loss: 1.5544e-04 - val_loss: 0.0041 - 161ms/epoch - 15ms/step\n",
      "Epoch 99/200\n",
      "11/11 - 0s - loss: 1.5229e-04 - val_loss: 0.0045 - 162ms/epoch - 15ms/step\n",
      "Epoch 100/200\n",
      "11/11 - 0s - loss: 1.5089e-04 - val_loss: 0.0038 - 163ms/epoch - 15ms/step\n",
      "Epoch 101/200\n",
      "11/11 - 0s - loss: 1.6382e-04 - val_loss: 0.0039 - 181ms/epoch - 16ms/step\n",
      "Epoch 102/200\n",
      "11/11 - 0s - loss: 1.9426e-04 - val_loss: 0.0048 - 158ms/epoch - 14ms/step\n",
      "Epoch 103/200\n",
      "11/11 - 0s - loss: 1.6124e-04 - val_loss: 0.0040 - 165ms/epoch - 15ms/step\n",
      "Epoch 104/200\n",
      "11/11 - 0s - loss: 1.5895e-04 - val_loss: 0.0037 - 152ms/epoch - 14ms/step\n",
      "Epoch 105/200\n",
      "11/11 - 0s - loss: 1.8309e-04 - val_loss: 0.0036 - 176ms/epoch - 16ms/step\n",
      "Epoch 106/200\n",
      "11/11 - 0s - loss: 1.6654e-04 - val_loss: 0.0039 - 160ms/epoch - 15ms/step\n",
      "Epoch 107/200\n",
      "11/11 - 0s - loss: 1.6645e-04 - val_loss: 0.0041 - 162ms/epoch - 15ms/step\n",
      "Epoch 108/200\n",
      "11/11 - 0s - loss: 1.6122e-04 - val_loss: 0.0036 - 136ms/epoch - 12ms/step\n",
      "Epoch 109/200\n",
      "11/11 - 0s - loss: 1.6308e-04 - val_loss: 0.0044 - 160ms/epoch - 15ms/step\n",
      "Epoch 110/200\n",
      "11/11 - 0s - loss: 1.5237e-04 - val_loss: 0.0041 - 158ms/epoch - 14ms/step\n",
      "Epoch 111/200\n",
      "11/11 - 0s - loss: 1.5541e-04 - val_loss: 0.0041 - 153ms/epoch - 14ms/step\n",
      "Epoch 112/200\n",
      "11/11 - 0s - loss: 1.5708e-04 - val_loss: 0.0041 - 149ms/epoch - 14ms/step\n",
      "Epoch 113/200\n",
      "11/11 - 0s - loss: 1.6319e-04 - val_loss: 0.0039 - 167ms/epoch - 15ms/step\n",
      "Epoch 114/200\n",
      "11/11 - 0s - loss: 1.4973e-04 - val_loss: 0.0036 - 151ms/epoch - 14ms/step\n",
      "Epoch 115/200\n",
      "11/11 - 0s - loss: 1.5602e-04 - val_loss: 0.0044 - 146ms/epoch - 13ms/step\n",
      "Epoch 116/200\n",
      "11/11 - 0s - loss: 1.7882e-04 - val_loss: 0.0032 - 169ms/epoch - 15ms/step\n",
      "Epoch 117/200\n",
      "11/11 - 0s - loss: 1.7539e-04 - val_loss: 0.0040 - 146ms/epoch - 13ms/step\n",
      "Epoch 118/200\n",
      "11/11 - 0s - loss: 1.5368e-04 - val_loss: 0.0039 - 140ms/epoch - 13ms/step\n",
      "Epoch 119/200\n",
      "11/11 - 0s - loss: 1.5214e-04 - val_loss: 0.0038 - 141ms/epoch - 13ms/step\n",
      "Epoch 120/200\n",
      "11/11 - 0s - loss: 1.5998e-04 - val_loss: 0.0040 - 161ms/epoch - 15ms/step\n",
      "Epoch 121/200\n",
      "11/11 - 0s - loss: 1.6027e-04 - val_loss: 0.0040 - 141ms/epoch - 13ms/step\n",
      "Epoch 122/200\n",
      "11/11 - 0s - loss: 1.6306e-04 - val_loss: 0.0033 - 140ms/epoch - 13ms/step\n",
      "Epoch 123/200\n",
      "11/11 - 0s - loss: 1.5100e-04 - val_loss: 0.0036 - 138ms/epoch - 13ms/step\n",
      "Epoch 124/200\n",
      "11/11 - 0s - loss: 1.5836e-04 - val_loss: 0.0036 - 149ms/epoch - 14ms/step\n",
      "Epoch 125/200\n",
      "11/11 - 0s - loss: 1.5106e-04 - val_loss: 0.0038 - 149ms/epoch - 14ms/step\n",
      "Epoch 126/200\n",
      "11/11 - 0s - loss: 1.6081e-04 - val_loss: 0.0035 - 150ms/epoch - 14ms/step\n",
      "Epoch 127/200\n",
      "11/11 - 0s - loss: 1.7034e-04 - val_loss: 0.0038 - 150ms/epoch - 14ms/step\n",
      "Epoch 128/200\n",
      "11/11 - 0s - loss: 1.5168e-04 - val_loss: 0.0037 - 144ms/epoch - 13ms/step\n",
      "Epoch 129/200\n",
      "11/11 - 0s - loss: 1.6200e-04 - val_loss: 0.0037 - 139ms/epoch - 13ms/step\n",
      "Epoch 130/200\n",
      "11/11 - 0s - loss: 1.5771e-04 - val_loss: 0.0035 - 161ms/epoch - 15ms/step\n",
      "Epoch 131/200\n",
      "11/11 - 0s - loss: 1.7163e-04 - val_loss: 0.0034 - 139ms/epoch - 13ms/step\n",
      "Epoch 132/200\n",
      "11/11 - 0s - loss: 1.6796e-04 - val_loss: 0.0034 - 142ms/epoch - 13ms/step\n",
      "Epoch 133/200\n",
      "11/11 - 0s - loss: 1.9185e-04 - val_loss: 0.0037 - 166ms/epoch - 15ms/step\n",
      "Epoch 134/200\n",
      "11/11 - 0s - loss: 1.7748e-04 - val_loss: 0.0035 - 145ms/epoch - 13ms/step\n",
      "Epoch 135/200\n",
      "11/11 - 0s - loss: 1.6009e-04 - val_loss: 0.0031 - 140ms/epoch - 13ms/step\n",
      "Epoch 136/200\n",
      "11/11 - 0s - loss: 1.8225e-04 - val_loss: 0.0043 - 127ms/epoch - 12ms/step\n",
      "Epoch 137/200\n",
      "11/11 - 0s - loss: 1.7145e-04 - val_loss: 0.0041 - 150ms/epoch - 14ms/step\n",
      "Epoch 138/200\n",
      "11/11 - 0s - loss: 1.6150e-04 - val_loss: 0.0033 - 149ms/epoch - 14ms/step\n",
      "Epoch 139/200\n",
      "11/11 - 0s - loss: 1.9649e-04 - val_loss: 0.0033 - 143ms/epoch - 13ms/step\n",
      "Epoch 140/200\n",
      "11/11 - 0s - loss: 1.9177e-04 - val_loss: 0.0042 - 177ms/epoch - 16ms/step\n",
      "Epoch 141/200\n",
      "11/11 - 0s - loss: 1.5845e-04 - val_loss: 0.0041 - 151ms/epoch - 14ms/step\n",
      "Epoch 142/200\n",
      "11/11 - 0s - loss: 1.6534e-04 - val_loss: 0.0035 - 145ms/epoch - 13ms/step\n",
      "Epoch 143/200\n",
      "11/11 - 0s - loss: 1.7620e-04 - val_loss: 0.0040 - 142ms/epoch - 13ms/step\n",
      "Epoch 144/200\n",
      "11/11 - 0s - loss: 1.5473e-04 - val_loss: 0.0033 - 132ms/epoch - 12ms/step\n",
      "Epoch 145/200\n",
      "11/11 - 0s - loss: 1.8579e-04 - val_loss: 0.0042 - 116ms/epoch - 11ms/step\n",
      "Epoch 146/200\n",
      "11/11 - 0s - loss: 1.6291e-04 - val_loss: 0.0035 - 121ms/epoch - 11ms/step\n",
      "Epoch 147/200\n",
      "11/11 - 0s - loss: 1.5663e-04 - val_loss: 0.0043 - 143ms/epoch - 13ms/step\n",
      "Epoch 148/200\n",
      "11/11 - 0s - loss: 1.6765e-04 - val_loss: 0.0033 - 129ms/epoch - 12ms/step\n",
      "Epoch 149/200\n",
      "11/11 - 0s - loss: 1.5576e-04 - val_loss: 0.0034 - 129ms/epoch - 12ms/step\n",
      "Epoch 150/200\n",
      "11/11 - 0s - loss: 1.5319e-04 - val_loss: 0.0047 - 130ms/epoch - 12ms/step\n",
      "Epoch 151/200\n",
      "11/11 - 0s - loss: 1.7990e-04 - val_loss: 0.0036 - 123ms/epoch - 11ms/step\n",
      "Epoch 152/200\n",
      "11/11 - 0s - loss: 1.5647e-04 - val_loss: 0.0036 - 126ms/epoch - 11ms/step\n",
      "Epoch 153/200\n",
      "11/11 - 0s - loss: 1.6466e-04 - val_loss: 0.0032 - 140ms/epoch - 13ms/step\n",
      "Epoch 154/200\n",
      "11/11 - 0s - loss: 1.5474e-04 - val_loss: 0.0033 - 134ms/epoch - 12ms/step\n",
      "Epoch 155/200\n",
      "11/11 - 0s - loss: 1.5535e-04 - val_loss: 0.0031 - 133ms/epoch - 12ms/step\n",
      "Epoch 156/200\n",
      "11/11 - 0s - loss: 1.5507e-04 - val_loss: 0.0028 - 174ms/epoch - 16ms/step\n",
      "Epoch 157/200\n",
      "11/11 - 0s - loss: 1.5922e-04 - val_loss: 0.0041 - 134ms/epoch - 12ms/step\n",
      "Epoch 158/200\n",
      "11/11 - 0s - loss: 1.8251e-04 - val_loss: 0.0035 - 142ms/epoch - 13ms/step\n",
      "Epoch 159/200\n",
      "11/11 - 0s - loss: 2.0096e-04 - val_loss: 0.0030 - 124ms/epoch - 11ms/step\n",
      "Epoch 160/200\n",
      "11/11 - 0s - loss: 1.7303e-04 - val_loss: 0.0038 - 126ms/epoch - 11ms/step\n",
      "Epoch 161/200\n",
      "11/11 - 0s - loss: 1.5786e-04 - val_loss: 0.0031 - 162ms/epoch - 15ms/step\n",
      "Epoch 162/200\n",
      "11/11 - 0s - loss: 1.6516e-04 - val_loss: 0.0028 - 142ms/epoch - 13ms/step\n",
      "Epoch 163/200\n",
      "11/11 - 0s - loss: 1.6716e-04 - val_loss: 0.0034 - 121ms/epoch - 11ms/step\n",
      "Epoch 164/200\n",
      "11/11 - 0s - loss: 1.5324e-04 - val_loss: 0.0031 - 133ms/epoch - 12ms/step\n",
      "Epoch 165/200\n",
      "11/11 - 0s - loss: 1.5749e-04 - val_loss: 0.0040 - 144ms/epoch - 13ms/step\n",
      "Epoch 166/200\n",
      "11/11 - 0s - loss: 1.6185e-04 - val_loss: 0.0033 - 145ms/epoch - 13ms/step\n",
      "Epoch 167/200\n",
      "11/11 - 0s - loss: 1.9614e-04 - val_loss: 0.0033 - 146ms/epoch - 13ms/step\n",
      "Epoch 168/200\n",
      "11/11 - 0s - loss: 1.9309e-04 - val_loss: 0.0039 - 143ms/epoch - 13ms/step\n",
      "Epoch 169/200\n",
      "11/11 - 0s - loss: 1.6791e-04 - val_loss: 0.0027 - 134ms/epoch - 12ms/step\n",
      "Epoch 170/200\n",
      "11/11 - 0s - loss: 1.7353e-04 - val_loss: 0.0041 - 133ms/epoch - 12ms/step\n",
      "Epoch 171/200\n",
      "11/11 - 0s - loss: 1.7560e-04 - val_loss: 0.0038 - 130ms/epoch - 12ms/step\n",
      "Epoch 172/200\n",
      "11/11 - 0s - loss: 1.6114e-04 - val_loss: 0.0030 - 125ms/epoch - 11ms/step\n",
      "Epoch 173/200\n",
      "11/11 - 0s - loss: 1.5999e-04 - val_loss: 0.0027 - 137ms/epoch - 12ms/step\n",
      "Epoch 174/200\n",
      "11/11 - 0s - loss: 1.5419e-04 - val_loss: 0.0044 - 124ms/epoch - 11ms/step\n",
      "Epoch 175/200\n",
      "11/11 - 0s - loss: 1.8317e-04 - val_loss: 0.0033 - 178ms/epoch - 16ms/step\n",
      "Epoch 176/200\n",
      "11/11 - 0s - loss: 1.7604e-04 - val_loss: 0.0029 - 126ms/epoch - 11ms/step\n",
      "Epoch 177/200\n",
      "11/11 - 0s - loss: 1.6747e-04 - val_loss: 0.0038 - 101ms/epoch - 9ms/step\n",
      "Epoch 178/200\n",
      "11/11 - 0s - loss: 1.8445e-04 - val_loss: 0.0034 - 99ms/epoch - 9ms/step\n",
      "Epoch 179/200\n",
      "11/11 - 0s - loss: 1.5754e-04 - val_loss: 0.0033 - 101ms/epoch - 9ms/step\n",
      "Epoch 180/200\n",
      "11/11 - 0s - loss: 1.5285e-04 - val_loss: 0.0035 - 109ms/epoch - 10ms/step\n",
      "Epoch 181/200\n",
      "11/11 - 0s - loss: 1.6612e-04 - val_loss: 0.0027 - 120ms/epoch - 11ms/step\n",
      "Epoch 182/200\n",
      "11/11 - 0s - loss: 1.7582e-04 - val_loss: 0.0043 - 108ms/epoch - 10ms/step\n",
      "Epoch 183/200\n",
      "11/11 - 0s - loss: 1.8445e-04 - val_loss: 0.0026 - 116ms/epoch - 11ms/step\n",
      "Epoch 184/200\n",
      "11/11 - 0s - loss: 1.7388e-04 - val_loss: 0.0042 - 119ms/epoch - 11ms/step\n",
      "Epoch 185/200\n",
      "11/11 - 0s - loss: 1.7887e-04 - val_loss: 0.0030 - 109ms/epoch - 10ms/step\n",
      "Epoch 186/200\n",
      "11/11 - 0s - loss: 2.0037e-04 - val_loss: 0.0035 - 104ms/epoch - 9ms/step\n",
      "Epoch 187/200\n",
      "11/11 - 0s - loss: 1.6446e-04 - val_loss: 0.0034 - 125ms/epoch - 11ms/step\n",
      "Epoch 188/200\n",
      "11/11 - 0s - loss: 1.6158e-04 - val_loss: 0.0025 - 136ms/epoch - 12ms/step\n",
      "Epoch 189/200\n",
      "11/11 - 0s - loss: 1.7128e-04 - val_loss: 0.0035 - 120ms/epoch - 11ms/step\n",
      "Epoch 190/200\n",
      "11/11 - 0s - loss: 1.7283e-04 - val_loss: 0.0039 - 94ms/epoch - 9ms/step\n",
      "Epoch 191/200\n",
      "11/11 - 0s - loss: 1.8956e-04 - val_loss: 0.0031 - 113ms/epoch - 10ms/step\n",
      "Epoch 192/200\n",
      "11/11 - 0s - loss: 1.7793e-04 - val_loss: 0.0037 - 119ms/epoch - 11ms/step\n",
      "Epoch 193/200\n",
      "11/11 - 0s - loss: 2.0474e-04 - val_loss: 0.0030 - 114ms/epoch - 10ms/step\n",
      "Epoch 194/200\n",
      "11/11 - 0s - loss: 1.6354e-04 - val_loss: 0.0034 - 110ms/epoch - 10ms/step\n",
      "Epoch 195/200\n",
      "11/11 - 0s - loss: 1.5576e-04 - val_loss: 0.0036 - 123ms/epoch - 11ms/step\n",
      "Epoch 196/200\n",
      "11/11 - 0s - loss: 1.6425e-04 - val_loss: 0.0031 - 125ms/epoch - 11ms/step\n",
      "Epoch 197/200\n",
      "11/11 - 0s - loss: 1.6612e-04 - val_loss: 0.0032 - 109ms/epoch - 10ms/step\n",
      "Epoch 198/200\n",
      "11/11 - 0s - loss: 1.5985e-04 - val_loss: 0.0034 - 97ms/epoch - 9ms/step\n",
      "Epoch 199/200\n",
      "11/11 - 0s - loss: 1.5390e-04 - val_loss: 0.0037 - 98ms/epoch - 9ms/step\n",
      "Epoch 200/200\n",
      "11/11 - 0s - loss: 1.6021e-04 - val_loss: 0.0026 - 105ms/epoch - 10ms/step\n"
     ]
    }
   ],
   "source": [
    "history = model.fit(X_train,y_train,validation_data=(X_test,ytest),epochs=200,verbose=2)"
   ]
  },
  {
   "cell_type": "code",
   "execution_count": 20,
   "metadata": {},
   "outputs": [
    {
     "data": {
      "image/png": "[encoded data removed]",
      "text/plain": [
       "<Figure size 576x432 with 1 Axes>"
      ]
     },
     "metadata": {},
     "output_type": "display_data"
    }
   ],
   "source": [
    "from matplotlib.pyplot import figure\n",
    "figure(figsize=(8, 6))\n",
    "plt.plot(history.history['loss'])\n",
    "plt.plot(history.history['val_loss'])\n",
    "plt.title('model loss')\n",
    "plt.ylabel('loss')\n",
    "plt.xlabel('epoch')\n",
    "plt.legend(['train', 'test'], loc='upper right')\n",
    "plt.show()"
   ]
  },
  {
   "cell_type": "code",
   "execution_count": 21,
   "metadata": {},
   "outputs": [
    {
     "name": "stdout",
     "output_type": "stream",
     "text": [
      "11/11 [==============================] - 0s 2ms/step\n",
      "6/6 [==============================] - 0s 3ms/step\n"
     ]
    }
   ],
   "source": [
    "train_predict=model.predict(X_train)\n",
    "test_predict=model.predict(X_test)"
   ]
  },
  {
   "cell_type": "code",
   "execution_count": 22,
   "metadata": {},
   "outputs": [],
   "source": [
    "rstrain_predict=scaler.inverse_transform(train_predict)\n",
    "rstest_predict=scaler.inverse_transform(test_predict)\n",
    "rsytest=scaler.inverse_transform(np.array(ytest).reshape(-1,1))\n",
    "rsytrain=scaler.inverse_transform(np.array(y_train).reshape(-1,1))"
   ]
  },
  {
   "cell_type": "code",
   "execution_count": 23,
   "metadata": {},
   "outputs": [
    {
     "name": "stdout",
     "output_type": "stream",
     "text": [
      "8.052618908701284\n"
     ]
    }
   ],
   "source": [
    "RMSE_train=math.sqrt(mean_squared_error(rsytrain,rstrain_predict))\n",
    "print(RMSE_train)"
   ]
  },
  {
   "cell_type": "code",
   "execution_count": 24,
   "metadata": {},
   "outputs": [
    {
     "name": "stdout",
     "output_type": "stream",
     "text": [
      "RMSE: 30.45214493396852\n",
      "MAE: 17.822681119297073\n",
      "R-Squared: 0.9181623332481573\n"
     ]
    }
   ],
   "source": [
    "RMSE_test=math.sqrt(mean_squared_error(rsytest,rstest_predict))\n",
    "MAE_test=mean_absolute_error(rsytest,rstest_predict)\n",
    "R2_test=r2_score(rsytest,rstest_predict)\n",
    "print(\"RMSE:\", RMSE_test)\n",
    "print(\"MAE:\", MAE_test)\n",
    "print(\"R-Squared:\", R2_test)"
   ]
  },
  {
   "cell_type": "code",
   "execution_count": 54,
   "metadata": {},
   "outputs": [
    {
     "data": {
      "image/png": "[encoded data removed]",
      "text/plain": [
       "<Figure size 720x432 with 1 Axes>"
      ]
     },
     "metadata": {},
     "output_type": "display_data"
    }
   ],
   "source": [
    "fig, ax = plt.subplots()\n",
    "fig = plt.gcf()\n",
    "fig.set_size_inches(10, 6)\n",
    "\n",
    "ax.plot(rsytest,label = \"Actual\")\n",
    "ax.plot(rstest_predict,label = \"Predicted\")\n",
    "\n",
    "ax.set_xlabel('Day', fontsize=14, fontweight='bold')\n",
    "ax.set_ylabel('price(BTN)', fontsize=14, fontweight='bold')\n",
    "\n",
    "# Set x and y ticks\n",
    "ax.tick_params(axis='x', labelsize=20)\n",
    "ax.tick_params(axis='y', labelsize=20)\n",
    "\n",
    "plt.title('Predicted values vs Actual values', fontsize = 14)\n",
    "ax.legend(fontsize = 14)\n",
    "plt.show()"
   ]
  },
  {
   "cell_type": "code",
   "execution_count": 26,
   "metadata": {},
   "outputs": [
    {
     "data": {
      "image/png": "[encoded data removed]",
      "text/plain": [
       "<Figure size 720x360 with 1 Axes>"
      ]
     },
     "metadata": {},
     "output_type": "display_data"
    }
   ],
   "source": [
    "look_back=10\n",
    "trainPredictPlot = numpy.empty_like(data1)\n",
    "trainPredictPlot[:, :] = np.nan\n",
    "trainPredictPlot[look_back:len(train_predict)+look_back, :] = rstrain_predict\n",
    "# shift test predictions for plotting\n",
    "testPredictPlot = numpy.empty_like(data1)\n",
    "testPredictPlot[:, :] = numpy.nan\n",
    "testPredictPlot[len(train_predict)+(look_back*2)+1:len(data1)-1, :] = rstest_predict\n",
    "# plot baseline and predictions\n",
    "plt.figure(figsize=(10,5))\n",
    "plt.plot(scaler.inverse_transform(data1))\n",
    "plt.plot(trainPredictPlot,label='Train_prediction')\n",
    "plt.plot(testPredictPlot, label='Test_prediction')\n",
    "plt.title('BTCK Gated Recurrent Unit Plot', fontsize=20)\n",
    "plt.ylabel('Price')\n",
    "plt.xlabel('Number of Days')\n",
    "plt.legend()\n",
    "plt.show()"
   ]
  },
  {
   "cell_type": "code",
   "execution_count": 27,
   "metadata": {},
   "outputs": [
    {
     "data": {
      "text/plain": [
       "192"
      ]
     },
     "execution_count": 27,
     "metadata": {},
     "output_type": "execute_result"
    }
   ],
   "source": [
    "len(test_data)"
   ]
  },
  {
   "cell_type": "code",
   "execution_count": 28,
   "metadata": {},
   "outputs": [
    {
     "data": {
      "text/plain": [
       "(1, 10)"
      ]
     },
     "execution_count": 28,
     "metadata": {},
     "output_type": "execute_result"
    }
   ],
   "source": [
    "x_input=test_data[182:].reshape(1,-1)\n",
    "x_input.shape"
   ]
  },
  {
   "cell_type": "code",
   "execution_count": 29,
   "metadata": {},
   "outputs": [
    {
     "data": {
      "text/plain": [
       "[0.9196518245731502,\n",
       " 0.959156344158018,\n",
       " 0.9792433880147304,\n",
       " 0.9792433880147304,\n",
       " 0.9792433880147304,\n",
       " 0.9792433880147304,\n",
       " 0.9792433880147304,\n",
       " 0.9792433880147304,\n",
       " 1.0,\n",
       " 0.9792433880147304]"
      ]
     },
     "execution_count": 29,
     "metadata": {},
     "output_type": "execute_result"
    }
   ],
   "source": [
    "temp_input=list(x_input)\n",
    "temp_input=temp_input[0].tolist()\n",
    "temp_input"
   ]
  },
  {
   "cell_type": "code",
   "execution_count": 30,
   "metadata": {},
   "outputs": [],
   "source": [
    "lst_output=[]\n",
    "n_steps=10\n",
    "i=0\n",
    "while(i<30):\n",
    "    \n",
    "    if(len(temp_input)>10):\n",
    "        #print(temp_input)\n",
    "        x_input=np.array(temp_input[1:])\n",
    "        #print(\"{} day input {}\".format(i,x_input))\n",
    "        x_input=x_input.reshape(1,-1)\n",
    "        x_input = x_input.reshape((1, n_steps, 1))\n",
    "        #print(x_input)\n",
    "        yhat = model.predict(x_input, verbose=0)\n",
    "        #print(\"{} day output {}\".format(i,yhat))\n",
    "        temp_input.extend(yhat[0].tolist())\n",
    "        temp_input=temp_input[1:]\n",
    "        #print(temp_input)\n",
    "        lst_output.extend(yhat.tolist())\n",
    "        i=i+1\n",
    "    else:\n",
    "        x_input = x_input.reshape((1, n_steps,1))\n",
    "        yhat = model.predict(x_input, verbose=0)\n",
    "        #print(yhat[0])\n",
    "        temp_input.extend(yhat[0].tolist())\n",
    "        #print(len(temp_input))\n",
    "        lst_output.extend(yhat.tolist())\n",
    "        i=i+1\n",
    "    "
   ]
  },
  {
   "cell_type": "code",
   "execution_count": 31,
   "metadata": {},
   "outputs": [],
   "source": [
    "forecast_rescaled=scaler.inverse_transform(lst_output)"
   ]
  },
  {
   "cell_type": "code",
   "execution_count": 32,
   "metadata": {},
   "outputs": [
    {
     "data": {
      "text/plain": [
       "array([[549.81296542],\n",
       "       [510.52800281],\n",
       "       [476.32548604],\n",
       "       [446.32786051],\n",
       "       [419.96981655],\n",
       "       [396.78731313],\n",
       "       [376.38122224],\n",
       "       [358.34273056],\n",
       "       [342.42290386],\n",
       "       [328.37387614],\n",
       "       [315.96768618],\n",
       "       [305.00717349],\n",
       "       [295.31818026],\n",
       "       [286.7521863 ],\n",
       "       [279.17989962],\n",
       "       [272.48780252],\n",
       "       [266.57950463],\n",
       "       [261.3635651 ],\n",
       "       [256.75862006],\n",
       "       [252.69345388],\n",
       "       [249.10386568],\n",
       "       [245.93420044],\n",
       "       [243.13560424],\n",
       "       [240.66403021],\n",
       "       [238.48130677],\n",
       "       [236.55374893],\n",
       "       [234.85119687],\n",
       "       [233.34733642],\n",
       "       [232.01891568],\n",
       "       [230.84538893]])"
      ]
     },
     "execution_count": 32,
     "metadata": {},
     "output_type": "execute_result"
    }
   ],
   "source": [
    "forecast_rescaled"
   ]
  },
  {
   "cell_type": "code",
   "execution_count": 33,
   "metadata": {},
   "outputs": [],
   "source": [
    "day_new=np.arange(0,547)\n",
    "day_pred=np.arange(547,577)"
   ]
  },
  {
   "cell_type": "code",
   "execution_count": 34,
   "metadata": {},
   "outputs": [
    {
     "data": {
      "text/html": [
       "<div>\n",
       "<style scoped>\n",
       "    .dataframe tbody tr th:only-of-type {\n",
       "        vertical-align: middle;\n",
       "    }\n",
       "\n",
       "    .dataframe tbody tr th {\n",
       "        vertical-align: top;\n",
       "    }\n",
       "\n",
       "    .dataframe thead th {\n",
       "        text-align: right;\n",
       "    }\n",
       "</style>\n",
       "<table border=\"1\" class=\"dataframe\">\n",
       "  <thead>\n",
       "    <tr style=\"text-align: right;\">\n",
       "      <th></th>\n",
       "      <th>predicted_price</th>\n",
       "    </tr>\n",
       "  </thead>\n",
       "  <tbody>\n",
       "    <tr>\n",
       "      <th>0</th>\n",
       "      <td>549.812965</td>\n",
       "    </tr>\n",
       "    <tr>\n",
       "      <th>1</th>\n",
       "      <td>510.528003</td>\n",
       "    </tr>\n",
       "    <tr>\n",
       "      <th>2</th>\n",
       "      <td>476.325486</td>\n",
       "    </tr>\n",
       "    <tr>\n",
       "      <th>3</th>\n",
       "      <td>446.327861</td>\n",
       "    </tr>\n",
       "    <tr>\n",
       "      <th>4</th>\n",
       "      <td>419.969817</td>\n",
       "    </tr>\n",
       "  </tbody>\n",
       "</table>\n",
       "</div>"
      ],
      "text/plain": [
       "   predicted_price\n",
       "0       549.812965\n",
       "1       510.528003\n",
       "2       476.325486\n",
       "3       446.327861\n",
       "4       419.969817"
      ]
     },
     "execution_count": 34,
     "metadata": {},
     "output_type": "execute_result"
    }
   ],
   "source": [
    "forecast = pd.DataFrame(forecast_rescaled, columns = ['predicted_price'])\n",
    "forecast.head()"
   ]
  },
  {
   "cell_type": "code",
   "execution_count": 35,
   "metadata": {},
   "outputs": [
    {
     "data": {
      "text/html": [
       "<div>\n",
       "<style scoped>\n",
       "    .dataframe tbody tr th:only-of-type {\n",
       "        vertical-align: middle;\n",
       "    }\n",
       "\n",
       "    .dataframe tbody tr th {\n",
       "        vertical-align: top;\n",
       "    }\n",
       "\n",
       "    .dataframe thead th {\n",
       "        text-align: right;\n",
       "    }\n",
       "</style>\n",
       "<table border=\"1\" class=\"dataframe\">\n",
       "  <thead>\n",
       "    <tr style=\"text-align: right;\">\n",
       "      <th></th>\n",
       "      <th>price</th>\n",
       "    </tr>\n",
       "    <tr>\n",
       "      <th>date</th>\n",
       "      <th></th>\n",
       "    </tr>\n",
       "  </thead>\n",
       "  <tbody>\n",
       "    <tr>\n",
       "      <th>2020-04-23</th>\n",
       "      <td>158.0</td>\n",
       "    </tr>\n",
       "    <tr>\n",
       "      <th>2020-04-24</th>\n",
       "      <td>158.0</td>\n",
       "    </tr>\n",
       "    <tr>\n",
       "      <th>2020-04-27</th>\n",
       "      <td>158.0</td>\n",
       "    </tr>\n",
       "    <tr>\n",
       "      <th>2020-04-28</th>\n",
       "      <td>158.0</td>\n",
       "    </tr>\n",
       "    <tr>\n",
       "      <th>2020-04-29</th>\n",
       "      <td>158.0</td>\n",
       "    </tr>\n",
       "    <tr>\n",
       "      <th>...</th>\n",
       "      <td>...</td>\n",
       "    </tr>\n",
       "    <tr>\n",
       "      <th>2022-07-11</th>\n",
       "      <td>625.0</td>\n",
       "    </tr>\n",
       "    <tr>\n",
       "      <th>2022-07-12</th>\n",
       "      <td>625.0</td>\n",
       "    </tr>\n",
       "    <tr>\n",
       "      <th>2022-07-13</th>\n",
       "      <td>625.0</td>\n",
       "    </tr>\n",
       "    <tr>\n",
       "      <th>2022-07-14</th>\n",
       "      <td>637.4</td>\n",
       "    </tr>\n",
       "    <tr>\n",
       "      <th>2022-07-15</th>\n",
       "      <td>625.0</td>\n",
       "    </tr>\n",
       "  </tbody>\n",
       "</table>\n",
       "<p>548 rows × 1 columns</p>\n",
       "</div>"
      ],
      "text/plain": [
       "            price\n",
       "date             \n",
       "2020-04-23  158.0\n",
       "2020-04-24  158.0\n",
       "2020-04-27  158.0\n",
       "2020-04-28  158.0\n",
       "2020-04-29  158.0\n",
       "...           ...\n",
       "2022-07-11  625.0\n",
       "2022-07-12  625.0\n",
       "2022-07-13  625.0\n",
       "2022-07-14  637.4\n",
       "2022-07-15  625.0\n",
       "\n",
       "[548 rows x 1 columns]"
      ]
     },
     "execution_count": 35,
     "metadata": {},
     "output_type": "execute_result"
    }
   ],
   "source": [
    "data"
   ]
  },
  {
   "cell_type": "code",
   "execution_count": 36,
   "metadata": {},
   "outputs": [
    {
     "data": {
      "text/html": [
       "<div>\n",
       "<style scoped>\n",
       "    .dataframe tbody tr th:only-of-type {\n",
       "        vertical-align: middle;\n",
       "    }\n",
       "\n",
       "    .dataframe tbody tr th {\n",
       "        vertical-align: top;\n",
       "    }\n",
       "\n",
       "    .dataframe thead th {\n",
       "        text-align: right;\n",
       "    }\n",
       "</style>\n",
       "<table border=\"1\" class=\"dataframe\">\n",
       "  <thead>\n",
       "    <tr style=\"text-align: right;\">\n",
       "      <th></th>\n",
       "      <th>predicted_price</th>\n",
       "      <th>date</th>\n",
       "    </tr>\n",
       "  </thead>\n",
       "  <tbody>\n",
       "    <tr>\n",
       "      <th>0</th>\n",
       "      <td>549.812965</td>\n",
       "      <td>2022-07-15</td>\n",
       "    </tr>\n",
       "    <tr>\n",
       "      <th>1</th>\n",
       "      <td>510.528003</td>\n",
       "      <td>2022-07-16</td>\n",
       "    </tr>\n",
       "    <tr>\n",
       "      <th>2</th>\n",
       "      <td>476.325486</td>\n",
       "      <td>2022-07-17</td>\n",
       "    </tr>\n",
       "    <tr>\n",
       "      <th>3</th>\n",
       "      <td>446.327861</td>\n",
       "      <td>2022-07-18</td>\n",
       "    </tr>\n",
       "    <tr>\n",
       "      <th>4</th>\n",
       "      <td>419.969817</td>\n",
       "      <td>2022-07-19</td>\n",
       "    </tr>\n",
       "  </tbody>\n",
       "</table>\n",
       "</div>"
      ],
      "text/plain": [
       "   predicted_price       date\n",
       "0       549.812965 2022-07-15\n",
       "1       510.528003 2022-07-16\n",
       "2       476.325486 2022-07-17\n",
       "3       446.327861 2022-07-18\n",
       "4       419.969817 2022-07-19"
      ]
     },
     "execution_count": 36,
     "metadata": {},
     "output_type": "execute_result"
    }
   ],
   "source": [
    "forecast['date'] = pd.date_range(start='2022-07-15', periods=30, freq='D')\n",
    "forecast.head()"
   ]
  },
  {
   "cell_type": "code",
   "execution_count": 37,
   "metadata": {},
   "outputs": [
    {
     "data": {
      "text/html": [
       "<div>\n",
       "<style scoped>\n",
       "    .dataframe tbody tr th:only-of-type {\n",
       "        vertical-align: middle;\n",
       "    }\n",
       "\n",
       "    .dataframe tbody tr th {\n",
       "        vertical-align: top;\n",
       "    }\n",
       "\n",
       "    .dataframe thead th {\n",
       "        text-align: right;\n",
       "    }\n",
       "</style>\n",
       "<table border=\"1\" class=\"dataframe\">\n",
       "  <thead>\n",
       "    <tr style=\"text-align: right;\">\n",
       "      <th></th>\n",
       "      <th>predicted_price</th>\n",
       "    </tr>\n",
       "    <tr>\n",
       "      <th>date</th>\n",
       "      <th></th>\n",
       "    </tr>\n",
       "  </thead>\n",
       "  <tbody>\n",
       "    <tr>\n",
       "      <th>2022-07-15</th>\n",
       "      <td>549.812965</td>\n",
       "    </tr>\n",
       "    <tr>\n",
       "      <th>2022-07-16</th>\n",
       "      <td>510.528003</td>\n",
       "    </tr>\n",
       "    <tr>\n",
       "      <th>2022-07-17</th>\n",
       "      <td>476.325486</td>\n",
       "    </tr>\n",
       "    <tr>\n",
       "      <th>2022-07-18</th>\n",
       "      <td>446.327861</td>\n",
       "    </tr>\n",
       "    <tr>\n",
       "      <th>2022-07-19</th>\n",
       "      <td>419.969817</td>\n",
       "    </tr>\n",
       "    <tr>\n",
       "      <th>2022-07-20</th>\n",
       "      <td>396.787313</td>\n",
       "    </tr>\n",
       "    <tr>\n",
       "      <th>2022-07-21</th>\n",
       "      <td>376.381222</td>\n",
       "    </tr>\n",
       "    <tr>\n",
       "      <th>2022-07-22</th>\n",
       "      <td>358.342731</td>\n",
       "    </tr>\n",
       "    <tr>\n",
       "      <th>2022-07-23</th>\n",
       "      <td>342.422904</td>\n",
       "    </tr>\n",
       "    <tr>\n",
       "      <th>2022-07-24</th>\n",
       "      <td>328.373876</td>\n",
       "    </tr>\n",
       "    <tr>\n",
       "      <th>2022-07-25</th>\n",
       "      <td>315.967686</td>\n",
       "    </tr>\n",
       "    <tr>\n",
       "      <th>2022-07-26</th>\n",
       "      <td>305.007173</td>\n",
       "    </tr>\n",
       "    <tr>\n",
       "      <th>2022-07-27</th>\n",
       "      <td>295.318180</td>\n",
       "    </tr>\n",
       "    <tr>\n",
       "      <th>2022-07-28</th>\n",
       "      <td>286.752186</td>\n",
       "    </tr>\n",
       "    <tr>\n",
       "      <th>2022-07-29</th>\n",
       "      <td>279.179900</td>\n",
       "    </tr>\n",
       "    <tr>\n",
       "      <th>2022-07-30</th>\n",
       "      <td>272.487803</td>\n",
       "    </tr>\n",
       "    <tr>\n",
       "      <th>2022-07-31</th>\n",
       "      <td>266.579505</td>\n",
       "    </tr>\n",
       "    <tr>\n",
       "      <th>2022-08-01</th>\n",
       "      <td>261.363565</td>\n",
       "    </tr>\n",
       "    <tr>\n",
       "      <th>2022-08-02</th>\n",
       "      <td>256.758620</td>\n",
       "    </tr>\n",
       "    <tr>\n",
       "      <th>2022-08-03</th>\n",
       "      <td>252.693454</td>\n",
       "    </tr>\n",
       "    <tr>\n",
       "      <th>2022-08-04</th>\n",
       "      <td>249.103866</td>\n",
       "    </tr>\n",
       "    <tr>\n",
       "      <th>2022-08-05</th>\n",
       "      <td>245.934200</td>\n",
       "    </tr>\n",
       "    <tr>\n",
       "      <th>2022-08-06</th>\n",
       "      <td>243.135604</td>\n",
       "    </tr>\n",
       "    <tr>\n",
       "      <th>2022-08-07</th>\n",
       "      <td>240.664030</td>\n",
       "    </tr>\n",
       "    <tr>\n",
       "      <th>2022-08-08</th>\n",
       "      <td>238.481307</td>\n",
       "    </tr>\n",
       "    <tr>\n",
       "      <th>2022-08-09</th>\n",
       "      <td>236.553749</td>\n",
       "    </tr>\n",
       "    <tr>\n",
       "      <th>2022-08-10</th>\n",
       "      <td>234.851197</td>\n",
       "    </tr>\n",
       "    <tr>\n",
       "      <th>2022-08-11</th>\n",
       "      <td>233.347336</td>\n",
       "    </tr>\n",
       "    <tr>\n",
       "      <th>2022-08-12</th>\n",
       "      <td>232.018916</td>\n",
       "    </tr>\n",
       "    <tr>\n",
       "      <th>2022-08-13</th>\n",
       "      <td>230.845389</td>\n",
       "    </tr>\n",
       "  </tbody>\n",
       "</table>\n",
       "</div>"
      ],
      "text/plain": [
       "            predicted_price\n",
       "date                       \n",
       "2022-07-15       549.812965\n",
       "2022-07-16       510.528003\n",
       "2022-07-17       476.325486\n",
       "2022-07-18       446.327861\n",
       "2022-07-19       419.969817\n",
       "2022-07-20       396.787313\n",
       "2022-07-21       376.381222\n",
       "2022-07-22       358.342731\n",
       "2022-07-23       342.422904\n",
       "2022-07-24       328.373876\n",
       "2022-07-25       315.967686\n",
       "2022-07-26       305.007173\n",
       "2022-07-27       295.318180\n",
       "2022-07-28       286.752186\n",
       "2022-07-29       279.179900\n",
       "2022-07-30       272.487803\n",
       "2022-07-31       266.579505\n",
       "2022-08-01       261.363565\n",
       "2022-08-02       256.758620\n",
       "2022-08-03       252.693454\n",
       "2022-08-04       249.103866\n",
       "2022-08-05       245.934200\n",
       "2022-08-06       243.135604\n",
       "2022-08-07       240.664030\n",
       "2022-08-08       238.481307\n",
       "2022-08-09       236.553749\n",
       "2022-08-10       234.851197\n",
       "2022-08-11       233.347336\n",
       "2022-08-12       232.018916\n",
       "2022-08-13       230.845389"
      ]
     },
     "execution_count": 37,
     "metadata": {},
     "output_type": "execute_result"
    }
   ],
   "source": [
    "forecast = forecast.set_index('date')\n",
    "forecast"
   ]
  },
  {
   "cell_type": "code",
   "execution_count": 38,
   "metadata": {},
   "outputs": [
    {
     "data": {
      "image/png": "[encoded data removed]",
      "text/plain": [
       "<Figure size 432x288 with 1 Axes>"
      ]
     },
     "metadata": {},
     "output_type": "display_data"
    }
   ],
   "source": [
    "plt.plot(day_new,scaler.inverse_transform(data1[1:]))\n",
    "plt.plot(day_pred,scaler.inverse_transform(lst_output))\n",
    "plt.show()"
   ]
  },
  {
   "cell_type": "code",
   "execution_count": 39,
   "metadata": {},
   "outputs": [
    {
     "data": {
      "image/png": "[encoded data removed]",
      "text/plain": [
       "<Figure size 3000x1500 with 1 Axes>"
      ]
     },
     "metadata": {},
     "output_type": "display_data"
    }
   ],
   "source": [
    "plt.figure(figsize=(10,5),dpi=300)\n",
    "plt.plot(scaler.inverse_transform(data1), label='Original Data')\n",
    "plt.plot(trainPredictPlot,label='Train_prediction')\n",
    "plt.plot(testPredictPlot, label='Test_prediction')\n",
    "plt.plot(day_pred,scaler.inverse_transform(lst_output), label='Forecast')\n",
    "plt.title('BNB Gated Recurrent Unit Plot', fontsize=20)\n",
    "plt.ylabel('Price')\n",
    "plt.xlabel('Number of Days')\n",
    "plt.legend()\n",
    "plt.show()"
   ]
  },
  {
   "cell_type": "code",
   "execution_count": 40,
   "metadata": {},
   "outputs": [],
   "source": [
    "forecast = forecast.to_csv('predictedData/btcl_gru_forecast.csv')"
   ]
  },
  {
   "cell_type": "code",
   "execution_count": 41,
   "metadata": {},
   "outputs": [
    {
     "data": {
      "text/plain": [
       "30"
      ]
     },
     "execution_count": 41,
     "metadata": {},
     "output_type": "execute_result"
    }
   ],
   "source": [
    "len(day_pred)"
   ]
  },
  {
   "cell_type": "code",
   "execution_count": 42,
   "metadata": {},
   "outputs": [
    {
     "data": {
      "text/plain": [
       "30"
      ]
     },
     "execution_count": 42,
     "metadata": {},
     "output_type": "execute_result"
    }
   ],
   "source": [
    "len(forecast_rescaled)"
   ]
  },
  {
   "cell_type": "code",
   "execution_count": 43,
   "metadata": {},
   "outputs": [
    {
     "data": {
      "text/plain": [
       "548"
      ]
     },
     "execution_count": 43,
     "metadata": {},
     "output_type": "execute_result"
    }
   ],
   "source": [
    "len(testPredictPlot)"
   ]
  },
  {
   "cell_type": "code",
   "execution_count": 44,
   "metadata": {},
   "outputs": [
    {
     "data": {
      "text/plain": [
       "367"
      ]
     },
     "execution_count": 44,
     "metadata": {},
     "output_type": "execute_result"
    }
   ],
   "source": [
    "np.count_nonzero(np.isnan(testPredictPlot))"
   ]
  },
  {
   "cell_type": "code",
   "execution_count": 45,
   "metadata": {},
   "outputs": [
    {
     "data": {
      "text/plain": [
       "<bound method NDFrame.head of      predicted_price\n",
       "0                NaN\n",
       "1                NaN\n",
       "2                NaN\n",
       "3                NaN\n",
       "4                NaN\n",
       "..               ...\n",
       "543       546.414185\n",
       "544       547.090698\n",
       "545       547.350708\n",
       "546       547.451660\n",
       "547              NaN\n",
       "\n",
       "[548 rows x 1 columns]>"
      ]
     },
     "execution_count": 45,
     "metadata": {},
     "output_type": "execute_result"
    }
   ],
   "source": [
    "#convert numpy array to DF\n",
    "test = pd.DataFrame(testPredictPlot, columns = ['predicted_price'])\n",
    "test.head"
   ]
  },
  {
   "cell_type": "code",
   "execution_count": 46,
   "metadata": {},
   "outputs": [
    {
     "data": {
      "text/plain": [
       "predicted_price    367\n",
       "dtype: int64"
      ]
     },
     "execution_count": 46,
     "metadata": {},
     "output_type": "execute_result"
    }
   ],
   "source": [
    "test.isnull().sum()"
   ]
  },
  {
   "cell_type": "code",
   "execution_count": 47,
   "metadata": {},
   "outputs": [
    {
     "data": {
      "text/html": [
       "<div>\n",
       "<style scoped>\n",
       "    .dataframe tbody tr th:only-of-type {\n",
       "        vertical-align: middle;\n",
       "    }\n",
       "\n",
       "    .dataframe tbody tr th {\n",
       "        vertical-align: top;\n",
       "    }\n",
       "\n",
       "    .dataframe thead th {\n",
       "        text-align: right;\n",
       "    }\n",
       "</style>\n",
       "<table border=\"1\" class=\"dataframe\">\n",
       "  <thead>\n",
       "    <tr style=\"text-align: right;\">\n",
       "      <th></th>\n",
       "      <th>predicted_price</th>\n",
       "    </tr>\n",
       "  </thead>\n",
       "  <tbody>\n",
       "    <tr>\n",
       "      <th>366</th>\n",
       "      <td>206.709351</td>\n",
       "    </tr>\n",
       "    <tr>\n",
       "      <th>367</th>\n",
       "      <td>206.709351</td>\n",
       "    </tr>\n",
       "    <tr>\n",
       "      <th>368</th>\n",
       "      <td>206.709351</td>\n",
       "    </tr>\n",
       "    <tr>\n",
       "      <th>369</th>\n",
       "      <td>206.709351</td>\n",
       "    </tr>\n",
       "    <tr>\n",
       "      <th>370</th>\n",
       "      <td>206.709351</td>\n",
       "    </tr>\n",
       "    <tr>\n",
       "      <th>...</th>\n",
       "      <td>...</td>\n",
       "    </tr>\n",
       "    <tr>\n",
       "      <th>542</th>\n",
       "      <td>544.654480</td>\n",
       "    </tr>\n",
       "    <tr>\n",
       "      <th>543</th>\n",
       "      <td>546.414185</td>\n",
       "    </tr>\n",
       "    <tr>\n",
       "      <th>544</th>\n",
       "      <td>547.090698</td>\n",
       "    </tr>\n",
       "    <tr>\n",
       "      <th>545</th>\n",
       "      <td>547.350708</td>\n",
       "    </tr>\n",
       "    <tr>\n",
       "      <th>546</th>\n",
       "      <td>547.451660</td>\n",
       "    </tr>\n",
       "  </tbody>\n",
       "</table>\n",
       "<p>181 rows × 1 columns</p>\n",
       "</div>"
      ],
      "text/plain": [
       "     predicted_price\n",
       "366       206.709351\n",
       "367       206.709351\n",
       "368       206.709351\n",
       "369       206.709351\n",
       "370       206.709351\n",
       "..               ...\n",
       "542       544.654480\n",
       "543       546.414185\n",
       "544       547.090698\n",
       "545       547.350708\n",
       "546       547.451660\n",
       "\n",
       "[181 rows x 1 columns]"
      ]
     },
     "execution_count": 47,
     "metadata": {},
     "output_type": "execute_result"
    }
   ],
   "source": [
    "test = test.dropna()\n",
    "test"
   ]
  },
  {
   "cell_type": "code",
   "execution_count": 48,
   "metadata": {},
   "outputs": [
    {
     "data": {
      "text/plain": [
       "356"
      ]
     },
     "execution_count": 48,
     "metadata": {},
     "output_type": "execute_result"
    }
   ],
   "source": [
    "size = int(len(data) * 0.65)\n",
    "size"
   ]
  },
  {
   "cell_type": "code",
   "execution_count": 49,
   "metadata": {},
   "outputs": [
    {
     "data": {
      "text/html": [
       "<div>\n",
       "<style scoped>\n",
       "    .dataframe tbody tr th:only-of-type {\n",
       "        vertical-align: middle;\n",
       "    }\n",
       "\n",
       "    .dataframe tbody tr th {\n",
       "        vertical-align: top;\n",
       "    }\n",
       "\n",
       "    .dataframe thead th {\n",
       "        text-align: right;\n",
       "    }\n",
       "</style>\n",
       "<table border=\"1\" class=\"dataframe\">\n",
       "  <thead>\n",
       "    <tr style=\"text-align: right;\">\n",
       "      <th></th>\n",
       "      <th>price</th>\n",
       "    </tr>\n",
       "    <tr>\n",
       "      <th>date</th>\n",
       "      <th></th>\n",
       "    </tr>\n",
       "  </thead>\n",
       "  <tbody>\n",
       "    <tr>\n",
       "      <th>2021-10-13</th>\n",
       "      <td>203.0</td>\n",
       "    </tr>\n",
       "    <tr>\n",
       "      <th>2021-10-14</th>\n",
       "      <td>203.0</td>\n",
       "    </tr>\n",
       "    <tr>\n",
       "      <th>2021-10-18</th>\n",
       "      <td>203.0</td>\n",
       "    </tr>\n",
       "    <tr>\n",
       "      <th>2021-10-19</th>\n",
       "      <td>203.0</td>\n",
       "    </tr>\n",
       "    <tr>\n",
       "      <th>2021-10-20</th>\n",
       "      <td>203.0</td>\n",
       "    </tr>\n",
       "    <tr>\n",
       "      <th>...</th>\n",
       "      <td>...</td>\n",
       "    </tr>\n",
       "    <tr>\n",
       "      <th>2022-07-11</th>\n",
       "      <td>625.0</td>\n",
       "    </tr>\n",
       "    <tr>\n",
       "      <th>2022-07-12</th>\n",
       "      <td>625.0</td>\n",
       "    </tr>\n",
       "    <tr>\n",
       "      <th>2022-07-13</th>\n",
       "      <td>625.0</td>\n",
       "    </tr>\n",
       "    <tr>\n",
       "      <th>2022-07-14</th>\n",
       "      <td>637.4</td>\n",
       "    </tr>\n",
       "    <tr>\n",
       "      <th>2022-07-15</th>\n",
       "      <td>625.0</td>\n",
       "    </tr>\n",
       "  </tbody>\n",
       "</table>\n",
       "<p>183 rows × 1 columns</p>\n",
       "</div>"
      ],
      "text/plain": [
       "            price\n",
       "date             \n",
       "2021-10-13  203.0\n",
       "2021-10-14  203.0\n",
       "2021-10-18  203.0\n",
       "2021-10-19  203.0\n",
       "2021-10-20  203.0\n",
       "...           ...\n",
       "2022-07-11  625.0\n",
       "2022-07-12  625.0\n",
       "2022-07-13  625.0\n",
       "2022-07-14  637.4\n",
       "2022-07-15  625.0\n",
       "\n",
       "[183 rows x 1 columns]"
      ]
     },
     "execution_count": 49,
     "metadata": {},
     "output_type": "execute_result"
    }
   ],
   "source": [
    "#to know the date of test data\n",
    "data.iloc[355+10:]  #10 for that time steps"
   ]
  },
  {
   "cell_type": "code",
   "execution_count": 50,
   "metadata": {},
   "outputs": [
    {
     "name": "stderr",
     "output_type": "stream",
     "text": [
      "C:\\Users\\Asus\\AppData\\Local\\Temp/ipykernel_3560/531574769.py:1: SettingWithCopyWarning: \n",
      "A value is trying to be set on a copy of a slice from a DataFrame.\n",
      "Try using .loc[row_indexer,col_indexer] = value instead\n",
      "\n",
      "See the caveats in the documentation: https://pandas.pydata.org/pandas-docs/stable/user_guide/indexing.html#returning-a-view-versus-a-copy\n",
      "  test['date'] = pd.date_range(start='2021-10-15', periods=181, freq='D')\n"
     ]
    },
    {
     "data": {
      "text/html": [
       "<div>\n",
       "<style scoped>\n",
       "    .dataframe tbody tr th:only-of-type {\n",
       "        vertical-align: middle;\n",
       "    }\n",
       "\n",
       "    .dataframe tbody tr th {\n",
       "        vertical-align: top;\n",
       "    }\n",
       "\n",
       "    .dataframe thead th {\n",
       "        text-align: right;\n",
       "    }\n",
       "</style>\n",
       "<table border=\"1\" class=\"dataframe\">\n",
       "  <thead>\n",
       "    <tr style=\"text-align: right;\">\n",
       "      <th></th>\n",
       "      <th>predicted_price</th>\n",
       "      <th>date</th>\n",
       "    </tr>\n",
       "  </thead>\n",
       "  <tbody>\n",
       "    <tr>\n",
       "      <th>366</th>\n",
       "      <td>206.709351</td>\n",
       "      <td>2021-10-15</td>\n",
       "    </tr>\n",
       "    <tr>\n",
       "      <th>367</th>\n",
       "      <td>206.709351</td>\n",
       "      <td>2021-10-16</td>\n",
       "    </tr>\n",
       "    <tr>\n",
       "      <th>368</th>\n",
       "      <td>206.709351</td>\n",
       "      <td>2021-10-17</td>\n",
       "    </tr>\n",
       "    <tr>\n",
       "      <th>369</th>\n",
       "      <td>206.709351</td>\n",
       "      <td>2021-10-18</td>\n",
       "    </tr>\n",
       "    <tr>\n",
       "      <th>370</th>\n",
       "      <td>206.709351</td>\n",
       "      <td>2021-10-19</td>\n",
       "    </tr>\n",
       "    <tr>\n",
       "      <th>...</th>\n",
       "      <td>...</td>\n",
       "      <td>...</td>\n",
       "    </tr>\n",
       "    <tr>\n",
       "      <th>542</th>\n",
       "      <td>544.654480</td>\n",
       "      <td>2022-04-09</td>\n",
       "    </tr>\n",
       "    <tr>\n",
       "      <th>543</th>\n",
       "      <td>546.414185</td>\n",
       "      <td>2022-04-10</td>\n",
       "    </tr>\n",
       "    <tr>\n",
       "      <th>544</th>\n",
       "      <td>547.090698</td>\n",
       "      <td>2022-04-11</td>\n",
       "    </tr>\n",
       "    <tr>\n",
       "      <th>545</th>\n",
       "      <td>547.350708</td>\n",
       "      <td>2022-04-12</td>\n",
       "    </tr>\n",
       "    <tr>\n",
       "      <th>546</th>\n",
       "      <td>547.451660</td>\n",
       "      <td>2022-04-13</td>\n",
       "    </tr>\n",
       "  </tbody>\n",
       "</table>\n",
       "<p>181 rows × 2 columns</p>\n",
       "</div>"
      ],
      "text/plain": [
       "     predicted_price       date\n",
       "366       206.709351 2021-10-15\n",
       "367       206.709351 2021-10-16\n",
       "368       206.709351 2021-10-17\n",
       "369       206.709351 2021-10-18\n",
       "370       206.709351 2021-10-19\n",
       "..               ...        ...\n",
       "542       544.654480 2022-04-09\n",
       "543       546.414185 2022-04-10\n",
       "544       547.090698 2022-04-11\n",
       "545       547.350708 2022-04-12\n",
       "546       547.451660 2022-04-13\n",
       "\n",
       "[181 rows x 2 columns]"
      ]
     },
     "execution_count": 50,
     "metadata": {},
     "output_type": "execute_result"
    }
   ],
   "source": [
    "test['date'] = pd.date_range(start='2021-10-15', periods=181, freq='D')\n",
    "test"
   ]
  },
  {
   "cell_type": "code",
   "execution_count": 51,
   "metadata": {},
   "outputs": [
    {
     "data": {
      "text/html": [
       "<div>\n",
       "<style scoped>\n",
       "    .dataframe tbody tr th:only-of-type {\n",
       "        vertical-align: middle;\n",
       "    }\n",
       "\n",
       "    .dataframe tbody tr th {\n",
       "        vertical-align: top;\n",
       "    }\n",
       "\n",
       "    .dataframe thead th {\n",
       "        text-align: right;\n",
       "    }\n",
       "</style>\n",
       "<table border=\"1\" class=\"dataframe\">\n",
       "  <thead>\n",
       "    <tr style=\"text-align: right;\">\n",
       "      <th></th>\n",
       "      <th>date</th>\n",
       "      <th>predicted_price</th>\n",
       "    </tr>\n",
       "  </thead>\n",
       "  <tbody>\n",
       "    <tr>\n",
       "      <th>366</th>\n",
       "      <td>2021-10-15</td>\n",
       "      <td>206.709351</td>\n",
       "    </tr>\n",
       "    <tr>\n",
       "      <th>367</th>\n",
       "      <td>2021-10-16</td>\n",
       "      <td>206.709351</td>\n",
       "    </tr>\n",
       "    <tr>\n",
       "      <th>368</th>\n",
       "      <td>2021-10-17</td>\n",
       "      <td>206.709351</td>\n",
       "    </tr>\n",
       "    <tr>\n",
       "      <th>369</th>\n",
       "      <td>2021-10-18</td>\n",
       "      <td>206.709351</td>\n",
       "    </tr>\n",
       "    <tr>\n",
       "      <th>370</th>\n",
       "      <td>2021-10-19</td>\n",
       "      <td>206.709351</td>\n",
       "    </tr>\n",
       "    <tr>\n",
       "      <th>...</th>\n",
       "      <td>...</td>\n",
       "      <td>...</td>\n",
       "    </tr>\n",
       "    <tr>\n",
       "      <th>542</th>\n",
       "      <td>2022-04-09</td>\n",
       "      <td>544.654480</td>\n",
       "    </tr>\n",
       "    <tr>\n",
       "      <th>543</th>\n",
       "      <td>2022-04-10</td>\n",
       "      <td>546.414185</td>\n",
       "    </tr>\n",
       "    <tr>\n",
       "      <th>544</th>\n",
       "      <td>2022-04-11</td>\n",
       "      <td>547.090698</td>\n",
       "    </tr>\n",
       "    <tr>\n",
       "      <th>545</th>\n",
       "      <td>2022-04-12</td>\n",
       "      <td>547.350708</td>\n",
       "    </tr>\n",
       "    <tr>\n",
       "      <th>546</th>\n",
       "      <td>2022-04-13</td>\n",
       "      <td>547.451660</td>\n",
       "    </tr>\n",
       "  </tbody>\n",
       "</table>\n",
       "<p>181 rows × 2 columns</p>\n",
       "</div>"
      ],
      "text/plain": [
       "          date  predicted_price\n",
       "366 2021-10-15       206.709351\n",
       "367 2021-10-16       206.709351\n",
       "368 2021-10-17       206.709351\n",
       "369 2021-10-18       206.709351\n",
       "370 2021-10-19       206.709351\n",
       "..         ...              ...\n",
       "542 2022-04-09       544.654480\n",
       "543 2022-04-10       546.414185\n",
       "544 2022-04-11       547.090698\n",
       "545 2022-04-12       547.350708\n",
       "546 2022-04-13       547.451660\n",
       "\n",
       "[181 rows x 2 columns]"
      ]
     },
     "execution_count": 51,
     "metadata": {},
     "output_type": "execute_result"
    }
   ],
   "source": [
    "col = ['date','predicted_price']\n",
    "test = test[col]\n",
    "test"
   ]
  },
  {
   "cell_type": "code",
   "execution_count": 52,
   "metadata": {},
   "outputs": [],
   "source": [
    "test = test.set_index('date')"
   ]
  },
  {
   "cell_type": "code",
   "execution_count": 53,
   "metadata": {},
   "outputs": [],
   "source": [
    "test = test.to_csv('predictedData/btcl_gru_testPred.csv')"
   ]
  },
  {
   "cell_type": "code",
   "execution_count": null,
   "metadata": {},
   "outputs": [],
   "source": []
  }
 ],
 "metadata": {
  "kernelspec": {
   "display_name": "Python 3 (ipykernel)",
   "language": "python",
   "name": "python3"
  },
  "language_info": {
   "codemirror_mode": {
    "name": "ipython",
    "version": 3
   },
   "file_extension": ".py",
   "mimetype": "text/x-python",
   "name": "python",
   "nbconvert_exporter": "python",
   "pygments_lexer": "ipython3",
   "version": "3.9.7"
  }
 },
 "nbformat": 4,
 "nbformat_minor": 4
}
