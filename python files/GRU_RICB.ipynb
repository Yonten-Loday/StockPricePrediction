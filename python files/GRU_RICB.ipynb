{
 "cells": [
  {
   "cell_type": "code",
   "execution_count": 1,
   "metadata": {},
   "outputs": [],
   "source": [
    "from numpy.random import seed\n",
    "seed(1)\n",
    "from tensorflow import random\n",
    "random.set_seed(5)\n",
    "import pandas as pd\n",
    "import numpy as np\n",
    "import matplotlib.pyplot as plt\n",
    "import seaborn as sns\n",
    "sns.set()\n",
    "from sklearn.preprocessing import MinMaxScaler\n",
    "from tensorflow.keras.models import Sequential\n",
    "from tensorflow.keras.layers import Dense\n",
    "from tensorflow.keras.layers import LSTM, GRU\n",
    "import math\n",
    "from sklearn.metrics import mean_squared_error,mean_absolute_error, r2_score\n",
    "from numpy import array"
   ]
  },
  {
   "cell_type": "code",
   "execution_count": 2,
   "metadata": {},
   "outputs": [
    {
     "data": {
      "text/html": [
       "<div>\n",
       "<style scoped>\n",
       "    .dataframe tbody tr th:only-of-type {\n",
       "        vertical-align: middle;\n",
       "    }\n",
       "\n",
       "    .dataframe tbody tr th {\n",
       "        vertical-align: top;\n",
       "    }\n",
       "\n",
       "    .dataframe thead th {\n",
       "        text-align: right;\n",
       "    }\n",
       "</style>\n",
       "<table border=\"1\" class=\"dataframe\">\n",
       "  <thead>\n",
       "    <tr style=\"text-align: right;\">\n",
       "      <th></th>\n",
       "      <th>DateTime</th>\n",
       "      <th>RICB</th>\n",
       "    </tr>\n",
       "  </thead>\n",
       "  <tbody>\n",
       "    <tr>\n",
       "      <th>0</th>\n",
       "      <td>2020-04-23 06:34:02</td>\n",
       "      <td>70</td>\n",
       "    </tr>\n",
       "    <tr>\n",
       "      <th>1</th>\n",
       "      <td>2020-04-23 09:34:02</td>\n",
       "      <td>70</td>\n",
       "    </tr>\n",
       "    <tr>\n",
       "      <th>2</th>\n",
       "      <td>2020-04-24 06:34:01</td>\n",
       "      <td>70</td>\n",
       "    </tr>\n",
       "    <tr>\n",
       "      <th>3</th>\n",
       "      <td>2020-04-24 09:34:02</td>\n",
       "      <td>70</td>\n",
       "    </tr>\n",
       "    <tr>\n",
       "      <th>4</th>\n",
       "      <td>2020-04-27 06:33:57</td>\n",
       "      <td>70</td>\n",
       "    </tr>\n",
       "    <tr>\n",
       "      <th>...</th>\n",
       "      <td>...</td>\n",
       "      <td>...</td>\n",
       "    </tr>\n",
       "    <tr>\n",
       "      <th>2497</th>\n",
       "      <td>2022-07-14 04:55:53</td>\n",
       "      <td>70</td>\n",
       "    </tr>\n",
       "    <tr>\n",
       "      <th>2498</th>\n",
       "      <td>2022-07-14 05:55:54</td>\n",
       "      <td>70</td>\n",
       "    </tr>\n",
       "    <tr>\n",
       "      <th>2499</th>\n",
       "      <td>2022-07-14 07:55:52</td>\n",
       "      <td>70</td>\n",
       "    </tr>\n",
       "    <tr>\n",
       "      <th>2500</th>\n",
       "      <td>2022-07-14 08:55:53</td>\n",
       "      <td>70</td>\n",
       "    </tr>\n",
       "    <tr>\n",
       "      <th>2501</th>\n",
       "      <td>2022-07-15 03:55:51</td>\n",
       "      <td>70</td>\n",
       "    </tr>\n",
       "  </tbody>\n",
       "</table>\n",
       "<p>2502 rows × 2 columns</p>\n",
       "</div>"
      ],
      "text/plain": [
       "                 DateTime  RICB\n",
       "0     2020-04-23 06:34:02    70\n",
       "1     2020-04-23 09:34:02    70\n",
       "2     2020-04-24 06:34:01    70\n",
       "3     2020-04-24 09:34:02    70\n",
       "4     2020-04-27 06:33:57    70\n",
       "...                   ...   ...\n",
       "2497  2022-07-14 04:55:53    70\n",
       "2498  2022-07-14 05:55:54    70\n",
       "2499  2022-07-14 07:55:52    70\n",
       "2500  2022-07-14 08:55:53    70\n",
       "2501  2022-07-15 03:55:51    70\n",
       "\n",
       "[2502 rows x 2 columns]"
      ]
     },
     "execution_count": 2,
     "metadata": {},
     "output_type": "execute_result"
    }
   ],
   "source": [
    "data = pd.read_csv(\"../data/RICB.csv\")\n",
    "data"
   ]
  },
  {
   "cell_type": "code",
   "execution_count": 3,
   "metadata": {},
   "outputs": [
    {
     "data": {
      "text/html": [
       "<div>\n",
       "<style scoped>\n",
       "    .dataframe tbody tr th:only-of-type {\n",
       "        vertical-align: middle;\n",
       "    }\n",
       "\n",
       "    .dataframe tbody tr th {\n",
       "        vertical-align: top;\n",
       "    }\n",
       "\n",
       "    .dataframe thead th {\n",
       "        text-align: right;\n",
       "    }\n",
       "</style>\n",
       "<table border=\"1\" class=\"dataframe\">\n",
       "  <thead>\n",
       "    <tr style=\"text-align: right;\">\n",
       "      <th></th>\n",
       "      <th>date</th>\n",
       "      <th>price</th>\n",
       "    </tr>\n",
       "  </thead>\n",
       "  <tbody>\n",
       "    <tr>\n",
       "      <th>0</th>\n",
       "      <td>2020-04-23</td>\n",
       "      <td>70</td>\n",
       "    </tr>\n",
       "    <tr>\n",
       "      <th>1</th>\n",
       "      <td>2020-04-23</td>\n",
       "      <td>70</td>\n",
       "    </tr>\n",
       "    <tr>\n",
       "      <th>2</th>\n",
       "      <td>2020-04-24</td>\n",
       "      <td>70</td>\n",
       "    </tr>\n",
       "    <tr>\n",
       "      <th>3</th>\n",
       "      <td>2020-04-24</td>\n",
       "      <td>70</td>\n",
       "    </tr>\n",
       "    <tr>\n",
       "      <th>4</th>\n",
       "      <td>2020-04-27</td>\n",
       "      <td>70</td>\n",
       "    </tr>\n",
       "    <tr>\n",
       "      <th>...</th>\n",
       "      <td>...</td>\n",
       "      <td>...</td>\n",
       "    </tr>\n",
       "    <tr>\n",
       "      <th>2497</th>\n",
       "      <td>2022-07-14</td>\n",
       "      <td>70</td>\n",
       "    </tr>\n",
       "    <tr>\n",
       "      <th>2498</th>\n",
       "      <td>2022-07-14</td>\n",
       "      <td>70</td>\n",
       "    </tr>\n",
       "    <tr>\n",
       "      <th>2499</th>\n",
       "      <td>2022-07-14</td>\n",
       "      <td>70</td>\n",
       "    </tr>\n",
       "    <tr>\n",
       "      <th>2500</th>\n",
       "      <td>2022-07-14</td>\n",
       "      <td>70</td>\n",
       "    </tr>\n",
       "    <tr>\n",
       "      <th>2501</th>\n",
       "      <td>2022-07-15</td>\n",
       "      <td>70</td>\n",
       "    </tr>\n",
       "  </tbody>\n",
       "</table>\n",
       "<p>2502 rows × 2 columns</p>\n",
       "</div>"
      ],
      "text/plain": [
       "           date  price\n",
       "0    2020-04-23     70\n",
       "1    2020-04-23     70\n",
       "2    2020-04-24     70\n",
       "3    2020-04-24     70\n",
       "4    2020-04-27     70\n",
       "...         ...    ...\n",
       "2497 2022-07-14     70\n",
       "2498 2022-07-14     70\n",
       "2499 2022-07-14     70\n",
       "2500 2022-07-14     70\n",
       "2501 2022-07-15     70\n",
       "\n",
       "[2502 rows x 2 columns]"
      ]
     },
     "execution_count": 3,
     "metadata": {},
     "output_type": "execute_result"
    }
   ],
   "source": [
    "#Changing datetime to datetime format\n",
    "data['DateTime'] = pd.to_datetime(data['DateTime']).dt.date\n",
    "\n",
    "#renaming the columns\n",
    "data.rename(columns = {'DateTime':'date','RICB':'price'}, inplace = True)\n",
    "data['date'] = pd.to_datetime(data['date'],format = \"%Y-%m-%d\")\n",
    "data"
   ]
  },
  {
   "cell_type": "code",
   "execution_count": 4,
   "metadata": {},
   "outputs": [
    {
     "data": {
      "text/html": [
       "<div>\n",
       "<style scoped>\n",
       "    .dataframe tbody tr th:only-of-type {\n",
       "        vertical-align: middle;\n",
       "    }\n",
       "\n",
       "    .dataframe tbody tr th {\n",
       "        vertical-align: top;\n",
       "    }\n",
       "\n",
       "    .dataframe thead th {\n",
       "        text-align: right;\n",
       "    }\n",
       "</style>\n",
       "<table border=\"1\" class=\"dataframe\">\n",
       "  <thead>\n",
       "    <tr style=\"text-align: right;\">\n",
       "      <th></th>\n",
       "      <th>price</th>\n",
       "    </tr>\n",
       "    <tr>\n",
       "      <th>date</th>\n",
       "      <th></th>\n",
       "    </tr>\n",
       "  </thead>\n",
       "  <tbody>\n",
       "    <tr>\n",
       "      <th>2020-04-23</th>\n",
       "      <td>70.0</td>\n",
       "    </tr>\n",
       "    <tr>\n",
       "      <th>2020-04-24</th>\n",
       "      <td>70.0</td>\n",
       "    </tr>\n",
       "    <tr>\n",
       "      <th>2020-04-27</th>\n",
       "      <td>70.0</td>\n",
       "    </tr>\n",
       "    <tr>\n",
       "      <th>2020-04-28</th>\n",
       "      <td>70.0</td>\n",
       "    </tr>\n",
       "    <tr>\n",
       "      <th>2020-04-29</th>\n",
       "      <td>70.0</td>\n",
       "    </tr>\n",
       "    <tr>\n",
       "      <th>...</th>\n",
       "      <td>...</td>\n",
       "    </tr>\n",
       "    <tr>\n",
       "      <th>2022-07-11</th>\n",
       "      <td>70.0</td>\n",
       "    </tr>\n",
       "    <tr>\n",
       "      <th>2022-07-12</th>\n",
       "      <td>70.0</td>\n",
       "    </tr>\n",
       "    <tr>\n",
       "      <th>2022-07-13</th>\n",
       "      <td>70.0</td>\n",
       "    </tr>\n",
       "    <tr>\n",
       "      <th>2022-07-14</th>\n",
       "      <td>70.0</td>\n",
       "    </tr>\n",
       "    <tr>\n",
       "      <th>2022-07-15</th>\n",
       "      <td>70.0</td>\n",
       "    </tr>\n",
       "  </tbody>\n",
       "</table>\n",
       "<p>548 rows × 1 columns</p>\n",
       "</div>"
      ],
      "text/plain": [
       "            price\n",
       "date             \n",
       "2020-04-23   70.0\n",
       "2020-04-24   70.0\n",
       "2020-04-27   70.0\n",
       "2020-04-28   70.0\n",
       "2020-04-29   70.0\n",
       "...           ...\n",
       "2022-07-11   70.0\n",
       "2022-07-12   70.0\n",
       "2022-07-13   70.0\n",
       "2022-07-14   70.0\n",
       "2022-07-15   70.0\n",
       "\n",
       "[548 rows x 1 columns]"
      ]
     },
     "execution_count": 4,
     "metadata": {},
     "output_type": "execute_result"
    }
   ],
   "source": [
    "data = data.groupby('date').mean()\n",
    "data"
   ]
  },
  {
   "cell_type": "code",
   "execution_count": 5,
   "metadata": {},
   "outputs": [
    {
     "data": {
      "text/plain": [
       "0      70.0\n",
       "1      70.0\n",
       "2      70.0\n",
       "3      70.0\n",
       "4      70.0\n",
       "       ... \n",
       "543    70.0\n",
       "544    70.0\n",
       "545    70.0\n",
       "546    70.0\n",
       "547    70.0\n",
       "Name: price, Length: 548, dtype: float64"
      ]
     },
     "execution_count": 5,
     "metadata": {},
     "output_type": "execute_result"
    }
   ],
   "source": [
    "data1=data.reset_index()['price']\n",
    "data1"
   ]
  },
  {
   "cell_type": "code",
   "execution_count": 6,
   "metadata": {},
   "outputs": [
    {
     "name": "stdout",
     "output_type": "stream",
     "text": [
      "Size of the dataset:  (548,)\n",
      "Checking for null values:\n",
      " 0\n",
      "Checking Data-type of each column:\n",
      " float64\n"
     ]
    }
   ],
   "source": [
    "print(\"Size of the dataset: \",data1.shape)\n",
    "print(\"Checking for null values:\\n\",data1.isnull().sum())\n",
    "print(\"Checking Data-type of each column:\\n\",data1.dtypes)"
   ]
  },
  {
   "cell_type": "code",
   "execution_count": 7,
   "metadata": {},
   "outputs": [
    {
     "data": {
      "image/png": "[encoded data removed]",
      "text/plain": [
       "<Figure size 720x360 with 1 Axes>"
      ]
     },
     "metadata": {},
     "output_type": "display_data"
    }
   ],
   "source": [
    "plt.figure(figsize=(10,5))\n",
    "plt.plot(data1,label='price')\n",
    "plt.legend()\n",
    "plt.show()"
   ]
  },
  {
   "cell_type": "code",
   "execution_count": 8,
   "metadata": {},
   "outputs": [],
   "source": [
    "scaler=MinMaxScaler(feature_range=(0,1))\n",
    "data1=scaler.fit_transform(np.array(data1).reshape(-1,1))"
   ]
  },
  {
   "cell_type": "code",
   "execution_count": 9,
   "metadata": {},
   "outputs": [],
   "source": [
    "training_size=int(len(data1)*0.65)\n",
    "test_size=len(data1)-training_size\n",
    "train_data,test_data=data1[0:training_size,:],data1[training_size:len(data1),:1]"
   ]
  },
  {
   "cell_type": "code",
   "execution_count": 10,
   "metadata": {},
   "outputs": [
    {
     "data": {
      "text/plain": [
       "356"
      ]
     },
     "execution_count": 10,
     "metadata": {},
     "output_type": "execute_result"
    }
   ],
   "source": [
    "len(train_data)"
   ]
  },
  {
   "cell_type": "code",
   "execution_count": 11,
   "metadata": {},
   "outputs": [
    {
     "data": {
      "text/plain": [
       "(356, 192)"
      ]
     },
     "execution_count": 11,
     "metadata": {},
     "output_type": "execute_result"
    }
   ],
   "source": [
    "training_size,test_size"
   ]
  },
  {
   "cell_type": "code",
   "execution_count": 12,
   "metadata": {},
   "outputs": [],
   "source": [
    "def create_dataset(dataset, time_step=1):\n",
    "    dataX, dataY = [], []\n",
    "    for i in range(len(dataset)-time_step-1):\n",
    "        a = dataset[i:(i+time_step), 0]   \n",
    "        dataX.append(a)\n",
    "        dataY.append(dataset[i + time_step, 0])\n",
    "    return numpy.array(dataX), numpy.array(dataY)"
   ]
  },
  {
   "cell_type": "code",
   "execution_count": 13,
   "metadata": {},
   "outputs": [],
   "source": [
    "import numpy\n",
    "time_step = 10\n",
    "X_train, y_train = create_dataset(train_data, time_step)\n",
    "X_test, ytest = create_dataset(test_data, time_step)"
   ]
  },
  {
   "cell_type": "code",
   "execution_count": 14,
   "metadata": {},
   "outputs": [
    {
     "name": "stdout",
     "output_type": "stream",
     "text": [
      "(345, 10)\n",
      "(345,)\n"
     ]
    },
    {
     "data": {
      "text/plain": [
       "(None, None)"
      ]
     },
     "execution_count": 14,
     "metadata": {},
     "output_type": "execute_result"
    }
   ],
   "source": [
    "print(X_train.shape), print(y_train.shape)"
   ]
  },
  {
   "cell_type": "code",
   "execution_count": 15,
   "metadata": {},
   "outputs": [
    {
     "name": "stdout",
     "output_type": "stream",
     "text": [
      "(181, 10)\n",
      "(181,)\n"
     ]
    },
    {
     "data": {
      "text/plain": [
       "(None, None)"
      ]
     },
     "execution_count": 15,
     "metadata": {},
     "output_type": "execute_result"
    }
   ],
   "source": [
    "print(X_test.shape), print(ytest.shape)"
   ]
  },
  {
   "cell_type": "code",
   "execution_count": 16,
   "metadata": {},
   "outputs": [
    {
     "data": {
      "text/plain": [
       "10"
      ]
     },
     "execution_count": 16,
     "metadata": {},
     "output_type": "execute_result"
    }
   ],
   "source": [
    "X_train.shape[1]"
   ]
  },
  {
   "cell_type": "code",
   "execution_count": 17,
   "metadata": {},
   "outputs": [],
   "source": [
    "X_train =X_train.reshape(X_train.shape[0],X_train.shape[1] , 1)\n",
    "X_test = X_test.reshape(X_test.shape[0],X_test.shape[1] , 1)"
   ]
  },
  {
   "cell_type": "code",
   "execution_count": 18,
   "metadata": {},
   "outputs": [],
   "source": [
    "model=Sequential()\n",
    "model.add(GRU(64,activation='relu', return_sequences=False,input_shape=(time_step,1)))\n",
    "#model.add(GRU(128,activation='relu'))\n",
    "model.add(Dense(64))\n",
    "model.add(Dense(64))\n",
    "model.add(Dense(1))\n",
    "model.compile(loss='mean_squared_error',optimizer='adam')\n",
    "#model.summary()"
   ]
  },
  {
   "cell_type": "code",
   "execution_count": 19,
   "metadata": {},
   "outputs": [
    {
     "name": "stdout",
     "output_type": "stream",
     "text": [
      "Epoch 1/200\n",
      "11/11 - 1s - loss: 0.0593 - val_loss: 0.0167 - 1s/epoch - 121ms/step\n",
      "Epoch 2/200\n",
      "11/11 - 0s - loss: 0.0096 - val_loss: 0.0158 - 93ms/epoch - 8ms/step\n",
      "Epoch 3/200\n",
      "11/11 - 0s - loss: 0.0042 - val_loss: 0.0099 - 95ms/epoch - 9ms/step\n",
      "Epoch 4/200\n",
      "11/11 - 0s - loss: 0.0017 - val_loss: 0.0065 - 90ms/epoch - 8ms/step\n",
      "Epoch 5/200\n",
      "11/11 - 0s - loss: 0.0014 - val_loss: 0.0092 - 80ms/epoch - 7ms/step\n",
      "Epoch 6/200\n",
      "11/11 - 0s - loss: 0.0013 - val_loss: 0.0067 - 77ms/epoch - 7ms/step\n",
      "Epoch 7/200\n",
      "11/11 - 0s - loss: 0.0011 - val_loss: 0.0065 - 81ms/epoch - 7ms/step\n",
      "Epoch 8/200\n",
      "11/11 - 0s - loss: 9.6967e-04 - val_loss: 0.0055 - 80ms/epoch - 7ms/step\n",
      "Epoch 9/200\n",
      "11/11 - 0s - loss: 8.8142e-04 - val_loss: 0.0044 - 80ms/epoch - 7ms/step\n",
      "Epoch 10/200\n",
      "11/11 - 0s - loss: 7.2876e-04 - val_loss: 0.0039 - 80ms/epoch - 7ms/step\n",
      "Epoch 11/200\n",
      "11/11 - 0s - loss: 6.6745e-04 - val_loss: 0.0035 - 80ms/epoch - 7ms/step\n",
      "Epoch 12/200\n",
      "11/11 - 0s - loss: 5.8739e-04 - val_loss: 0.0033 - 79ms/epoch - 7ms/step\n",
      "Epoch 13/200\n",
      "11/11 - 0s - loss: 6.0822e-04 - val_loss: 0.0031 - 80ms/epoch - 7ms/step\n",
      "Epoch 14/200\n",
      "11/11 - 0s - loss: 5.4277e-04 - val_loss: 0.0028 - 96ms/epoch - 9ms/step\n",
      "Epoch 15/200\n",
      "11/11 - 0s - loss: 5.3116e-04 - val_loss: 0.0028 - 95ms/epoch - 9ms/step\n",
      "Epoch 16/200\n",
      "11/11 - 0s - loss: 5.2542e-04 - val_loss: 0.0027 - 88ms/epoch - 8ms/step\n",
      "Epoch 17/200\n",
      "11/11 - 0s - loss: 5.3395e-04 - val_loss: 0.0027 - 90ms/epoch - 8ms/step\n",
      "Epoch 18/200\n",
      "11/11 - 0s - loss: 5.2972e-04 - val_loss: 0.0027 - 94ms/epoch - 9ms/step\n",
      "Epoch 19/200\n",
      "11/11 - 0s - loss: 5.5726e-04 - val_loss: 0.0027 - 87ms/epoch - 8ms/step\n",
      "Epoch 20/200\n",
      "11/11 - 0s - loss: 5.3847e-04 - val_loss: 0.0027 - 86ms/epoch - 8ms/step\n",
      "Epoch 21/200\n",
      "11/11 - 0s - loss: 5.4154e-04 - val_loss: 0.0026 - 83ms/epoch - 8ms/step\n",
      "Epoch 22/200\n",
      "11/11 - 0s - loss: 5.3693e-04 - val_loss: 0.0026 - 82ms/epoch - 7ms/step\n",
      "Epoch 23/200\n",
      "11/11 - 0s - loss: 5.1964e-04 - val_loss: 0.0026 - 92ms/epoch - 8ms/step\n",
      "Epoch 24/200\n",
      "11/11 - 0s - loss: 5.1743e-04 - val_loss: 0.0025 - 84ms/epoch - 8ms/step\n",
      "Epoch 25/200\n",
      "11/11 - 0s - loss: 5.0839e-04 - val_loss: 0.0025 - 77ms/epoch - 7ms/step\n",
      "Epoch 26/200\n",
      "11/11 - 0s - loss: 5.0317e-04 - val_loss: 0.0025 - 93ms/epoch - 8ms/step\n",
      "Epoch 27/200\n",
      "11/11 - 0s - loss: 4.9990e-04 - val_loss: 0.0025 - 94ms/epoch - 9ms/step\n",
      "Epoch 28/200\n",
      "11/11 - 0s - loss: 5.0976e-04 - val_loss: 0.0026 - 91ms/epoch - 8ms/step\n",
      "Epoch 29/200\n",
      "11/11 - 0s - loss: 4.9421e-04 - val_loss: 0.0024 - 72ms/epoch - 7ms/step\n",
      "Epoch 30/200\n",
      "11/11 - 0s - loss: 5.0170e-04 - val_loss: 0.0025 - 74ms/epoch - 7ms/step\n",
      "Epoch 31/200\n",
      "11/11 - 0s - loss: 4.9399e-04 - val_loss: 0.0024 - 73ms/epoch - 7ms/step\n",
      "Epoch 32/200\n",
      "11/11 - 0s - loss: 4.9952e-04 - val_loss: 0.0024 - 76ms/epoch - 7ms/step\n",
      "Epoch 33/200\n",
      "11/11 - 0s - loss: 5.2400e-04 - val_loss: 0.0025 - 87ms/epoch - 8ms/step\n",
      "Epoch 34/200\n",
      "11/11 - 0s - loss: 5.3431e-04 - val_loss: 0.0025 - 93ms/epoch - 8ms/step\n",
      "Epoch 35/200\n",
      "11/11 - 0s - loss: 5.2245e-04 - val_loss: 0.0027 - 90ms/epoch - 8ms/step\n",
      "Epoch 36/200\n",
      "11/11 - 0s - loss: 5.5698e-04 - val_loss: 0.0026 - 88ms/epoch - 8ms/step\n",
      "Epoch 37/200\n",
      "11/11 - 0s - loss: 5.3168e-04 - val_loss: 0.0026 - 91ms/epoch - 8ms/step\n",
      "Epoch 38/200\n",
      "11/11 - 0s - loss: 5.5182e-04 - val_loss: 0.0026 - 78ms/epoch - 7ms/step\n",
      "Epoch 39/200\n",
      "11/11 - 0s - loss: 5.5484e-04 - val_loss: 0.0025 - 76ms/epoch - 7ms/step\n",
      "Epoch 40/200\n",
      "11/11 - 0s - loss: 5.1571e-04 - val_loss: 0.0024 - 86ms/epoch - 8ms/step\n",
      "Epoch 41/200\n",
      "11/11 - 0s - loss: 4.8598e-04 - val_loss: 0.0024 - 93ms/epoch - 8ms/step\n",
      "Epoch 42/200\n",
      "11/11 - 0s - loss: 4.9750e-04 - val_loss: 0.0023 - 93ms/epoch - 8ms/step\n",
      "Epoch 43/200\n",
      "11/11 - 0s - loss: 4.7903e-04 - val_loss: 0.0023 - 86ms/epoch - 8ms/step\n",
      "Epoch 44/200\n",
      "11/11 - 0s - loss: 4.8953e-04 - val_loss: 0.0023 - 80ms/epoch - 7ms/step\n",
      "Epoch 45/200\n",
      "11/11 - 0s - loss: 4.9024e-04 - val_loss: 0.0022 - 77ms/epoch - 7ms/step\n",
      "Epoch 46/200\n",
      "11/11 - 0s - loss: 4.7722e-04 - val_loss: 0.0022 - 91ms/epoch - 8ms/step\n",
      "Epoch 47/200\n",
      "11/11 - 0s - loss: 4.7386e-04 - val_loss: 0.0022 - 91ms/epoch - 8ms/step\n",
      "Epoch 48/200\n",
      "11/11 - 0s - loss: 4.6708e-04 - val_loss: 0.0021 - 88ms/epoch - 8ms/step\n",
      "Epoch 49/200\n",
      "11/11 - 0s - loss: 5.3807e-04 - val_loss: 0.0022 - 74ms/epoch - 7ms/step\n",
      "Epoch 50/200\n",
      "11/11 - 0s - loss: 5.8226e-04 - val_loss: 0.0022 - 77ms/epoch - 7ms/step\n",
      "Epoch 51/200\n",
      "11/11 - 0s - loss: 4.6990e-04 - val_loss: 0.0023 - 78ms/epoch - 7ms/step\n",
      "Epoch 52/200\n",
      "11/11 - 0s - loss: 4.9976e-04 - val_loss: 0.0023 - 92ms/epoch - 8ms/step\n",
      "Epoch 53/200\n",
      "11/11 - 0s - loss: 4.8385e-04 - val_loss: 0.0023 - 93ms/epoch - 8ms/step\n",
      "Epoch 54/200\n",
      "11/11 - 0s - loss: 4.7216e-04 - val_loss: 0.0020 - 92ms/epoch - 8ms/step\n",
      "Epoch 55/200\n",
      "11/11 - 0s - loss: 4.8738e-04 - val_loss: 0.0021 - 92ms/epoch - 8ms/step\n",
      "Epoch 56/200\n",
      "11/11 - 0s - loss: 4.6653e-04 - val_loss: 0.0020 - 89ms/epoch - 8ms/step\n",
      "Epoch 57/200\n",
      "11/11 - 0s - loss: 4.6077e-04 - val_loss: 0.0020 - 89ms/epoch - 8ms/step\n",
      "Epoch 58/200\n",
      "11/11 - 0s - loss: 4.7107e-04 - val_loss: 0.0020 - 95ms/epoch - 9ms/step\n",
      "Epoch 59/200\n",
      "11/11 - 0s - loss: 4.6567e-04 - val_loss: 0.0020 - 97ms/epoch - 9ms/step\n",
      "Epoch 60/200\n",
      "11/11 - 0s - loss: 4.6052e-04 - val_loss: 0.0020 - 86ms/epoch - 8ms/step\n",
      "Epoch 61/200\n",
      "11/11 - 0s - loss: 4.6719e-04 - val_loss: 0.0020 - 79ms/epoch - 7ms/step\n",
      "Epoch 62/200\n",
      "11/11 - 0s - loss: 4.7538e-04 - val_loss: 0.0020 - 76ms/epoch - 7ms/step\n",
      "Epoch 63/200\n",
      "11/11 - 0s - loss: 4.6402e-04 - val_loss: 0.0019 - 74ms/epoch - 7ms/step\n",
      "Epoch 64/200\n",
      "11/11 - 0s - loss: 4.6885e-04 - val_loss: 0.0019 - 88ms/epoch - 8ms/step\n",
      "Epoch 65/200\n",
      "11/11 - 0s - loss: 4.6315e-04 - val_loss: 0.0019 - 93ms/epoch - 8ms/step\n",
      "Epoch 66/200\n",
      "11/11 - 0s - loss: 4.7074e-04 - val_loss: 0.0020 - 92ms/epoch - 8ms/step\n",
      "Epoch 67/200\n",
      "11/11 - 0s - loss: 4.7721e-04 - val_loss: 0.0019 - 94ms/epoch - 9ms/step\n",
      "Epoch 68/200\n",
      "11/11 - 0s - loss: 4.6186e-04 - val_loss: 0.0021 - 87ms/epoch - 8ms/step\n",
      "Epoch 69/200\n",
      "11/11 - 0s - loss: 4.6525e-04 - val_loss: 0.0021 - 84ms/epoch - 8ms/step\n",
      "Epoch 70/200\n",
      "11/11 - 0s - loss: 4.8534e-04 - val_loss: 0.0022 - 74ms/epoch - 7ms/step\n",
      "Epoch 71/200\n",
      "11/11 - 0s - loss: 4.8869e-04 - val_loss: 0.0020 - 74ms/epoch - 7ms/step\n",
      "Epoch 72/200\n",
      "11/11 - 0s - loss: 4.6529e-04 - val_loss: 0.0019 - 76ms/epoch - 7ms/step\n",
      "Epoch 73/200\n",
      "11/11 - 0s - loss: 4.6354e-04 - val_loss: 0.0019 - 72ms/epoch - 7ms/step\n",
      "Epoch 74/200\n",
      "11/11 - 0s - loss: 4.5805e-04 - val_loss: 0.0019 - 72ms/epoch - 7ms/step\n",
      "Epoch 75/200\n",
      "11/11 - 0s - loss: 4.4763e-04 - val_loss: 0.0019 - 67ms/epoch - 6ms/step\n",
      "Epoch 76/200\n",
      "11/11 - 0s - loss: 4.4821e-04 - val_loss: 0.0019 - 85ms/epoch - 8ms/step\n",
      "Epoch 77/200\n",
      "11/11 - 0s - loss: 4.4639e-04 - val_loss: 0.0020 - 95ms/epoch - 9ms/step\n",
      "Epoch 78/200\n",
      "11/11 - 0s - loss: 4.4405e-04 - val_loss: 0.0020 - 87ms/epoch - 8ms/step\n",
      "Epoch 79/200\n",
      "11/11 - 0s - loss: 5.0774e-04 - val_loss: 0.0019 - 75ms/epoch - 7ms/step\n",
      "Epoch 80/200\n",
      "11/11 - 0s - loss: 4.8370e-04 - val_loss: 0.0019 - 77ms/epoch - 7ms/step\n",
      "Epoch 81/200\n",
      "11/11 - 0s - loss: 4.5506e-04 - val_loss: 0.0019 - 80ms/epoch - 7ms/step\n",
      "Epoch 82/200\n",
      "11/11 - 0s - loss: 4.5148e-04 - val_loss: 0.0018 - 83ms/epoch - 8ms/step\n",
      "Epoch 83/200\n",
      "11/11 - 0s - loss: 5.2969e-04 - val_loss: 0.0019 - 85ms/epoch - 8ms/step\n",
      "Epoch 84/200\n",
      "11/11 - 0s - loss: 5.1838e-04 - val_loss: 0.0021 - 81ms/epoch - 7ms/step\n",
      "Epoch 85/200\n",
      "11/11 - 0s - loss: 5.5549e-04 - val_loss: 0.0020 - 84ms/epoch - 8ms/step\n",
      "Epoch 86/200\n",
      "11/11 - 0s - loss: 4.8637e-04 - val_loss: 0.0019 - 79ms/epoch - 7ms/step\n",
      "Epoch 87/200\n",
      "11/11 - 0s - loss: 4.5632e-04 - val_loss: 0.0019 - 79ms/epoch - 7ms/step\n",
      "Epoch 88/200\n",
      "11/11 - 0s - loss: 4.5748e-04 - val_loss: 0.0019 - 75ms/epoch - 7ms/step\n",
      "Epoch 89/200\n",
      "11/11 - 0s - loss: 4.7615e-04 - val_loss: 0.0019 - 73ms/epoch - 7ms/step\n",
      "Epoch 90/200\n",
      "11/11 - 0s - loss: 4.3990e-04 - val_loss: 0.0018 - 73ms/epoch - 7ms/step\n",
      "Epoch 91/200\n",
      "11/11 - 0s - loss: 4.3778e-04 - val_loss: 0.0018 - 69ms/epoch - 6ms/step\n",
      "Epoch 92/200\n",
      "11/11 - 0s - loss: 4.3975e-04 - val_loss: 0.0018 - 73ms/epoch - 7ms/step\n",
      "Epoch 93/200\n",
      "11/11 - 0s - loss: 4.5121e-04 - val_loss: 0.0020 - 72ms/epoch - 7ms/step\n",
      "Epoch 94/200\n",
      "11/11 - 0s - loss: 5.2836e-04 - val_loss: 0.0019 - 77ms/epoch - 7ms/step\n",
      "Epoch 95/200\n",
      "11/11 - 0s - loss: 4.9250e-04 - val_loss: 0.0019 - 73ms/epoch - 7ms/step\n",
      "Epoch 96/200\n",
      "11/11 - 0s - loss: 4.4598e-04 - val_loss: 0.0018 - 73ms/epoch - 7ms/step\n",
      "Epoch 97/200\n",
      "11/11 - 0s - loss: 4.8967e-04 - val_loss: 0.0018 - 71ms/epoch - 6ms/step\n",
      "Epoch 98/200\n",
      "11/11 - 0s - loss: 4.3758e-04 - val_loss: 0.0019 - 74ms/epoch - 7ms/step\n",
      "Epoch 99/200\n",
      "11/11 - 0s - loss: 4.4331e-04 - val_loss: 0.0019 - 73ms/epoch - 7ms/step\n",
      "Epoch 100/200\n",
      "11/11 - 0s - loss: 4.5143e-04 - val_loss: 0.0018 - 77ms/epoch - 7ms/step\n",
      "Epoch 101/200\n",
      "11/11 - 0s - loss: 4.3889e-04 - val_loss: 0.0018 - 77ms/epoch - 7ms/step\n",
      "Epoch 102/200\n",
      "11/11 - 0s - loss: 4.2815e-04 - val_loss: 0.0018 - 75ms/epoch - 7ms/step\n",
      "Epoch 103/200\n",
      "11/11 - 0s - loss: 4.3444e-04 - val_loss: 0.0018 - 71ms/epoch - 6ms/step\n",
      "Epoch 104/200\n",
      "11/11 - 0s - loss: 4.6417e-04 - val_loss: 0.0018 - 72ms/epoch - 7ms/step\n",
      "Epoch 105/200\n",
      "11/11 - 0s - loss: 4.8216e-04 - val_loss: 0.0019 - 76ms/epoch - 7ms/step\n",
      "Epoch 106/200\n",
      "11/11 - 0s - loss: 4.6886e-04 - val_loss: 0.0018 - 74ms/epoch - 7ms/step\n",
      "Epoch 107/200\n",
      "11/11 - 0s - loss: 4.9246e-04 - val_loss: 0.0019 - 76ms/epoch - 7ms/step\n",
      "Epoch 108/200\n",
      "11/11 - 0s - loss: 4.3595e-04 - val_loss: 0.0018 - 80ms/epoch - 7ms/step\n",
      "Epoch 109/200\n",
      "11/11 - 0s - loss: 4.3815e-04 - val_loss: 0.0018 - 78ms/epoch - 7ms/step\n",
      "Epoch 110/200\n",
      "11/11 - 0s - loss: 4.4468e-04 - val_loss: 0.0020 - 75ms/epoch - 7ms/step\n",
      "Epoch 111/200\n",
      "11/11 - 0s - loss: 4.9122e-04 - val_loss: 0.0018 - 77ms/epoch - 7ms/step\n",
      "Epoch 112/200\n",
      "11/11 - 0s - loss: 4.9241e-04 - val_loss: 0.0019 - 74ms/epoch - 7ms/step\n",
      "Epoch 113/200\n",
      "11/11 - 0s - loss: 5.0897e-04 - val_loss: 0.0019 - 73ms/epoch - 7ms/step\n",
      "Epoch 114/200\n",
      "11/11 - 0s - loss: 4.8619e-04 - val_loss: 0.0018 - 75ms/epoch - 7ms/step\n",
      "Epoch 115/200\n",
      "11/11 - 0s - loss: 4.6877e-04 - val_loss: 0.0018 - 75ms/epoch - 7ms/step\n",
      "Epoch 116/200\n",
      "11/11 - 0s - loss: 4.3140e-04 - val_loss: 0.0018 - 89ms/epoch - 8ms/step\n",
      "Epoch 117/200\n",
      "11/11 - 0s - loss: 4.2745e-04 - val_loss: 0.0018 - 84ms/epoch - 8ms/step\n",
      "Epoch 118/200\n",
      "11/11 - 0s - loss: 4.2808e-04 - val_loss: 0.0018 - 83ms/epoch - 8ms/step\n",
      "Epoch 119/200\n",
      "11/11 - 0s - loss: 4.2908e-04 - val_loss: 0.0021 - 82ms/epoch - 7ms/step\n",
      "Epoch 120/200\n",
      "11/11 - 0s - loss: 4.6187e-04 - val_loss: 0.0019 - 79ms/epoch - 7ms/step\n",
      "Epoch 121/200\n",
      "11/11 - 0s - loss: 4.2328e-04 - val_loss: 0.0017 - 79ms/epoch - 7ms/step\n",
      "Epoch 122/200\n",
      "11/11 - 0s - loss: 4.2307e-04 - val_loss: 0.0017 - 83ms/epoch - 8ms/step\n",
      "Epoch 123/200\n",
      "11/11 - 0s - loss: 4.2671e-04 - val_loss: 0.0017 - 94ms/epoch - 9ms/step\n",
      "Epoch 124/200\n",
      "11/11 - 0s - loss: 4.4224e-04 - val_loss: 0.0018 - 99ms/epoch - 9ms/step\n",
      "Epoch 125/200\n",
      "11/11 - 0s - loss: 4.4425e-04 - val_loss: 0.0018 - 89ms/epoch - 8ms/step\n",
      "Epoch 126/200\n",
      "11/11 - 0s - loss: 4.6308e-04 - val_loss: 0.0017 - 88ms/epoch - 8ms/step\n",
      "Epoch 127/200\n",
      "11/11 - 0s - loss: 4.5452e-04 - val_loss: 0.0018 - 80ms/epoch - 7ms/step\n",
      "Epoch 128/200\n",
      "11/11 - 0s - loss: 4.2540e-04 - val_loss: 0.0017 - 66ms/epoch - 6ms/step\n",
      "Epoch 129/200\n",
      "11/11 - 0s - loss: 4.2094e-04 - val_loss: 0.0017 - 75ms/epoch - 7ms/step\n",
      "Epoch 130/200\n",
      "11/11 - 0s - loss: 4.4498e-04 - val_loss: 0.0017 - 96ms/epoch - 9ms/step\n",
      "Epoch 131/200\n",
      "11/11 - 0s - loss: 4.6813e-04 - val_loss: 0.0017 - 81ms/epoch - 7ms/step\n",
      "Epoch 132/200\n",
      "11/11 - 0s - loss: 4.8311e-04 - val_loss: 0.0018 - 76ms/epoch - 7ms/step\n",
      "Epoch 133/200\n",
      "11/11 - 0s - loss: 4.2754e-04 - val_loss: 0.0017 - 85ms/epoch - 8ms/step\n",
      "Epoch 134/200\n",
      "11/11 - 0s - loss: 4.4529e-04 - val_loss: 0.0018 - 83ms/epoch - 8ms/step\n",
      "Epoch 135/200\n",
      "11/11 - 0s - loss: 4.5577e-04 - val_loss: 0.0017 - 84ms/epoch - 8ms/step\n",
      "Epoch 136/200\n",
      "11/11 - 0s - loss: 4.5155e-04 - val_loss: 0.0018 - 86ms/epoch - 8ms/step\n",
      "Epoch 137/200\n",
      "11/11 - 0s - loss: 4.2257e-04 - val_loss: 0.0018 - 78ms/epoch - 7ms/step\n",
      "Epoch 138/200\n",
      "11/11 - 0s - loss: 4.1338e-04 - val_loss: 0.0018 - 77ms/epoch - 7ms/step\n",
      "Epoch 139/200\n",
      "11/11 - 0s - loss: 4.2744e-04 - val_loss: 0.0018 - 72ms/epoch - 7ms/step\n",
      "Epoch 140/200\n",
      "11/11 - 0s - loss: 4.2019e-04 - val_loss: 0.0018 - 89ms/epoch - 8ms/step\n",
      "Epoch 141/200\n",
      "11/11 - 0s - loss: 4.3845e-04 - val_loss: 0.0021 - 86ms/epoch - 8ms/step\n",
      "Epoch 142/200\n",
      "11/11 - 0s - loss: 4.6331e-04 - val_loss: 0.0018 - 90ms/epoch - 8ms/step\n",
      "Epoch 143/200\n",
      "11/11 - 0s - loss: 4.5741e-04 - val_loss: 0.0020 - 90ms/epoch - 8ms/step\n",
      "Epoch 144/200\n",
      "11/11 - 0s - loss: 4.7294e-04 - val_loss: 0.0017 - 87ms/epoch - 8ms/step\n",
      "Epoch 145/200\n",
      "11/11 - 0s - loss: 4.8847e-04 - val_loss: 0.0018 - 81ms/epoch - 7ms/step\n",
      "Epoch 146/200\n",
      "11/11 - 0s - loss: 4.2223e-04 - val_loss: 0.0018 - 66ms/epoch - 6ms/step\n",
      "Epoch 147/200\n",
      "11/11 - 0s - loss: 4.2384e-04 - val_loss: 0.0019 - 75ms/epoch - 7ms/step\n",
      "Epoch 148/200\n",
      "11/11 - 0s - loss: 4.5278e-04 - val_loss: 0.0017 - 79ms/epoch - 7ms/step\n",
      "Epoch 149/200\n",
      "11/11 - 0s - loss: 4.1163e-04 - val_loss: 0.0018 - 91ms/epoch - 8ms/step\n",
      "Epoch 150/200\n",
      "11/11 - 0s - loss: 4.2231e-04 - val_loss: 0.0019 - 97ms/epoch - 9ms/step\n",
      "Epoch 151/200\n",
      "11/11 - 0s - loss: 4.1867e-04 - val_loss: 0.0017 - 94ms/epoch - 9ms/step\n",
      "Epoch 152/200\n",
      "11/11 - 0s - loss: 4.3575e-04 - val_loss: 0.0017 - 91ms/epoch - 8ms/step\n",
      "Epoch 153/200\n",
      "11/11 - 0s - loss: 4.3534e-04 - val_loss: 0.0020 - 92ms/epoch - 8ms/step\n",
      "Epoch 154/200\n",
      "11/11 - 0s - loss: 4.4522e-04 - val_loss: 0.0018 - 83ms/epoch - 8ms/step\n",
      "Epoch 155/200\n",
      "11/11 - 0s - loss: 4.6341e-04 - val_loss: 0.0019 - 81ms/epoch - 7ms/step\n",
      "Epoch 156/200\n",
      "11/11 - 0s - loss: 4.3927e-04 - val_loss: 0.0018 - 75ms/epoch - 7ms/step\n",
      "Epoch 157/200\n",
      "11/11 - 0s - loss: 4.6028e-04 - val_loss: 0.0018 - 69ms/epoch - 6ms/step\n",
      "Epoch 158/200\n",
      "11/11 - 0s - loss: 4.2169e-04 - val_loss: 0.0021 - 67ms/epoch - 6ms/step\n",
      "Epoch 159/200\n",
      "11/11 - 0s - loss: 4.7706e-04 - val_loss: 0.0018 - 69ms/epoch - 6ms/step\n",
      "Epoch 160/200\n",
      "11/11 - 0s - loss: 4.2356e-04 - val_loss: 0.0019 - 85ms/epoch - 8ms/step\n",
      "Epoch 161/200\n",
      "11/11 - 0s - loss: 4.0580e-04 - val_loss: 0.0018 - 88ms/epoch - 8ms/step\n",
      "Epoch 162/200\n",
      "11/11 - 0s - loss: 4.0876e-04 - val_loss: 0.0017 - 92ms/epoch - 8ms/step\n",
      "Epoch 163/200\n",
      "11/11 - 0s - loss: 4.1491e-04 - val_loss: 0.0018 - 103ms/epoch - 9ms/step\n",
      "Epoch 164/200\n",
      "11/11 - 0s - loss: 4.2010e-04 - val_loss: 0.0017 - 93ms/epoch - 8ms/step\n",
      "Epoch 165/200\n",
      "11/11 - 0s - loss: 4.0717e-04 - val_loss: 0.0018 - 78ms/epoch - 7ms/step\n",
      "Epoch 166/200\n",
      "11/11 - 0s - loss: 4.0660e-04 - val_loss: 0.0018 - 67ms/epoch - 6ms/step\n",
      "Epoch 167/200\n",
      "11/11 - 0s - loss: 4.0669e-04 - val_loss: 0.0018 - 67ms/epoch - 6ms/step\n",
      "Epoch 168/200\n",
      "11/11 - 0s - loss: 4.1997e-04 - val_loss: 0.0018 - 81ms/epoch - 7ms/step\n",
      "Epoch 169/200\n",
      "11/11 - 0s - loss: 4.0945e-04 - val_loss: 0.0018 - 84ms/epoch - 8ms/step\n",
      "Epoch 170/200\n",
      "11/11 - 0s - loss: 4.1826e-04 - val_loss: 0.0019 - 83ms/epoch - 8ms/step\n",
      "Epoch 171/200\n",
      "11/11 - 0s - loss: 4.4038e-04 - val_loss: 0.0018 - 80ms/epoch - 7ms/step\n",
      "Epoch 172/200\n",
      "11/11 - 0s - loss: 4.5964e-04 - val_loss: 0.0018 - 77ms/epoch - 7ms/step\n",
      "Epoch 173/200\n",
      "11/11 - 0s - loss: 4.2241e-04 - val_loss: 0.0018 - 70ms/epoch - 6ms/step\n",
      "Epoch 174/200\n",
      "11/11 - 0s - loss: 4.1467e-04 - val_loss: 0.0021 - 68ms/epoch - 6ms/step\n",
      "Epoch 175/200\n",
      "11/11 - 0s - loss: 4.7717e-04 - val_loss: 0.0020 - 69ms/epoch - 6ms/step\n",
      "Epoch 176/200\n",
      "11/11 - 0s - loss: 4.4343e-04 - val_loss: 0.0018 - 75ms/epoch - 7ms/step\n",
      "Epoch 177/200\n",
      "11/11 - 0s - loss: 4.2912e-04 - val_loss: 0.0018 - 75ms/epoch - 7ms/step\n",
      "Epoch 178/200\n",
      "11/11 - 0s - loss: 4.0900e-04 - val_loss: 0.0018 - 91ms/epoch - 8ms/step\n",
      "Epoch 179/200\n",
      "11/11 - 0s - loss: 3.9684e-04 - val_loss: 0.0018 - 90ms/epoch - 8ms/step\n",
      "Epoch 180/200\n",
      "11/11 - 0s - loss: 4.5672e-04 - val_loss: 0.0020 - 89ms/epoch - 8ms/step\n",
      "Epoch 181/200\n",
      "11/11 - 0s - loss: 4.7796e-04 - val_loss: 0.0019 - 87ms/epoch - 8ms/step\n",
      "Epoch 182/200\n",
      "11/11 - 0s - loss: 5.6708e-04 - val_loss: 0.0019 - 67ms/epoch - 6ms/step\n",
      "Epoch 183/200\n",
      "11/11 - 0s - loss: 4.6248e-04 - val_loss: 0.0019 - 73ms/epoch - 7ms/step\n",
      "Epoch 184/200\n",
      "11/11 - 0s - loss: 3.9890e-04 - val_loss: 0.0019 - 76ms/epoch - 7ms/step\n",
      "Epoch 185/200\n",
      "11/11 - 0s - loss: 4.3503e-04 - val_loss: 0.0019 - 90ms/epoch - 8ms/step\n",
      "Epoch 186/200\n",
      "11/11 - 0s - loss: 4.3780e-04 - val_loss: 0.0021 - 87ms/epoch - 8ms/step\n",
      "Epoch 187/200\n",
      "11/11 - 0s - loss: 4.2073e-04 - val_loss: 0.0020 - 91ms/epoch - 8ms/step\n",
      "Epoch 188/200\n",
      "11/11 - 0s - loss: 4.0884e-04 - val_loss: 0.0019 - 85ms/epoch - 8ms/step\n",
      "Epoch 189/200\n",
      "11/11 - 0s - loss: 4.3550e-04 - val_loss: 0.0021 - 75ms/epoch - 7ms/step\n",
      "Epoch 190/200\n",
      "11/11 - 0s - loss: 4.5321e-04 - val_loss: 0.0019 - 64ms/epoch - 6ms/step\n",
      "Epoch 191/200\n",
      "11/11 - 0s - loss: 5.4222e-04 - val_loss: 0.0019 - 71ms/epoch - 6ms/step\n",
      "Epoch 192/200\n",
      "11/11 - 0s - loss: 5.9769e-04 - val_loss: 0.0020 - 70ms/epoch - 6ms/step\n",
      "Epoch 193/200\n",
      "11/11 - 0s - loss: 4.9916e-04 - val_loss: 0.0020 - 73ms/epoch - 7ms/step\n",
      "Epoch 194/200\n",
      "11/11 - 0s - loss: 4.2909e-04 - val_loss: 0.0020 - 95ms/epoch - 9ms/step\n",
      "Epoch 195/200\n",
      "11/11 - 0s - loss: 4.0828e-04 - val_loss: 0.0019 - 92ms/epoch - 8ms/step\n",
      "Epoch 196/200\n",
      "11/11 - 0s - loss: 4.1233e-04 - val_loss: 0.0018 - 88ms/epoch - 8ms/step\n",
      "Epoch 197/200\n",
      "11/11 - 0s - loss: 4.3755e-04 - val_loss: 0.0019 - 77ms/epoch - 7ms/step\n",
      "Epoch 198/200\n",
      "11/11 - 0s - loss: 4.3818e-04 - val_loss: 0.0020 - 70ms/epoch - 6ms/step\n",
      "Epoch 199/200\n",
      "11/11 - 0s - loss: 4.0246e-04 - val_loss: 0.0019 - 73ms/epoch - 7ms/step\n",
      "Epoch 200/200\n",
      "11/11 - 0s - loss: 3.9832e-04 - val_loss: 0.0019 - 76ms/epoch - 7ms/step\n"
     ]
    }
   ],
   "source": [
    "history = model.fit(X_train,y_train,validation_data=(X_test,ytest),epochs=200,verbose=2)"
   ]
  },
  {
   "cell_type": "code",
   "execution_count": 20,
   "metadata": {},
   "outputs": [
    {
     "data": {
      "image/png": "[encoded data removed]",
      "text/plain": [
       "<Figure size 576x432 with 1 Axes>"
      ]
     },
     "metadata": {},
     "output_type": "display_data"
    }
   ],
   "source": [
    "from matplotlib.pyplot import figure\n",
    "figure(figsize=(8, 6))\n",
    "plt.plot(history.history['loss'])\n",
    "plt.plot(history.history['val_loss'])\n",
    "plt.title('model loss')\n",
    "plt.ylabel('loss')\n",
    "plt.xlabel('epoch')\n",
    "plt.legend(['train', 'test'], loc='upper right')\n",
    "plt.show()"
   ]
  },
  {
   "cell_type": "code",
   "execution_count": 21,
   "metadata": {},
   "outputs": [
    {
     "name": "stdout",
     "output_type": "stream",
     "text": [
      "11/11 [==============================] - 0s 2ms/step\n",
      "6/6 [==============================] - 0s 2ms/step\n"
     ]
    }
   ],
   "source": [
    "train_predict=model.predict(X_train)\n",
    "test_predict=model.predict(X_test)"
   ]
  },
  {
   "cell_type": "code",
   "execution_count": 22,
   "metadata": {},
   "outputs": [],
   "source": [
    "rstrain_predict=scaler.inverse_transform(train_predict)\n",
    "rstest_predict=scaler.inverse_transform(test_predict)\n",
    "rsytest=scaler.inverse_transform(np.array(ytest).reshape(-1,1))\n",
    "rsytrain=scaler.inverse_transform(np.array(y_train).reshape(-1,1))"
   ]
  },
  {
   "cell_type": "code",
   "execution_count": 23,
   "metadata": {},
   "outputs": [
    {
     "name": "stdout",
     "output_type": "stream",
     "text": [
      "0.4090952732282828\n"
     ]
    }
   ],
   "source": [
    "RMSE_train=math.sqrt(mean_squared_error(rsytrain,rstrain_predict))\n",
    "print(RMSE_train)"
   ]
  },
  {
   "cell_type": "code",
   "execution_count": 24,
   "metadata": {},
   "outputs": [
    {
     "name": "stdout",
     "output_type": "stream",
     "text": [
      "RMSE: 0.9059522215365919\n",
      "MAE: 0.4270970550031294\n",
      "R-Squared: 0.9178879625693611\n"
     ]
    }
   ],
   "source": [
    "RMSE_test=math.sqrt(mean_squared_error(rsytest,rstest_predict))\n",
    "MAE_test=mean_absolute_error(rsytest,rstest_predict)\n",
    "R2_test=r2_score(rsytest,rstest_predict)\n",
    "print(\"RMSE:\", RMSE_test)\n",
    "print(\"MAE:\", MAE_test)\n",
    "print(\"R-Squared:\", R2_test)"
   ]
  },
  {
   "cell_type": "code",
   "execution_count": 25,
   "metadata": {},
   "outputs": [
    {
     "data": {
      "image/png": "[encoded data removed]",
      "text/plain": [
       "<Figure size 720x360 with 1 Axes>"
      ]
     },
     "metadata": {},
     "output_type": "display_data"
    }
   ],
   "source": [
    "look_back=10\n",
    "trainPredictPlot = numpy.empty_like(data1)\n",
    "trainPredictPlot[:, :] = np.nan\n",
    "trainPredictPlot[look_back:len(train_predict)+look_back, :] = rstrain_predict\n",
    "# shift test predictions for plotting\n",
    "testPredictPlot = numpy.empty_like(data1)\n",
    "testPredictPlot[:, :] = numpy.nan\n",
    "testPredictPlot[len(train_predict)+(look_back*2)+1:len(data1)-1, :] = rstest_predict\n",
    "# plot baseline and predictions\n",
    "plt.figure(figsize=(10,5))\n",
    "plt.plot(scaler.inverse_transform(data1))\n",
    "plt.plot(trainPredictPlot,label='Train_prediction')\n",
    "plt.plot(testPredictPlot, label='Test_prediction')\n",
    "plt.title('RICB Gated Recurrent Unit Plot', fontsize=20)\n",
    "plt.ylabel('Price')\n",
    "plt.xlabel('Number of Days')\n",
    "plt.legend()\n",
    "plt.show()"
   ]
  },
  {
   "cell_type": "code",
   "execution_count": 26,
   "metadata": {},
   "outputs": [
    {
     "data": {
      "text/plain": [
       "192"
      ]
     },
     "execution_count": 26,
     "metadata": {},
     "output_type": "execute_result"
    }
   ],
   "source": [
    "len(test_data)"
   ]
  },
  {
   "cell_type": "code",
   "execution_count": 27,
   "metadata": {},
   "outputs": [
    {
     "data": {
      "text/plain": [
       "(1, 10)"
      ]
     },
     "execution_count": 27,
     "metadata": {},
     "output_type": "execute_result"
    }
   ],
   "source": [
    "x_input=test_data[182:].reshape(1,-1)\n",
    "x_input.shape"
   ]
  },
  {
   "cell_type": "code",
   "execution_count": 28,
   "metadata": {},
   "outputs": [
    {
     "data": {
      "text/plain": [
       "[0.05769230769230793,\n",
       " 0.259615384615385,\n",
       " 0.34615384615384626,\n",
       " 0.3846153846153846,\n",
       " 0.3846153846153846,\n",
       " 0.3846153846153846,\n",
       " 0.3846153846153846,\n",
       " 0.3846153846153846,\n",
       " 0.3846153846153846,\n",
       " 0.3846153846153846]"
      ]
     },
     "execution_count": 28,
     "metadata": {},
     "output_type": "execute_result"
    }
   ],
   "source": [
    "temp_input=list(x_input)\n",
    "temp_input=temp_input[0].tolist()\n",
    "temp_input"
   ]
  },
  {
   "cell_type": "code",
   "execution_count": 29,
   "metadata": {},
   "outputs": [],
   "source": [
    "lst_output=[]\n",
    "n_steps=10\n",
    "i=0\n",
    "while(i<30):\n",
    "    \n",
    "    if(len(temp_input)>10):\n",
    "        #print(temp_input)\n",
    "        x_input=np.array(temp_input[1:])\n",
    "        #print(\"{} day input {}\".format(i,x_input))\n",
    "        x_input=x_input.reshape(1,-1)\n",
    "        x_input = x_input.reshape((1, n_steps, 1))\n",
    "        #print(x_input)\n",
    "        yhat = model.predict(x_input, verbose=0)\n",
    "        #print(\"{} day output {}\".format(i,yhat))\n",
    "        temp_input.extend(yhat[0].tolist())\n",
    "        temp_input=temp_input[1:]\n",
    "        #print(temp_input)\n",
    "        lst_output.extend(yhat.tolist())\n",
    "        i=i+1\n",
    "    else:\n",
    "        x_input = x_input.reshape((1, n_steps,1))\n",
    "        yhat = model.predict(x_input, verbose=0)\n",
    "        #print(yhat[0])\n",
    "        temp_input.extend(yhat[0].tolist())\n",
    "        #print(len(temp_input))\n",
    "        lst_output.extend(yhat.tolist())\n",
    "        i=i+1\n",
    "    "
   ]
  },
  {
   "cell_type": "code",
   "execution_count": 30,
   "metadata": {},
   "outputs": [],
   "source": [
    "forecast_rescaled=scaler.inverse_transform(lst_output)"
   ]
  },
  {
   "cell_type": "code",
   "execution_count": 31,
   "metadata": {},
   "outputs": [
    {
     "data": {
      "text/plain": [
       "array([[70.04484534],\n",
       "       [70.09113612],\n",
       "       [70.13742814],\n",
       "       [70.18396254],\n",
       "       [70.23098602],\n",
       "       [70.27865543],\n",
       "       [70.32704268],\n",
       "       [70.37617378],\n",
       "       [70.42606797],\n",
       "       [70.47673764],\n",
       "       [70.52819395],\n",
       "       [70.58044186],\n",
       "       [70.63349066],\n",
       "       [70.68734779],\n",
       "       [70.74201946],\n",
       "       [70.79751124],\n",
       "       [70.8538312 ],\n",
       "       [70.91098614],\n",
       "       [70.96898103],\n",
       "       [71.02782454],\n",
       "       [71.08751979],\n",
       "       [71.1468214 ],\n",
       "       [71.20244088],\n",
       "       [71.25186768],\n",
       "       [71.29458852],\n",
       "       [71.33102679],\n",
       "       [71.36194434],\n",
       "       [71.3881495 ],\n",
       "       [71.41032724],\n",
       "       [71.42907701]])"
      ]
     },
     "execution_count": 31,
     "metadata": {},
     "output_type": "execute_result"
    }
   ],
   "source": [
    "forecast_rescaled"
   ]
  },
  {
   "cell_type": "code",
   "execution_count": 32,
   "metadata": {},
   "outputs": [],
   "source": [
    "day_new=np.arange(0,547)\n",
    "day_pred=np.arange(547,577)"
   ]
  },
  {
   "cell_type": "code",
   "execution_count": 33,
   "metadata": {},
   "outputs": [
    {
     "data": {
      "text/html": [
       "<div>\n",
       "<style scoped>\n",
       "    .dataframe tbody tr th:only-of-type {\n",
       "        vertical-align: middle;\n",
       "    }\n",
       "\n",
       "    .dataframe tbody tr th {\n",
       "        vertical-align: top;\n",
       "    }\n",
       "\n",
       "    .dataframe thead th {\n",
       "        text-align: right;\n",
       "    }\n",
       "</style>\n",
       "<table border=\"1\" class=\"dataframe\">\n",
       "  <thead>\n",
       "    <tr style=\"text-align: right;\">\n",
       "      <th></th>\n",
       "      <th>predicted_price</th>\n",
       "    </tr>\n",
       "  </thead>\n",
       "  <tbody>\n",
       "    <tr>\n",
       "      <th>0</th>\n",
       "      <td>70.044845</td>\n",
       "    </tr>\n",
       "    <tr>\n",
       "      <th>1</th>\n",
       "      <td>70.091136</td>\n",
       "    </tr>\n",
       "    <tr>\n",
       "      <th>2</th>\n",
       "      <td>70.137428</td>\n",
       "    </tr>\n",
       "    <tr>\n",
       "      <th>3</th>\n",
       "      <td>70.183963</td>\n",
       "    </tr>\n",
       "    <tr>\n",
       "      <th>4</th>\n",
       "      <td>70.230986</td>\n",
       "    </tr>\n",
       "  </tbody>\n",
       "</table>\n",
       "</div>"
      ],
      "text/plain": [
       "   predicted_price\n",
       "0        70.044845\n",
       "1        70.091136\n",
       "2        70.137428\n",
       "3        70.183963\n",
       "4        70.230986"
      ]
     },
     "execution_count": 33,
     "metadata": {},
     "output_type": "execute_result"
    }
   ],
   "source": [
    "forecast = pd.DataFrame(forecast_rescaled, columns = ['predicted_price'])\n",
    "forecast.head()"
   ]
  },
  {
   "cell_type": "code",
   "execution_count": 34,
   "metadata": {},
   "outputs": [
    {
     "data": {
      "text/html": [
       "<div>\n",
       "<style scoped>\n",
       "    .dataframe tbody tr th:only-of-type {\n",
       "        vertical-align: middle;\n",
       "    }\n",
       "\n",
       "    .dataframe tbody tr th {\n",
       "        vertical-align: top;\n",
       "    }\n",
       "\n",
       "    .dataframe thead th {\n",
       "        text-align: right;\n",
       "    }\n",
       "</style>\n",
       "<table border=\"1\" class=\"dataframe\">\n",
       "  <thead>\n",
       "    <tr style=\"text-align: right;\">\n",
       "      <th></th>\n",
       "      <th>price</th>\n",
       "    </tr>\n",
       "    <tr>\n",
       "      <th>date</th>\n",
       "      <th></th>\n",
       "    </tr>\n",
       "  </thead>\n",
       "  <tbody>\n",
       "    <tr>\n",
       "      <th>2020-04-23</th>\n",
       "      <td>70.0</td>\n",
       "    </tr>\n",
       "    <tr>\n",
       "      <th>2020-04-24</th>\n",
       "      <td>70.0</td>\n",
       "    </tr>\n",
       "    <tr>\n",
       "      <th>2020-04-27</th>\n",
       "      <td>70.0</td>\n",
       "    </tr>\n",
       "    <tr>\n",
       "      <th>2020-04-28</th>\n",
       "      <td>70.0</td>\n",
       "    </tr>\n",
       "    <tr>\n",
       "      <th>2020-04-29</th>\n",
       "      <td>70.0</td>\n",
       "    </tr>\n",
       "    <tr>\n",
       "      <th>...</th>\n",
       "      <td>...</td>\n",
       "    </tr>\n",
       "    <tr>\n",
       "      <th>2022-07-11</th>\n",
       "      <td>70.0</td>\n",
       "    </tr>\n",
       "    <tr>\n",
       "      <th>2022-07-12</th>\n",
       "      <td>70.0</td>\n",
       "    </tr>\n",
       "    <tr>\n",
       "      <th>2022-07-13</th>\n",
       "      <td>70.0</td>\n",
       "    </tr>\n",
       "    <tr>\n",
       "      <th>2022-07-14</th>\n",
       "      <td>70.0</td>\n",
       "    </tr>\n",
       "    <tr>\n",
       "      <th>2022-07-15</th>\n",
       "      <td>70.0</td>\n",
       "    </tr>\n",
       "  </tbody>\n",
       "</table>\n",
       "<p>548 rows × 1 columns</p>\n",
       "</div>"
      ],
      "text/plain": [
       "            price\n",
       "date             \n",
       "2020-04-23   70.0\n",
       "2020-04-24   70.0\n",
       "2020-04-27   70.0\n",
       "2020-04-28   70.0\n",
       "2020-04-29   70.0\n",
       "...           ...\n",
       "2022-07-11   70.0\n",
       "2022-07-12   70.0\n",
       "2022-07-13   70.0\n",
       "2022-07-14   70.0\n",
       "2022-07-15   70.0\n",
       "\n",
       "[548 rows x 1 columns]"
      ]
     },
     "execution_count": 34,
     "metadata": {},
     "output_type": "execute_result"
    }
   ],
   "source": [
    "data"
   ]
  },
  {
   "cell_type": "code",
   "execution_count": 35,
   "metadata": {},
   "outputs": [
    {
     "data": {
      "text/html": [
       "<div>\n",
       "<style scoped>\n",
       "    .dataframe tbody tr th:only-of-type {\n",
       "        vertical-align: middle;\n",
       "    }\n",
       "\n",
       "    .dataframe tbody tr th {\n",
       "        vertical-align: top;\n",
       "    }\n",
       "\n",
       "    .dataframe thead th {\n",
       "        text-align: right;\n",
       "    }\n",
       "</style>\n",
       "<table border=\"1\" class=\"dataframe\">\n",
       "  <thead>\n",
       "    <tr style=\"text-align: right;\">\n",
       "      <th></th>\n",
       "      <th>predicted_price</th>\n",
       "      <th>date</th>\n",
       "    </tr>\n",
       "  </thead>\n",
       "  <tbody>\n",
       "    <tr>\n",
       "      <th>0</th>\n",
       "      <td>70.044845</td>\n",
       "      <td>2022-07-15</td>\n",
       "    </tr>\n",
       "    <tr>\n",
       "      <th>1</th>\n",
       "      <td>70.091136</td>\n",
       "      <td>2022-07-16</td>\n",
       "    </tr>\n",
       "    <tr>\n",
       "      <th>2</th>\n",
       "      <td>70.137428</td>\n",
       "      <td>2022-07-17</td>\n",
       "    </tr>\n",
       "    <tr>\n",
       "      <th>3</th>\n",
       "      <td>70.183963</td>\n",
       "      <td>2022-07-18</td>\n",
       "    </tr>\n",
       "    <tr>\n",
       "      <th>4</th>\n",
       "      <td>70.230986</td>\n",
       "      <td>2022-07-19</td>\n",
       "    </tr>\n",
       "  </tbody>\n",
       "</table>\n",
       "</div>"
      ],
      "text/plain": [
       "   predicted_price       date\n",
       "0        70.044845 2022-07-15\n",
       "1        70.091136 2022-07-16\n",
       "2        70.137428 2022-07-17\n",
       "3        70.183963 2022-07-18\n",
       "4        70.230986 2022-07-19"
      ]
     },
     "execution_count": 35,
     "metadata": {},
     "output_type": "execute_result"
    }
   ],
   "source": [
    "forecast['date'] = pd.date_range(start='2022-07-15', periods=30, freq='D')\n",
    "forecast.head()"
   ]
  },
  {
   "cell_type": "code",
   "execution_count": 36,
   "metadata": {},
   "outputs": [
    {
     "data": {
      "text/html": [
       "<div>\n",
       "<style scoped>\n",
       "    .dataframe tbody tr th:only-of-type {\n",
       "        vertical-align: middle;\n",
       "    }\n",
       "\n",
       "    .dataframe tbody tr th {\n",
       "        vertical-align: top;\n",
       "    }\n",
       "\n",
       "    .dataframe thead th {\n",
       "        text-align: right;\n",
       "    }\n",
       "</style>\n",
       "<table border=\"1\" class=\"dataframe\">\n",
       "  <thead>\n",
       "    <tr style=\"text-align: right;\">\n",
       "      <th></th>\n",
       "      <th>predicted_price</th>\n",
       "    </tr>\n",
       "    <tr>\n",
       "      <th>date</th>\n",
       "      <th></th>\n",
       "    </tr>\n",
       "  </thead>\n",
       "  <tbody>\n",
       "    <tr>\n",
       "      <th>2022-07-15</th>\n",
       "      <td>70.044845</td>\n",
       "    </tr>\n",
       "    <tr>\n",
       "      <th>2022-07-16</th>\n",
       "      <td>70.091136</td>\n",
       "    </tr>\n",
       "    <tr>\n",
       "      <th>2022-07-17</th>\n",
       "      <td>70.137428</td>\n",
       "    </tr>\n",
       "    <tr>\n",
       "      <th>2022-07-18</th>\n",
       "      <td>70.183963</td>\n",
       "    </tr>\n",
       "    <tr>\n",
       "      <th>2022-07-19</th>\n",
       "      <td>70.230986</td>\n",
       "    </tr>\n",
       "    <tr>\n",
       "      <th>2022-07-20</th>\n",
       "      <td>70.278655</td>\n",
       "    </tr>\n",
       "    <tr>\n",
       "      <th>2022-07-21</th>\n",
       "      <td>70.327043</td>\n",
       "    </tr>\n",
       "    <tr>\n",
       "      <th>2022-07-22</th>\n",
       "      <td>70.376174</td>\n",
       "    </tr>\n",
       "    <tr>\n",
       "      <th>2022-07-23</th>\n",
       "      <td>70.426068</td>\n",
       "    </tr>\n",
       "    <tr>\n",
       "      <th>2022-07-24</th>\n",
       "      <td>70.476738</td>\n",
       "    </tr>\n",
       "    <tr>\n",
       "      <th>2022-07-25</th>\n",
       "      <td>70.528194</td>\n",
       "    </tr>\n",
       "    <tr>\n",
       "      <th>2022-07-26</th>\n",
       "      <td>70.580442</td>\n",
       "    </tr>\n",
       "    <tr>\n",
       "      <th>2022-07-27</th>\n",
       "      <td>70.633491</td>\n",
       "    </tr>\n",
       "    <tr>\n",
       "      <th>2022-07-28</th>\n",
       "      <td>70.687348</td>\n",
       "    </tr>\n",
       "    <tr>\n",
       "      <th>2022-07-29</th>\n",
       "      <td>70.742019</td>\n",
       "    </tr>\n",
       "    <tr>\n",
       "      <th>2022-07-30</th>\n",
       "      <td>70.797511</td>\n",
       "    </tr>\n",
       "    <tr>\n",
       "      <th>2022-07-31</th>\n",
       "      <td>70.853831</td>\n",
       "    </tr>\n",
       "    <tr>\n",
       "      <th>2022-08-01</th>\n",
       "      <td>70.910986</td>\n",
       "    </tr>\n",
       "    <tr>\n",
       "      <th>2022-08-02</th>\n",
       "      <td>70.968981</td>\n",
       "    </tr>\n",
       "    <tr>\n",
       "      <th>2022-08-03</th>\n",
       "      <td>71.027825</td>\n",
       "    </tr>\n",
       "    <tr>\n",
       "      <th>2022-08-04</th>\n",
       "      <td>71.087520</td>\n",
       "    </tr>\n",
       "    <tr>\n",
       "      <th>2022-08-05</th>\n",
       "      <td>71.146821</td>\n",
       "    </tr>\n",
       "    <tr>\n",
       "      <th>2022-08-06</th>\n",
       "      <td>71.202441</td>\n",
       "    </tr>\n",
       "    <tr>\n",
       "      <th>2022-08-07</th>\n",
       "      <td>71.251868</td>\n",
       "    </tr>\n",
       "    <tr>\n",
       "      <th>2022-08-08</th>\n",
       "      <td>71.294589</td>\n",
       "    </tr>\n",
       "    <tr>\n",
       "      <th>2022-08-09</th>\n",
       "      <td>71.331027</td>\n",
       "    </tr>\n",
       "    <tr>\n",
       "      <th>2022-08-10</th>\n",
       "      <td>71.361944</td>\n",
       "    </tr>\n",
       "    <tr>\n",
       "      <th>2022-08-11</th>\n",
       "      <td>71.388149</td>\n",
       "    </tr>\n",
       "    <tr>\n",
       "      <th>2022-08-12</th>\n",
       "      <td>71.410327</td>\n",
       "    </tr>\n",
       "    <tr>\n",
       "      <th>2022-08-13</th>\n",
       "      <td>71.429077</td>\n",
       "    </tr>\n",
       "  </tbody>\n",
       "</table>\n",
       "</div>"
      ],
      "text/plain": [
       "            predicted_price\n",
       "date                       \n",
       "2022-07-15        70.044845\n",
       "2022-07-16        70.091136\n",
       "2022-07-17        70.137428\n",
       "2022-07-18        70.183963\n",
       "2022-07-19        70.230986\n",
       "2022-07-20        70.278655\n",
       "2022-07-21        70.327043\n",
       "2022-07-22        70.376174\n",
       "2022-07-23        70.426068\n",
       "2022-07-24        70.476738\n",
       "2022-07-25        70.528194\n",
       "2022-07-26        70.580442\n",
       "2022-07-27        70.633491\n",
       "2022-07-28        70.687348\n",
       "2022-07-29        70.742019\n",
       "2022-07-30        70.797511\n",
       "2022-07-31        70.853831\n",
       "2022-08-01        70.910986\n",
       "2022-08-02        70.968981\n",
       "2022-08-03        71.027825\n",
       "2022-08-04        71.087520\n",
       "2022-08-05        71.146821\n",
       "2022-08-06        71.202441\n",
       "2022-08-07        71.251868\n",
       "2022-08-08        71.294589\n",
       "2022-08-09        71.331027\n",
       "2022-08-10        71.361944\n",
       "2022-08-11        71.388149\n",
       "2022-08-12        71.410327\n",
       "2022-08-13        71.429077"
      ]
     },
     "execution_count": 36,
     "metadata": {},
     "output_type": "execute_result"
    }
   ],
   "source": [
    "forecast = forecast.set_index('date')\n",
    "forecast"
   ]
  },
  {
   "cell_type": "code",
   "execution_count": 38,
   "metadata": {},
   "outputs": [
    {
     "data": {
      "image/png": "[encoded data removed]",
      "text/plain": [
       "<Figure size 432x288 with 1 Axes>"
      ]
     },
     "metadata": {},
     "output_type": "display_data"
    }
   ],
   "source": [
    "plt.plot(day_new,scaler.inverse_transform(data1[1:]))\n",
    "plt.plot(day_pred,scaler.inverse_transform(lst_output))\n",
    "plt.show()"
   ]
  },
  {
   "cell_type": "code",
   "execution_count": 40,
   "metadata": {},
   "outputs": [
    {
     "data": {
      "image/png": "[encoded data removed]",
      "text/plain": [
       "<Figure size 3000x1500 with 1 Axes>"
      ]
     },
     "metadata": {},
     "output_type": "display_data"
    }
   ],
   "source": [
    "plt.figure(figsize=(10,5),dpi=300)\n",
    "plt.plot(scaler.inverse_transform(data1), label='Original Data')\n",
    "plt.plot(trainPredictPlot,label='Train_prediction')\n",
    "plt.plot(testPredictPlot, label='Test_prediction')\n",
    "plt.plot(day_pred,scaler.inverse_transform(lst_output), label='Forecast')\n",
    "plt.title('RICB Gated Recurrent Unit Plot', fontsize=20)\n",
    "plt.ylabel('Price')\n",
    "plt.xlabel('Number of Days')\n",
    "plt.legend()\n",
    "plt.show()"
   ]
  },
  {
   "cell_type": "code",
   "execution_count": 41,
   "metadata": {},
   "outputs": [],
   "source": [
    "forecast = forecast.to_csv('predictedData/ricb_gru_forecast.csv')"
   ]
  },
  {
   "cell_type": "code",
   "execution_count": 42,
   "metadata": {},
   "outputs": [
    {
     "data": {
      "text/plain": [
       "30"
      ]
     },
     "execution_count": 42,
     "metadata": {},
     "output_type": "execute_result"
    }
   ],
   "source": [
    "len(day_pred)"
   ]
  },
  {
   "cell_type": "code",
   "execution_count": 43,
   "metadata": {},
   "outputs": [
    {
     "data": {
      "text/plain": [
       "30"
      ]
     },
     "execution_count": 43,
     "metadata": {},
     "output_type": "execute_result"
    }
   ],
   "source": [
    "len(forecast_rescaled)"
   ]
  },
  {
   "cell_type": "code",
   "execution_count": 44,
   "metadata": {},
   "outputs": [
    {
     "data": {
      "text/plain": [
       "548"
      ]
     },
     "execution_count": 44,
     "metadata": {},
     "output_type": "execute_result"
    }
   ],
   "source": [
    "len(testPredictPlot)"
   ]
  },
  {
   "cell_type": "code",
   "execution_count": 45,
   "metadata": {},
   "outputs": [
    {
     "data": {
      "text/plain": [
       "367"
      ]
     },
     "execution_count": 45,
     "metadata": {},
     "output_type": "execute_result"
    }
   ],
   "source": [
    "np.count_nonzero(np.isnan(testPredictPlot))"
   ]
  },
  {
   "cell_type": "code",
   "execution_count": 46,
   "metadata": {},
   "outputs": [
    {
     "data": {
      "text/plain": [
       "<bound method NDFrame.head of      predicted_price\n",
       "0                NaN\n",
       "1                NaN\n",
       "2                NaN\n",
       "3                NaN\n",
       "4                NaN\n",
       "..               ...\n",
       "543        69.997215\n",
       "544        70.022881\n",
       "545        70.036079\n",
       "546        70.041618\n",
       "547              NaN\n",
       "\n",
       "[548 rows x 1 columns]>"
      ]
     },
     "execution_count": 46,
     "metadata": {},
     "output_type": "execute_result"
    }
   ],
   "source": [
    "#convert numpy array to DF\n",
    "test = pd.DataFrame(testPredictPlot, columns = ['predicted_price'])\n",
    "test.head"
   ]
  },
  {
   "cell_type": "code",
   "execution_count": 47,
   "metadata": {},
   "outputs": [
    {
     "data": {
      "text/plain": [
       "predicted_price    367\n",
       "dtype: int64"
      ]
     },
     "execution_count": 47,
     "metadata": {},
     "output_type": "execute_result"
    }
   ],
   "source": [
    "test.isnull().sum()"
   ]
  },
  {
   "cell_type": "code",
   "execution_count": 48,
   "metadata": {},
   "outputs": [
    {
     "data": {
      "text/html": [
       "<div>\n",
       "<style scoped>\n",
       "    .dataframe tbody tr th:only-of-type {\n",
       "        vertical-align: middle;\n",
       "    }\n",
       "\n",
       "    .dataframe tbody tr th {\n",
       "        vertical-align: top;\n",
       "    }\n",
       "\n",
       "    .dataframe thead th {\n",
       "        text-align: right;\n",
       "    }\n",
       "</style>\n",
       "<table border=\"1\" class=\"dataframe\">\n",
       "  <thead>\n",
       "    <tr style=\"text-align: right;\">\n",
       "      <th></th>\n",
       "      <th>predicted_price</th>\n",
       "    </tr>\n",
       "  </thead>\n",
       "  <tbody>\n",
       "    <tr>\n",
       "      <th>366</th>\n",
       "      <td>72.824959</td>\n",
       "    </tr>\n",
       "    <tr>\n",
       "      <th>367</th>\n",
       "      <td>72.824959</td>\n",
       "    </tr>\n",
       "    <tr>\n",
       "      <th>368</th>\n",
       "      <td>72.618179</td>\n",
       "    </tr>\n",
       "    <tr>\n",
       "      <th>369</th>\n",
       "      <td>71.817673</td>\n",
       "    </tr>\n",
       "    <tr>\n",
       "      <th>370</th>\n",
       "      <td>71.909645</td>\n",
       "    </tr>\n",
       "    <tr>\n",
       "      <th>...</th>\n",
       "      <td>...</td>\n",
       "    </tr>\n",
       "    <tr>\n",
       "      <th>542</th>\n",
       "      <td>69.977318</td>\n",
       "    </tr>\n",
       "    <tr>\n",
       "      <th>543</th>\n",
       "      <td>69.997215</td>\n",
       "    </tr>\n",
       "    <tr>\n",
       "      <th>544</th>\n",
       "      <td>70.022881</td>\n",
       "    </tr>\n",
       "    <tr>\n",
       "      <th>545</th>\n",
       "      <td>70.036079</td>\n",
       "    </tr>\n",
       "    <tr>\n",
       "      <th>546</th>\n",
       "      <td>70.041618</td>\n",
       "    </tr>\n",
       "  </tbody>\n",
       "</table>\n",
       "<p>181 rows × 1 columns</p>\n",
       "</div>"
      ],
      "text/plain": [
       "     predicted_price\n",
       "366        72.824959\n",
       "367        72.824959\n",
       "368        72.618179\n",
       "369        71.817673\n",
       "370        71.909645\n",
       "..               ...\n",
       "542        69.977318\n",
       "543        69.997215\n",
       "544        70.022881\n",
       "545        70.036079\n",
       "546        70.041618\n",
       "\n",
       "[181 rows x 1 columns]"
      ]
     },
     "execution_count": 48,
     "metadata": {},
     "output_type": "execute_result"
    }
   ],
   "source": [
    "test = test.dropna()\n",
    "test"
   ]
  },
  {
   "cell_type": "code",
   "execution_count": 49,
   "metadata": {},
   "outputs": [
    {
     "data": {
      "text/plain": [
       "356"
      ]
     },
     "execution_count": 49,
     "metadata": {},
     "output_type": "execute_result"
    }
   ],
   "source": [
    "size = int(len(data) * 0.65)\n",
    "size"
   ]
  },
  {
   "cell_type": "code",
   "execution_count": 50,
   "metadata": {},
   "outputs": [
    {
     "data": {
      "text/html": [
       "<div>\n",
       "<style scoped>\n",
       "    .dataframe tbody tr th:only-of-type {\n",
       "        vertical-align: middle;\n",
       "    }\n",
       "\n",
       "    .dataframe tbody tr th {\n",
       "        vertical-align: top;\n",
       "    }\n",
       "\n",
       "    .dataframe thead th {\n",
       "        text-align: right;\n",
       "    }\n",
       "</style>\n",
       "<table border=\"1\" class=\"dataframe\">\n",
       "  <thead>\n",
       "    <tr style=\"text-align: right;\">\n",
       "      <th></th>\n",
       "      <th>price</th>\n",
       "    </tr>\n",
       "    <tr>\n",
       "      <th>date</th>\n",
       "      <th></th>\n",
       "    </tr>\n",
       "  </thead>\n",
       "  <tbody>\n",
       "    <tr>\n",
       "      <th>2021-10-13</th>\n",
       "      <td>73.0</td>\n",
       "    </tr>\n",
       "    <tr>\n",
       "      <th>2021-10-14</th>\n",
       "      <td>73.0</td>\n",
       "    </tr>\n",
       "    <tr>\n",
       "      <th>2021-10-18</th>\n",
       "      <td>72.8</td>\n",
       "    </tr>\n",
       "    <tr>\n",
       "      <th>2021-10-19</th>\n",
       "      <td>72.0</td>\n",
       "    </tr>\n",
       "    <tr>\n",
       "      <th>2021-10-20</th>\n",
       "      <td>72.0</td>\n",
       "    </tr>\n",
       "    <tr>\n",
       "      <th>...</th>\n",
       "      <td>...</td>\n",
       "    </tr>\n",
       "    <tr>\n",
       "      <th>2022-07-11</th>\n",
       "      <td>70.0</td>\n",
       "    </tr>\n",
       "    <tr>\n",
       "      <th>2022-07-12</th>\n",
       "      <td>70.0</td>\n",
       "    </tr>\n",
       "    <tr>\n",
       "      <th>2022-07-13</th>\n",
       "      <td>70.0</td>\n",
       "    </tr>\n",
       "    <tr>\n",
       "      <th>2022-07-14</th>\n",
       "      <td>70.0</td>\n",
       "    </tr>\n",
       "    <tr>\n",
       "      <th>2022-07-15</th>\n",
       "      <td>70.0</td>\n",
       "    </tr>\n",
       "  </tbody>\n",
       "</table>\n",
       "<p>183 rows × 1 columns</p>\n",
       "</div>"
      ],
      "text/plain": [
       "            price\n",
       "date             \n",
       "2021-10-13   73.0\n",
       "2021-10-14   73.0\n",
       "2021-10-18   72.8\n",
       "2021-10-19   72.0\n",
       "2021-10-20   72.0\n",
       "...           ...\n",
       "2022-07-11   70.0\n",
       "2022-07-12   70.0\n",
       "2022-07-13   70.0\n",
       "2022-07-14   70.0\n",
       "2022-07-15   70.0\n",
       "\n",
       "[183 rows x 1 columns]"
      ]
     },
     "execution_count": 50,
     "metadata": {},
     "output_type": "execute_result"
    }
   ],
   "source": [
    "#to know the date of test data\n",
    "data.iloc[355+10:]  #10 for that time steps"
   ]
  },
  {
   "cell_type": "code",
   "execution_count": 51,
   "metadata": {},
   "outputs": [
    {
     "name": "stderr",
     "output_type": "stream",
     "text": [
      "C:\\Users\\Asus\\AppData\\Local\\Temp/ipykernel_2108/531574769.py:1: SettingWithCopyWarning: \n",
      "A value is trying to be set on a copy of a slice from a DataFrame.\n",
      "Try using .loc[row_indexer,col_indexer] = value instead\n",
      "\n",
      "See the caveats in the documentation: https://pandas.pydata.org/pandas-docs/stable/user_guide/indexing.html#returning-a-view-versus-a-copy\n",
      "  test['date'] = pd.date_range(start='2021-10-15', periods=181, freq='D')\n"
     ]
    },
    {
     "data": {
      "text/html": [
       "<div>\n",
       "<style scoped>\n",
       "    .dataframe tbody tr th:only-of-type {\n",
       "        vertical-align: middle;\n",
       "    }\n",
       "\n",
       "    .dataframe tbody tr th {\n",
       "        vertical-align: top;\n",
       "    }\n",
       "\n",
       "    .dataframe thead th {\n",
       "        text-align: right;\n",
       "    }\n",
       "</style>\n",
       "<table border=\"1\" class=\"dataframe\">\n",
       "  <thead>\n",
       "    <tr style=\"text-align: right;\">\n",
       "      <th></th>\n",
       "      <th>predicted_price</th>\n",
       "      <th>date</th>\n",
       "    </tr>\n",
       "  </thead>\n",
       "  <tbody>\n",
       "    <tr>\n",
       "      <th>366</th>\n",
       "      <td>72.824959</td>\n",
       "      <td>2021-10-15</td>\n",
       "    </tr>\n",
       "    <tr>\n",
       "      <th>367</th>\n",
       "      <td>72.824959</td>\n",
       "      <td>2021-10-16</td>\n",
       "    </tr>\n",
       "    <tr>\n",
       "      <th>368</th>\n",
       "      <td>72.618179</td>\n",
       "      <td>2021-10-17</td>\n",
       "    </tr>\n",
       "    <tr>\n",
       "      <th>369</th>\n",
       "      <td>71.817673</td>\n",
       "      <td>2021-10-18</td>\n",
       "    </tr>\n",
       "    <tr>\n",
       "      <th>370</th>\n",
       "      <td>71.909645</td>\n",
       "      <td>2021-10-19</td>\n",
       "    </tr>\n",
       "    <tr>\n",
       "      <th>...</th>\n",
       "      <td>...</td>\n",
       "      <td>...</td>\n",
       "    </tr>\n",
       "    <tr>\n",
       "      <th>542</th>\n",
       "      <td>69.977318</td>\n",
       "      <td>2022-04-09</td>\n",
       "    </tr>\n",
       "    <tr>\n",
       "      <th>543</th>\n",
       "      <td>69.997215</td>\n",
       "      <td>2022-04-10</td>\n",
       "    </tr>\n",
       "    <tr>\n",
       "      <th>544</th>\n",
       "      <td>70.022881</td>\n",
       "      <td>2022-04-11</td>\n",
       "    </tr>\n",
       "    <tr>\n",
       "      <th>545</th>\n",
       "      <td>70.036079</td>\n",
       "      <td>2022-04-12</td>\n",
       "    </tr>\n",
       "    <tr>\n",
       "      <th>546</th>\n",
       "      <td>70.041618</td>\n",
       "      <td>2022-04-13</td>\n",
       "    </tr>\n",
       "  </tbody>\n",
       "</table>\n",
       "<p>181 rows × 2 columns</p>\n",
       "</div>"
      ],
      "text/plain": [
       "     predicted_price       date\n",
       "366        72.824959 2021-10-15\n",
       "367        72.824959 2021-10-16\n",
       "368        72.618179 2021-10-17\n",
       "369        71.817673 2021-10-18\n",
       "370        71.909645 2021-10-19\n",
       "..               ...        ...\n",
       "542        69.977318 2022-04-09\n",
       "543        69.997215 2022-04-10\n",
       "544        70.022881 2022-04-11\n",
       "545        70.036079 2022-04-12\n",
       "546        70.041618 2022-04-13\n",
       "\n",
       "[181 rows x 2 columns]"
      ]
     },
     "execution_count": 51,
     "metadata": {},
     "output_type": "execute_result"
    }
   ],
   "source": [
    "test['date'] = pd.date_range(start='2021-10-15', periods=181, freq='D')\n",
    "test"
   ]
  },
  {
   "cell_type": "code",
   "execution_count": 52,
   "metadata": {},
   "outputs": [
    {
     "data": {
      "text/html": [
       "<div>\n",
       "<style scoped>\n",
       "    .dataframe tbody tr th:only-of-type {\n",
       "        vertical-align: middle;\n",
       "    }\n",
       "\n",
       "    .dataframe tbody tr th {\n",
       "        vertical-align: top;\n",
       "    }\n",
       "\n",
       "    .dataframe thead th {\n",
       "        text-align: right;\n",
       "    }\n",
       "</style>\n",
       "<table border=\"1\" class=\"dataframe\">\n",
       "  <thead>\n",
       "    <tr style=\"text-align: right;\">\n",
       "      <th></th>\n",
       "      <th>date</th>\n",
       "      <th>predicted_price</th>\n",
       "    </tr>\n",
       "  </thead>\n",
       "  <tbody>\n",
       "    <tr>\n",
       "      <th>366</th>\n",
       "      <td>2021-10-15</td>\n",
       "      <td>72.824959</td>\n",
       "    </tr>\n",
       "    <tr>\n",
       "      <th>367</th>\n",
       "      <td>2021-10-16</td>\n",
       "      <td>72.824959</td>\n",
       "    </tr>\n",
       "    <tr>\n",
       "      <th>368</th>\n",
       "      <td>2021-10-17</td>\n",
       "      <td>72.618179</td>\n",
       "    </tr>\n",
       "    <tr>\n",
       "      <th>369</th>\n",
       "      <td>2021-10-18</td>\n",
       "      <td>71.817673</td>\n",
       "    </tr>\n",
       "    <tr>\n",
       "      <th>370</th>\n",
       "      <td>2021-10-19</td>\n",
       "      <td>71.909645</td>\n",
       "    </tr>\n",
       "    <tr>\n",
       "      <th>...</th>\n",
       "      <td>...</td>\n",
       "      <td>...</td>\n",
       "    </tr>\n",
       "    <tr>\n",
       "      <th>542</th>\n",
       "      <td>2022-04-09</td>\n",
       "      <td>69.977318</td>\n",
       "    </tr>\n",
       "    <tr>\n",
       "      <th>543</th>\n",
       "      <td>2022-04-10</td>\n",
       "      <td>69.997215</td>\n",
       "    </tr>\n",
       "    <tr>\n",
       "      <th>544</th>\n",
       "      <td>2022-04-11</td>\n",
       "      <td>70.022881</td>\n",
       "    </tr>\n",
       "    <tr>\n",
       "      <th>545</th>\n",
       "      <td>2022-04-12</td>\n",
       "      <td>70.036079</td>\n",
       "    </tr>\n",
       "    <tr>\n",
       "      <th>546</th>\n",
       "      <td>2022-04-13</td>\n",
       "      <td>70.041618</td>\n",
       "    </tr>\n",
       "  </tbody>\n",
       "</table>\n",
       "<p>181 rows × 2 columns</p>\n",
       "</div>"
      ],
      "text/plain": [
       "          date  predicted_price\n",
       "366 2021-10-15        72.824959\n",
       "367 2021-10-16        72.824959\n",
       "368 2021-10-17        72.618179\n",
       "369 2021-10-18        71.817673\n",
       "370 2021-10-19        71.909645\n",
       "..         ...              ...\n",
       "542 2022-04-09        69.977318\n",
       "543 2022-04-10        69.997215\n",
       "544 2022-04-11        70.022881\n",
       "545 2022-04-12        70.036079\n",
       "546 2022-04-13        70.041618\n",
       "\n",
       "[181 rows x 2 columns]"
      ]
     },
     "execution_count": 52,
     "metadata": {},
     "output_type": "execute_result"
    }
   ],
   "source": [
    "col = ['date','predicted_price']\n",
    "test = test[col]\n",
    "test"
   ]
  },
  {
   "cell_type": "code",
   "execution_count": 53,
   "metadata": {},
   "outputs": [],
   "source": [
    "test = test.set_index('date')"
   ]
  },
  {
   "cell_type": "code",
   "execution_count": 54,
   "metadata": {},
   "outputs": [],
   "source": [
    "test = test.to_csv('predictedData/ricb_gru_testPred.csv')"
   ]
  },
  {
   "cell_type": "code",
   "execution_count": null,
   "metadata": {},
   "outputs": [],
   "source": []
  }
 ],
 "metadata": {
  "kernelspec": {
   "display_name": "Python 3 (ipykernel)",
   "language": "python",
   "name": "python3"
  },
  "language_info": {
   "codemirror_mode": {
    "name": "ipython",
    "version": 3
   },
   "file_extension": ".py",
   "mimetype": "text/x-python",
   "name": "python",
   "nbconvert_exporter": "python",
   "pygments_lexer": "ipython3",
   "version": "3.9.7"
  }
 },
 "nbformat": 4,
 "nbformat_minor": 4
}
