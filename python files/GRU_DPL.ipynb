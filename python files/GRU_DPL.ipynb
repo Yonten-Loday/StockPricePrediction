{
 "cells": [
  {
   "cell_type": "code",
   "execution_count": 1,
   "metadata": {},
   "outputs": [],
   "source": [
    "from numpy.random import seed\n",
    "seed(1)\n",
    "from tensorflow import random\n",
    "random.set_seed(5)\n",
    "import pandas as pd\n",
    "import numpy as np\n",
    "import matplotlib.pyplot as plt\n",
    "import seaborn as sns\n",
    "sns.set()\n",
    "from sklearn.preprocessing import MinMaxScaler\n",
    "from tensorflow.keras.models import Sequential\n",
    "from tensorflow.keras.layers import Dense\n",
    "from tensorflow.keras.layers import LSTM, GRU\n",
    "import math\n",
    "from sklearn.metrics import mean_squared_error,mean_absolute_error, r2_score\n",
    "from numpy import array"
   ]
  },
  {
   "cell_type": "code",
   "execution_count": 2,
   "metadata": {},
   "outputs": [
    {
     "data": {
      "text/html": [
       "<div>\n",
       "<style scoped>\n",
       "    .dataframe tbody tr th:only-of-type {\n",
       "        vertical-align: middle;\n",
       "    }\n",
       "\n",
       "    .dataframe tbody tr th {\n",
       "        vertical-align: top;\n",
       "    }\n",
       "\n",
       "    .dataframe thead th {\n",
       "        text-align: right;\n",
       "    }\n",
       "</style>\n",
       "<table border=\"1\" class=\"dataframe\">\n",
       "  <thead>\n",
       "    <tr style=\"text-align: right;\">\n",
       "      <th></th>\n",
       "      <th>DateTime</th>\n",
       "      <th>DPL</th>\n",
       "    </tr>\n",
       "  </thead>\n",
       "  <tbody>\n",
       "    <tr>\n",
       "      <th>0</th>\n",
       "      <td>2020-04-23 06:34:02</td>\n",
       "      <td>15</td>\n",
       "    </tr>\n",
       "    <tr>\n",
       "      <th>1</th>\n",
       "      <td>2020-04-23 09:34:02</td>\n",
       "      <td>15</td>\n",
       "    </tr>\n",
       "    <tr>\n",
       "      <th>2</th>\n",
       "      <td>2020-04-24 06:34:01</td>\n",
       "      <td>16</td>\n",
       "    </tr>\n",
       "    <tr>\n",
       "      <th>3</th>\n",
       "      <td>2020-04-24 09:34:02</td>\n",
       "      <td>16</td>\n",
       "    </tr>\n",
       "    <tr>\n",
       "      <th>4</th>\n",
       "      <td>2020-04-27 06:33:57</td>\n",
       "      <td>16</td>\n",
       "    </tr>\n",
       "    <tr>\n",
       "      <th>...</th>\n",
       "      <td>...</td>\n",
       "      <td>...</td>\n",
       "    </tr>\n",
       "    <tr>\n",
       "      <th>2497</th>\n",
       "      <td>2022-07-14 04:55:53</td>\n",
       "      <td>13</td>\n",
       "    </tr>\n",
       "    <tr>\n",
       "      <th>2498</th>\n",
       "      <td>2022-07-14 05:55:54</td>\n",
       "      <td>13</td>\n",
       "    </tr>\n",
       "    <tr>\n",
       "      <th>2499</th>\n",
       "      <td>2022-07-14 07:55:52</td>\n",
       "      <td>13</td>\n",
       "    </tr>\n",
       "    <tr>\n",
       "      <th>2500</th>\n",
       "      <td>2022-07-14 08:55:53</td>\n",
       "      <td>13</td>\n",
       "    </tr>\n",
       "    <tr>\n",
       "      <th>2501</th>\n",
       "      <td>2022-07-15 03:55:51</td>\n",
       "      <td>13</td>\n",
       "    </tr>\n",
       "  </tbody>\n",
       "</table>\n",
       "<p>2502 rows × 2 columns</p>\n",
       "</div>"
      ],
      "text/plain": [
       "                 DateTime  DPL\n",
       "0     2020-04-23 06:34:02   15\n",
       "1     2020-04-23 09:34:02   15\n",
       "2     2020-04-24 06:34:01   16\n",
       "3     2020-04-24 09:34:02   16\n",
       "4     2020-04-27 06:33:57   16\n",
       "...                   ...  ...\n",
       "2497  2022-07-14 04:55:53   13\n",
       "2498  2022-07-14 05:55:54   13\n",
       "2499  2022-07-14 07:55:52   13\n",
       "2500  2022-07-14 08:55:53   13\n",
       "2501  2022-07-15 03:55:51   13\n",
       "\n",
       "[2502 rows x 2 columns]"
      ]
     },
     "execution_count": 2,
     "metadata": {},
     "output_type": "execute_result"
    }
   ],
   "source": [
    "data = pd.read_csv(\"../data/DPL.csv\")\n",
    "data"
   ]
  },
  {
   "cell_type": "code",
   "execution_count": 3,
   "metadata": {},
   "outputs": [
    {
     "data": {
      "text/html": [
       "<div>\n",
       "<style scoped>\n",
       "    .dataframe tbody tr th:only-of-type {\n",
       "        vertical-align: middle;\n",
       "    }\n",
       "\n",
       "    .dataframe tbody tr th {\n",
       "        vertical-align: top;\n",
       "    }\n",
       "\n",
       "    .dataframe thead th {\n",
       "        text-align: right;\n",
       "    }\n",
       "</style>\n",
       "<table border=\"1\" class=\"dataframe\">\n",
       "  <thead>\n",
       "    <tr style=\"text-align: right;\">\n",
       "      <th></th>\n",
       "      <th>date</th>\n",
       "      <th>price</th>\n",
       "    </tr>\n",
       "  </thead>\n",
       "  <tbody>\n",
       "    <tr>\n",
       "      <th>0</th>\n",
       "      <td>2020-04-23</td>\n",
       "      <td>15</td>\n",
       "    </tr>\n",
       "    <tr>\n",
       "      <th>1</th>\n",
       "      <td>2020-04-23</td>\n",
       "      <td>15</td>\n",
       "    </tr>\n",
       "    <tr>\n",
       "      <th>2</th>\n",
       "      <td>2020-04-24</td>\n",
       "      <td>16</td>\n",
       "    </tr>\n",
       "    <tr>\n",
       "      <th>3</th>\n",
       "      <td>2020-04-24</td>\n",
       "      <td>16</td>\n",
       "    </tr>\n",
       "    <tr>\n",
       "      <th>4</th>\n",
       "      <td>2020-04-27</td>\n",
       "      <td>16</td>\n",
       "    </tr>\n",
       "    <tr>\n",
       "      <th>...</th>\n",
       "      <td>...</td>\n",
       "      <td>...</td>\n",
       "    </tr>\n",
       "    <tr>\n",
       "      <th>2497</th>\n",
       "      <td>2022-07-14</td>\n",
       "      <td>13</td>\n",
       "    </tr>\n",
       "    <tr>\n",
       "      <th>2498</th>\n",
       "      <td>2022-07-14</td>\n",
       "      <td>13</td>\n",
       "    </tr>\n",
       "    <tr>\n",
       "      <th>2499</th>\n",
       "      <td>2022-07-14</td>\n",
       "      <td>13</td>\n",
       "    </tr>\n",
       "    <tr>\n",
       "      <th>2500</th>\n",
       "      <td>2022-07-14</td>\n",
       "      <td>13</td>\n",
       "    </tr>\n",
       "    <tr>\n",
       "      <th>2501</th>\n",
       "      <td>2022-07-15</td>\n",
       "      <td>13</td>\n",
       "    </tr>\n",
       "  </tbody>\n",
       "</table>\n",
       "<p>2502 rows × 2 columns</p>\n",
       "</div>"
      ],
      "text/plain": [
       "           date  price\n",
       "0    2020-04-23     15\n",
       "1    2020-04-23     15\n",
       "2    2020-04-24     16\n",
       "3    2020-04-24     16\n",
       "4    2020-04-27     16\n",
       "...         ...    ...\n",
       "2497 2022-07-14     13\n",
       "2498 2022-07-14     13\n",
       "2499 2022-07-14     13\n",
       "2500 2022-07-14     13\n",
       "2501 2022-07-15     13\n",
       "\n",
       "[2502 rows x 2 columns]"
      ]
     },
     "execution_count": 3,
     "metadata": {},
     "output_type": "execute_result"
    }
   ],
   "source": [
    "#Changing datetime to datetime format\n",
    "data['DateTime'] = pd.to_datetime(data['DateTime']).dt.date\n",
    "\n",
    "#renaming the columns\n",
    "data.rename(columns = {'DateTime':'date','DPL':'price'}, inplace = True)\n",
    "data['date'] = pd.to_datetime(data['date'],format = \"%Y-%m-%d\")\n",
    "data"
   ]
  },
  {
   "cell_type": "code",
   "execution_count": 4,
   "metadata": {},
   "outputs": [
    {
     "data": {
      "text/html": [
       "<div>\n",
       "<style scoped>\n",
       "    .dataframe tbody tr th:only-of-type {\n",
       "        vertical-align: middle;\n",
       "    }\n",
       "\n",
       "    .dataframe tbody tr th {\n",
       "        vertical-align: top;\n",
       "    }\n",
       "\n",
       "    .dataframe thead th {\n",
       "        text-align: right;\n",
       "    }\n",
       "</style>\n",
       "<table border=\"1\" class=\"dataframe\">\n",
       "  <thead>\n",
       "    <tr style=\"text-align: right;\">\n",
       "      <th></th>\n",
       "      <th>price</th>\n",
       "    </tr>\n",
       "    <tr>\n",
       "      <th>date</th>\n",
       "      <th></th>\n",
       "    </tr>\n",
       "  </thead>\n",
       "  <tbody>\n",
       "    <tr>\n",
       "      <th>2020-04-23</th>\n",
       "      <td>15.0</td>\n",
       "    </tr>\n",
       "    <tr>\n",
       "      <th>2020-04-24</th>\n",
       "      <td>16.0</td>\n",
       "    </tr>\n",
       "    <tr>\n",
       "      <th>2020-04-27</th>\n",
       "      <td>16.0</td>\n",
       "    </tr>\n",
       "    <tr>\n",
       "      <th>2020-04-28</th>\n",
       "      <td>16.0</td>\n",
       "    </tr>\n",
       "    <tr>\n",
       "      <th>2020-04-29</th>\n",
       "      <td>16.0</td>\n",
       "    </tr>\n",
       "    <tr>\n",
       "      <th>...</th>\n",
       "      <td>...</td>\n",
       "    </tr>\n",
       "    <tr>\n",
       "      <th>2022-07-11</th>\n",
       "      <td>13.0</td>\n",
       "    </tr>\n",
       "    <tr>\n",
       "      <th>2022-07-12</th>\n",
       "      <td>13.0</td>\n",
       "    </tr>\n",
       "    <tr>\n",
       "      <th>2022-07-13</th>\n",
       "      <td>13.0</td>\n",
       "    </tr>\n",
       "    <tr>\n",
       "      <th>2022-07-14</th>\n",
       "      <td>13.0</td>\n",
       "    </tr>\n",
       "    <tr>\n",
       "      <th>2022-07-15</th>\n",
       "      <td>13.0</td>\n",
       "    </tr>\n",
       "  </tbody>\n",
       "</table>\n",
       "<p>548 rows × 1 columns</p>\n",
       "</div>"
      ],
      "text/plain": [
       "            price\n",
       "date             \n",
       "2020-04-23   15.0\n",
       "2020-04-24   16.0\n",
       "2020-04-27   16.0\n",
       "2020-04-28   16.0\n",
       "2020-04-29   16.0\n",
       "...           ...\n",
       "2022-07-11   13.0\n",
       "2022-07-12   13.0\n",
       "2022-07-13   13.0\n",
       "2022-07-14   13.0\n",
       "2022-07-15   13.0\n",
       "\n",
       "[548 rows x 1 columns]"
      ]
     },
     "execution_count": 4,
     "metadata": {},
     "output_type": "execute_result"
    }
   ],
   "source": [
    "data = data.groupby('date').mean()\n",
    "data"
   ]
  },
  {
   "cell_type": "code",
   "execution_count": 5,
   "metadata": {},
   "outputs": [
    {
     "data": {
      "text/plain": [
       "0      15.0\n",
       "1      16.0\n",
       "2      16.0\n",
       "3      16.0\n",
       "4      16.0\n",
       "       ... \n",
       "543    13.0\n",
       "544    13.0\n",
       "545    13.0\n",
       "546    13.0\n",
       "547    13.0\n",
       "Name: price, Length: 548, dtype: float64"
      ]
     },
     "execution_count": 5,
     "metadata": {},
     "output_type": "execute_result"
    }
   ],
   "source": [
    "data1=data.reset_index()['price']\n",
    "data1"
   ]
  },
  {
   "cell_type": "code",
   "execution_count": 6,
   "metadata": {},
   "outputs": [
    {
     "name": "stdout",
     "output_type": "stream",
     "text": [
      "Size of the dataset:  (548,)\n",
      "Checking for null values:\n",
      " 0\n",
      "Checking Data-type of each column:\n",
      " float64\n"
     ]
    }
   ],
   "source": [
    "print(\"Size of the dataset: \",data1.shape)\n",
    "print(\"Checking for null values:\\n\",data1.isnull().sum())\n",
    "print(\"Checking Data-type of each column:\\n\",data1.dtypes)"
   ]
  },
  {
   "cell_type": "code",
   "execution_count": 7,
   "metadata": {},
   "outputs": [
    {
     "data": {
      "image/png": "[encoded data removed]",
      "text/plain": [
       "<Figure size 720x360 with 1 Axes>"
      ]
     },
     "metadata": {},
     "output_type": "display_data"
    }
   ],
   "source": [
    "plt.figure(figsize=(10,5))\n",
    "plt.plot(data1,label='price')\n",
    "plt.legend()\n",
    "plt.show()"
   ]
  },
  {
   "cell_type": "code",
   "execution_count": 8,
   "metadata": {},
   "outputs": [],
   "source": [
    "scaler=MinMaxScaler(feature_range=(0,1))\n",
    "data1=scaler.fit_transform(np.array(data1).reshape(-1,1))"
   ]
  },
  {
   "cell_type": "code",
   "execution_count": 9,
   "metadata": {},
   "outputs": [],
   "source": [
    "training_size=int(len(data1)*0.65)\n",
    "test_size=len(data1)-training_size\n",
    "train_data,test_data=data1[0:training_size,:],data1[training_size:len(data1),:1]"
   ]
  },
  {
   "cell_type": "code",
   "execution_count": 10,
   "metadata": {},
   "outputs": [
    {
     "data": {
      "text/plain": [
       "356"
      ]
     },
     "execution_count": 10,
     "metadata": {},
     "output_type": "execute_result"
    }
   ],
   "source": [
    "len(train_data)"
   ]
  },
  {
   "cell_type": "code",
   "execution_count": 11,
   "metadata": {},
   "outputs": [
    {
     "data": {
      "text/plain": [
       "(356, 192)"
      ]
     },
     "execution_count": 11,
     "metadata": {},
     "output_type": "execute_result"
    }
   ],
   "source": [
    "training_size,test_size"
   ]
  },
  {
   "cell_type": "code",
   "execution_count": 12,
   "metadata": {},
   "outputs": [],
   "source": [
    "def create_dataset(dataset, time_step=1):\n",
    "    dataX, dataY = [], []\n",
    "    for i in range(len(dataset)-time_step-1):\n",
    "        a = dataset[i:(i+time_step), 0]   \n",
    "        dataX.append(a)\n",
    "        dataY.append(dataset[i + time_step, 0])\n",
    "    return numpy.array(dataX), numpy.array(dataY)"
   ]
  },
  {
   "cell_type": "code",
   "execution_count": 13,
   "metadata": {},
   "outputs": [],
   "source": [
    "import numpy\n",
    "time_step = 10\n",
    "X_train, y_train = create_dataset(train_data, time_step)\n",
    "X_test, ytest = create_dataset(test_data, time_step)"
   ]
  },
  {
   "cell_type": "code",
   "execution_count": 14,
   "metadata": {},
   "outputs": [
    {
     "name": "stdout",
     "output_type": "stream",
     "text": [
      "(345, 10)\n",
      "(345,)\n"
     ]
    },
    {
     "data": {
      "text/plain": [
       "(None, None)"
      ]
     },
     "execution_count": 14,
     "metadata": {},
     "output_type": "execute_result"
    }
   ],
   "source": [
    "print(X_train.shape), print(y_train.shape)"
   ]
  },
  {
   "cell_type": "code",
   "execution_count": 15,
   "metadata": {},
   "outputs": [
    {
     "name": "stdout",
     "output_type": "stream",
     "text": [
      "(181, 10)\n",
      "(181,)\n"
     ]
    },
    {
     "data": {
      "text/plain": [
       "(None, None)"
      ]
     },
     "execution_count": 15,
     "metadata": {},
     "output_type": "execute_result"
    }
   ],
   "source": [
    "print(X_test.shape), print(ytest.shape)"
   ]
  },
  {
   "cell_type": "code",
   "execution_count": 16,
   "metadata": {},
   "outputs": [
    {
     "data": {
      "text/plain": [
       "10"
      ]
     },
     "execution_count": 16,
     "metadata": {},
     "output_type": "execute_result"
    }
   ],
   "source": [
    "X_train.shape[1]"
   ]
  },
  {
   "cell_type": "code",
   "execution_count": 17,
   "metadata": {},
   "outputs": [],
   "source": [
    "X_train =X_train.reshape(X_train.shape[0],X_train.shape[1] , 1)\n",
    "X_test = X_test.reshape(X_test.shape[0],X_test.shape[1] , 1)"
   ]
  },
  {
   "cell_type": "code",
   "execution_count": 18,
   "metadata": {},
   "outputs": [],
   "source": [
    "model=Sequential()\n",
    "model.add(GRU(64,activation='relu', return_sequences=False,input_shape=(time_step,1)))\n",
    "#model.add(GRU(128,activation='relu'))\n",
    "model.add(Dense(64))\n",
    "model.add(Dense(64))\n",
    "model.add(Dense(1))\n",
    "model.compile(loss='mean_squared_error',optimizer='adam')\n",
    "#model.summary()"
   ]
  },
  {
   "cell_type": "code",
   "execution_count": 19,
   "metadata": {},
   "outputs": [
    {
     "name": "stdout",
     "output_type": "stream",
     "text": [
      "Epoch 1/200\n",
      "11/11 - 2s - loss: 0.1696 - val_loss: 0.0272 - 2s/epoch - 150ms/step\n",
      "Epoch 2/200\n",
      "11/11 - 0s - loss: 0.0317 - val_loss: 0.0066 - 86ms/epoch - 8ms/step\n",
      "Epoch 3/200\n",
      "11/11 - 0s - loss: 0.0132 - val_loss: 0.0097 - 86ms/epoch - 8ms/step\n",
      "Epoch 4/200\n",
      "11/11 - 0s - loss: 0.0063 - val_loss: 0.0027 - 84ms/epoch - 8ms/step\n",
      "Epoch 5/200\n",
      "11/11 - 0s - loss: 0.0038 - val_loss: 0.0021 - 85ms/epoch - 8ms/step\n",
      "Epoch 6/200\n",
      "11/11 - 0s - loss: 0.0035 - val_loss: 0.0020 - 84ms/epoch - 8ms/step\n",
      "Epoch 7/200\n",
      "11/11 - 0s - loss: 0.0035 - val_loss: 0.0020 - 86ms/epoch - 8ms/step\n",
      "Epoch 8/200\n",
      "11/11 - 0s - loss: 0.0033 - val_loss: 0.0020 - 86ms/epoch - 8ms/step\n",
      "Epoch 9/200\n",
      "11/11 - 0s - loss: 0.0032 - val_loss: 0.0019 - 84ms/epoch - 8ms/step\n",
      "Epoch 10/200\n",
      "11/11 - 0s - loss: 0.0032 - val_loss: 0.0018 - 85ms/epoch - 8ms/step\n",
      "Epoch 11/200\n",
      "11/11 - 0s - loss: 0.0031 - val_loss: 0.0018 - 85ms/epoch - 8ms/step\n",
      "Epoch 12/200\n",
      "11/11 - 0s - loss: 0.0030 - val_loss: 0.0018 - 87ms/epoch - 8ms/step\n",
      "Epoch 13/200\n",
      "11/11 - 0s - loss: 0.0029 - val_loss: 0.0020 - 87ms/epoch - 8ms/step\n",
      "Epoch 14/200\n",
      "11/11 - 0s - loss: 0.0030 - val_loss: 0.0019 - 86ms/epoch - 8ms/step\n",
      "Epoch 15/200\n",
      "11/11 - 0s - loss: 0.0029 - val_loss: 0.0017 - 86ms/epoch - 8ms/step\n",
      "Epoch 16/200\n",
      "11/11 - 0s - loss: 0.0028 - val_loss: 0.0018 - 86ms/epoch - 8ms/step\n",
      "Epoch 17/200\n",
      "11/11 - 0s - loss: 0.0028 - val_loss: 0.0017 - 87ms/epoch - 8ms/step\n",
      "Epoch 18/200\n",
      "11/11 - 0s - loss: 0.0027 - val_loss: 0.0018 - 88ms/epoch - 8ms/step\n",
      "Epoch 19/200\n",
      "11/11 - 0s - loss: 0.0027 - val_loss: 0.0020 - 87ms/epoch - 8ms/step\n",
      "Epoch 20/200\n",
      "11/11 - 0s - loss: 0.0027 - val_loss: 0.0017 - 87ms/epoch - 8ms/step\n",
      "Epoch 21/200\n",
      "11/11 - 0s - loss: 0.0028 - val_loss: 0.0020 - 86ms/epoch - 8ms/step\n",
      "Epoch 22/200\n",
      "11/11 - 0s - loss: 0.0028 - val_loss: 0.0020 - 86ms/epoch - 8ms/step\n",
      "Epoch 23/200\n",
      "11/11 - 0s - loss: 0.0030 - val_loss: 0.0017 - 86ms/epoch - 8ms/step\n",
      "Epoch 24/200\n",
      "11/11 - 0s - loss: 0.0028 - val_loss: 0.0016 - 86ms/epoch - 8ms/step\n",
      "Epoch 25/200\n",
      "11/11 - 0s - loss: 0.0028 - val_loss: 0.0017 - 87ms/epoch - 8ms/step\n",
      "Epoch 26/200\n",
      "11/11 - 0s - loss: 0.0027 - val_loss: 0.0016 - 87ms/epoch - 8ms/step\n",
      "Epoch 27/200\n",
      "11/11 - 0s - loss: 0.0026 - val_loss: 0.0017 - 87ms/epoch - 8ms/step\n",
      "Epoch 28/200\n",
      "11/11 - 0s - loss: 0.0026 - val_loss: 0.0016 - 85ms/epoch - 8ms/step\n",
      "Epoch 29/200\n",
      "11/11 - 0s - loss: 0.0026 - val_loss: 0.0016 - 86ms/epoch - 8ms/step\n",
      "Epoch 30/200\n",
      "11/11 - 0s - loss: 0.0026 - val_loss: 0.0016 - 86ms/epoch - 8ms/step\n",
      "Epoch 31/200\n",
      "11/11 - 0s - loss: 0.0026 - val_loss: 0.0019 - 85ms/epoch - 8ms/step\n",
      "Epoch 32/200\n",
      "11/11 - 0s - loss: 0.0025 - val_loss: 0.0016 - 87ms/epoch - 8ms/step\n",
      "Epoch 33/200\n",
      "11/11 - 0s - loss: 0.0026 - val_loss: 0.0016 - 86ms/epoch - 8ms/step\n",
      "Epoch 34/200\n",
      "11/11 - 0s - loss: 0.0025 - val_loss: 0.0017 - 84ms/epoch - 8ms/step\n",
      "Epoch 35/200\n",
      "11/11 - 0s - loss: 0.0027 - val_loss: 0.0018 - 85ms/epoch - 8ms/step\n",
      "Epoch 36/200\n",
      "11/11 - 0s - loss: 0.0025 - val_loss: 0.0018 - 84ms/epoch - 8ms/step\n",
      "Epoch 37/200\n",
      "11/11 - 0s - loss: 0.0026 - val_loss: 0.0016 - 85ms/epoch - 8ms/step\n",
      "Epoch 38/200\n",
      "11/11 - 0s - loss: 0.0027 - val_loss: 0.0016 - 84ms/epoch - 8ms/step\n",
      "Epoch 39/200\n",
      "11/11 - 0s - loss: 0.0026 - val_loss: 0.0016 - 86ms/epoch - 8ms/step\n",
      "Epoch 40/200\n",
      "11/11 - 0s - loss: 0.0026 - val_loss: 0.0015 - 86ms/epoch - 8ms/step\n",
      "Epoch 41/200\n",
      "11/11 - 0s - loss: 0.0025 - val_loss: 0.0016 - 85ms/epoch - 8ms/step\n",
      "Epoch 42/200\n",
      "11/11 - 0s - loss: 0.0026 - val_loss: 0.0016 - 87ms/epoch - 8ms/step\n",
      "Epoch 43/200\n",
      "11/11 - 0s - loss: 0.0025 - val_loss: 0.0017 - 85ms/epoch - 8ms/step\n",
      "Epoch 44/200\n",
      "11/11 - 0s - loss: 0.0026 - val_loss: 0.0016 - 85ms/epoch - 8ms/step\n",
      "Epoch 45/200\n",
      "11/11 - 0s - loss: 0.0026 - val_loss: 0.0016 - 86ms/epoch - 8ms/step\n",
      "Epoch 46/200\n",
      "11/11 - 0s - loss: 0.0027 - val_loss: 0.0016 - 87ms/epoch - 8ms/step\n",
      "Epoch 47/200\n",
      "11/11 - 0s - loss: 0.0028 - val_loss: 0.0019 - 87ms/epoch - 8ms/step\n",
      "Epoch 48/200\n",
      "11/11 - 0s - loss: 0.0027 - val_loss: 0.0016 - 87ms/epoch - 8ms/step\n",
      "Epoch 49/200\n",
      "11/11 - 0s - loss: 0.0025 - val_loss: 0.0015 - 85ms/epoch - 8ms/step\n",
      "Epoch 50/200\n",
      "11/11 - 0s - loss: 0.0025 - val_loss: 0.0016 - 86ms/epoch - 8ms/step\n",
      "Epoch 51/200\n",
      "11/11 - 0s - loss: 0.0025 - val_loss: 0.0016 - 84ms/epoch - 8ms/step\n",
      "Epoch 52/200\n",
      "11/11 - 0s - loss: 0.0025 - val_loss: 0.0015 - 85ms/epoch - 8ms/step\n",
      "Epoch 53/200\n",
      "11/11 - 0s - loss: 0.0025 - val_loss: 0.0015 - 86ms/epoch - 8ms/step\n",
      "Epoch 54/200\n",
      "11/11 - 0s - loss: 0.0025 - val_loss: 0.0017 - 87ms/epoch - 8ms/step\n",
      "Epoch 55/200\n",
      "11/11 - 0s - loss: 0.0025 - val_loss: 0.0016 - 85ms/epoch - 8ms/step\n",
      "Epoch 56/200\n",
      "11/11 - 0s - loss: 0.0025 - val_loss: 0.0015 - 85ms/epoch - 8ms/step\n",
      "Epoch 57/200\n",
      "11/11 - 0s - loss: 0.0025 - val_loss: 0.0016 - 86ms/epoch - 8ms/step\n",
      "Epoch 58/200\n",
      "11/11 - 0s - loss: 0.0025 - val_loss: 0.0016 - 89ms/epoch - 8ms/step\n",
      "Epoch 59/200\n",
      "11/11 - 0s - loss: 0.0025 - val_loss: 0.0015 - 85ms/epoch - 8ms/step\n",
      "Epoch 60/200\n",
      "11/11 - 0s - loss: 0.0025 - val_loss: 0.0015 - 86ms/epoch - 8ms/step\n",
      "Epoch 61/200\n",
      "11/11 - 0s - loss: 0.0026 - val_loss: 0.0015 - 84ms/epoch - 8ms/step\n",
      "Epoch 62/200\n",
      "11/11 - 0s - loss: 0.0024 - val_loss: 0.0015 - 85ms/epoch - 8ms/step\n",
      "Epoch 63/200\n",
      "11/11 - 0s - loss: 0.0024 - val_loss: 0.0017 - 86ms/epoch - 8ms/step\n",
      "Epoch 64/200\n",
      "11/11 - 0s - loss: 0.0025 - val_loss: 0.0016 - 85ms/epoch - 8ms/step\n",
      "Epoch 65/200\n",
      "11/11 - 0s - loss: 0.0025 - val_loss: 0.0015 - 87ms/epoch - 8ms/step\n",
      "Epoch 66/200\n",
      "11/11 - 0s - loss: 0.0025 - val_loss: 0.0016 - 86ms/epoch - 8ms/step\n",
      "Epoch 67/200\n",
      "11/11 - 0s - loss: 0.0024 - val_loss: 0.0016 - 84ms/epoch - 8ms/step\n",
      "Epoch 68/200\n",
      "11/11 - 0s - loss: 0.0025 - val_loss: 0.0015 - 86ms/epoch - 8ms/step\n",
      "Epoch 69/200\n",
      "11/11 - 0s - loss: 0.0025 - val_loss: 0.0016 - 85ms/epoch - 8ms/step\n",
      "Epoch 70/200\n",
      "11/11 - 0s - loss: 0.0024 - val_loss: 0.0015 - 89ms/epoch - 8ms/step\n",
      "Epoch 71/200\n",
      "11/11 - 0s - loss: 0.0027 - val_loss: 0.0016 - 91ms/epoch - 8ms/step\n",
      "Epoch 72/200\n",
      "11/11 - 0s - loss: 0.0027 - val_loss: 0.0020 - 89ms/epoch - 8ms/step\n",
      "Epoch 73/200\n",
      "11/11 - 0s - loss: 0.0027 - val_loss: 0.0019 - 99ms/epoch - 9ms/step\n",
      "Epoch 74/200\n",
      "11/11 - 0s - loss: 0.0025 - val_loss: 0.0016 - 89ms/epoch - 8ms/step\n",
      "Epoch 75/200\n",
      "11/11 - 0s - loss: 0.0025 - val_loss: 0.0015 - 88ms/epoch - 8ms/step\n",
      "Epoch 76/200\n",
      "11/11 - 0s - loss: 0.0026 - val_loss: 0.0018 - 88ms/epoch - 8ms/step\n",
      "Epoch 77/200\n",
      "11/11 - 0s - loss: 0.0027 - val_loss: 0.0020 - 91ms/epoch - 8ms/step\n",
      "Epoch 78/200\n",
      "11/11 - 0s - loss: 0.0027 - val_loss: 0.0015 - 88ms/epoch - 8ms/step\n",
      "Epoch 79/200\n",
      "11/11 - 0s - loss: 0.0024 - val_loss: 0.0015 - 88ms/epoch - 8ms/step\n",
      "Epoch 80/200\n",
      "11/11 - 0s - loss: 0.0025 - val_loss: 0.0017 - 89ms/epoch - 8ms/step\n",
      "Epoch 81/200\n",
      "11/11 - 0s - loss: 0.0024 - val_loss: 0.0016 - 88ms/epoch - 8ms/step\n",
      "Epoch 82/200\n",
      "11/11 - 0s - loss: 0.0025 - val_loss: 0.0015 - 88ms/epoch - 8ms/step\n",
      "Epoch 83/200\n",
      "11/11 - 0s - loss: 0.0025 - val_loss: 0.0015 - 90ms/epoch - 8ms/step\n",
      "Epoch 84/200\n",
      "11/11 - 0s - loss: 0.0025 - val_loss: 0.0019 - 88ms/epoch - 8ms/step\n",
      "Epoch 85/200\n",
      "11/11 - 0s - loss: 0.0027 - val_loss: 0.0023 - 89ms/epoch - 8ms/step\n",
      "Epoch 86/200\n",
      "11/11 - 0s - loss: 0.0027 - val_loss: 0.0022 - 90ms/epoch - 8ms/step\n",
      "Epoch 87/200\n",
      "11/11 - 0s - loss: 0.0027 - val_loss: 0.0015 - 92ms/epoch - 8ms/step\n",
      "Epoch 88/200\n",
      "11/11 - 0s - loss: 0.0027 - val_loss: 0.0016 - 90ms/epoch - 8ms/step\n",
      "Epoch 89/200\n",
      "11/11 - 0s - loss: 0.0024 - val_loss: 0.0015 - 90ms/epoch - 8ms/step\n",
      "Epoch 90/200\n",
      "11/11 - 0s - loss: 0.0024 - val_loss: 0.0015 - 90ms/epoch - 8ms/step\n",
      "Epoch 91/200\n",
      "11/11 - 0s - loss: 0.0024 - val_loss: 0.0015 - 90ms/epoch - 8ms/step\n",
      "Epoch 92/200\n",
      "11/11 - 0s - loss: 0.0025 - val_loss: 0.0020 - 92ms/epoch - 8ms/step\n",
      "Epoch 93/200\n",
      "11/11 - 0s - loss: 0.0025 - val_loss: 0.0016 - 89ms/epoch - 8ms/step\n",
      "Epoch 94/200\n",
      "11/11 - 0s - loss: 0.0026 - val_loss: 0.0020 - 87ms/epoch - 8ms/step\n",
      "Epoch 95/200\n",
      "11/11 - 0s - loss: 0.0026 - val_loss: 0.0017 - 86ms/epoch - 8ms/step\n",
      "Epoch 96/200\n",
      "11/11 - 0s - loss: 0.0024 - val_loss: 0.0015 - 84ms/epoch - 8ms/step\n",
      "Epoch 97/200\n",
      "11/11 - 0s - loss: 0.0024 - val_loss: 0.0015 - 84ms/epoch - 8ms/step\n",
      "Epoch 98/200\n",
      "11/11 - 0s - loss: 0.0024 - val_loss: 0.0015 - 84ms/epoch - 8ms/step\n",
      "Epoch 99/200\n",
      "11/11 - 0s - loss: 0.0024 - val_loss: 0.0016 - 84ms/epoch - 8ms/step\n",
      "Epoch 100/200\n",
      "11/11 - 0s - loss: 0.0024 - val_loss: 0.0015 - 83ms/epoch - 8ms/step\n",
      "Epoch 101/200\n",
      "11/11 - 0s - loss: 0.0025 - val_loss: 0.0017 - 86ms/epoch - 8ms/step\n",
      "Epoch 102/200\n",
      "11/11 - 0s - loss: 0.0026 - val_loss: 0.0016 - 85ms/epoch - 8ms/step\n",
      "Epoch 103/200\n",
      "11/11 - 0s - loss: 0.0026 - val_loss: 0.0018 - 86ms/epoch - 8ms/step\n",
      "Epoch 104/200\n",
      "11/11 - 0s - loss: 0.0027 - val_loss: 0.0020 - 95ms/epoch - 9ms/step\n",
      "Epoch 105/200\n",
      "11/11 - 0s - loss: 0.0024 - val_loss: 0.0016 - 98ms/epoch - 9ms/step\n",
      "Epoch 106/200\n",
      "11/11 - 0s - loss: 0.0025 - val_loss: 0.0016 - 84ms/epoch - 8ms/step\n",
      "Epoch 107/200\n",
      "11/11 - 0s - loss: 0.0026 - val_loss: 0.0018 - 84ms/epoch - 8ms/step\n",
      "Epoch 108/200\n",
      "11/11 - 0s - loss: 0.0026 - val_loss: 0.0015 - 89ms/epoch - 8ms/step\n",
      "Epoch 109/200\n",
      "11/11 - 0s - loss: 0.0025 - val_loss: 0.0017 - 87ms/epoch - 8ms/step\n",
      "Epoch 110/200\n",
      "11/11 - 0s - loss: 0.0026 - val_loss: 0.0015 - 86ms/epoch - 8ms/step\n",
      "Epoch 111/200\n",
      "11/11 - 0s - loss: 0.0024 - val_loss: 0.0015 - 85ms/epoch - 8ms/step\n",
      "Epoch 112/200\n",
      "11/11 - 0s - loss: 0.0024 - val_loss: 0.0015 - 87ms/epoch - 8ms/step\n",
      "Epoch 113/200\n",
      "11/11 - 0s - loss: 0.0024 - val_loss: 0.0015 - 86ms/epoch - 8ms/step\n",
      "Epoch 114/200\n",
      "11/11 - 0s - loss: 0.0026 - val_loss: 0.0020 - 85ms/epoch - 8ms/step\n",
      "Epoch 115/200\n",
      "11/11 - 0s - loss: 0.0027 - val_loss: 0.0020 - 86ms/epoch - 8ms/step\n",
      "Epoch 116/200\n",
      "11/11 - 0s - loss: 0.0030 - val_loss: 0.0018 - 87ms/epoch - 8ms/step\n",
      "Epoch 117/200\n",
      "11/11 - 0s - loss: 0.0027 - val_loss: 0.0015 - 84ms/epoch - 8ms/step\n",
      "Epoch 118/200\n",
      "11/11 - 0s - loss: 0.0025 - val_loss: 0.0015 - 84ms/epoch - 8ms/step\n",
      "Epoch 119/200\n",
      "11/11 - 0s - loss: 0.0027 - val_loss: 0.0021 - 87ms/epoch - 8ms/step\n",
      "Epoch 120/200\n",
      "11/11 - 0s - loss: 0.0026 - val_loss: 0.0017 - 85ms/epoch - 8ms/step\n",
      "Epoch 121/200\n",
      "11/11 - 0s - loss: 0.0026 - val_loss: 0.0016 - 86ms/epoch - 8ms/step\n",
      "Epoch 122/200\n",
      "11/11 - 0s - loss: 0.0025 - val_loss: 0.0016 - 85ms/epoch - 8ms/step\n",
      "Epoch 123/200\n",
      "11/11 - 0s - loss: 0.0025 - val_loss: 0.0017 - 84ms/epoch - 8ms/step\n",
      "Epoch 124/200\n",
      "11/11 - 0s - loss: 0.0025 - val_loss: 0.0015 - 85ms/epoch - 8ms/step\n",
      "Epoch 125/200\n",
      "11/11 - 0s - loss: 0.0025 - val_loss: 0.0016 - 85ms/epoch - 8ms/step\n",
      "Epoch 126/200\n",
      "11/11 - 0s - loss: 0.0024 - val_loss: 0.0015 - 84ms/epoch - 8ms/step\n",
      "Epoch 127/200\n",
      "11/11 - 0s - loss: 0.0024 - val_loss: 0.0022 - 86ms/epoch - 8ms/step\n",
      "Epoch 128/200\n",
      "11/11 - 0s - loss: 0.0026 - val_loss: 0.0015 - 85ms/epoch - 8ms/step\n",
      "Epoch 129/200\n",
      "11/11 - 0s - loss: 0.0025 - val_loss: 0.0017 - 85ms/epoch - 8ms/step\n",
      "Epoch 130/200\n",
      "11/11 - 0s - loss: 0.0026 - val_loss: 0.0016 - 85ms/epoch - 8ms/step\n",
      "Epoch 131/200\n",
      "11/11 - 0s - loss: 0.0025 - val_loss: 0.0015 - 86ms/epoch - 8ms/step\n",
      "Epoch 132/200\n",
      "11/11 - 0s - loss: 0.0024 - val_loss: 0.0015 - 86ms/epoch - 8ms/step\n",
      "Epoch 133/200\n",
      "11/11 - 0s - loss: 0.0024 - val_loss: 0.0015 - 86ms/epoch - 8ms/step\n",
      "Epoch 134/200\n",
      "11/11 - 0s - loss: 0.0026 - val_loss: 0.0015 - 87ms/epoch - 8ms/step\n",
      "Epoch 135/200\n",
      "11/11 - 0s - loss: 0.0025 - val_loss: 0.0016 - 107ms/epoch - 10ms/step\n",
      "Epoch 136/200\n",
      "11/11 - 0s - loss: 0.0024 - val_loss: 0.0020 - 93ms/epoch - 8ms/step\n",
      "Epoch 137/200\n",
      "11/11 - 0s - loss: 0.0030 - val_loss: 0.0022 - 87ms/epoch - 8ms/step\n",
      "Epoch 138/200\n",
      "11/11 - 0s - loss: 0.0025 - val_loss: 0.0015 - 88ms/epoch - 8ms/step\n",
      "Epoch 139/200\n",
      "11/11 - 0s - loss: 0.0024 - val_loss: 0.0015 - 87ms/epoch - 8ms/step\n",
      "Epoch 140/200\n",
      "11/11 - 0s - loss: 0.0026 - val_loss: 0.0015 - 87ms/epoch - 8ms/step\n",
      "Epoch 141/200\n",
      "11/11 - 0s - loss: 0.0025 - val_loss: 0.0017 - 86ms/epoch - 8ms/step\n",
      "Epoch 142/200\n",
      "11/11 - 0s - loss: 0.0025 - val_loss: 0.0018 - 86ms/epoch - 8ms/step\n",
      "Epoch 143/200\n",
      "11/11 - 0s - loss: 0.0026 - val_loss: 0.0018 - 87ms/epoch - 8ms/step\n",
      "Epoch 144/200\n",
      "11/11 - 0s - loss: 0.0026 - val_loss: 0.0016 - 87ms/epoch - 8ms/step\n",
      "Epoch 145/200\n",
      "11/11 - 0s - loss: 0.0025 - val_loss: 0.0018 - 84ms/epoch - 8ms/step\n",
      "Epoch 146/200\n",
      "11/11 - 0s - loss: 0.0026 - val_loss: 0.0017 - 88ms/epoch - 8ms/step\n",
      "Epoch 147/200\n",
      "11/11 - 0s - loss: 0.0026 - val_loss: 0.0017 - 86ms/epoch - 8ms/step\n",
      "Epoch 148/200\n",
      "11/11 - 0s - loss: 0.0026 - val_loss: 0.0015 - 86ms/epoch - 8ms/step\n",
      "Epoch 149/200\n",
      "11/11 - 0s - loss: 0.0025 - val_loss: 0.0016 - 86ms/epoch - 8ms/step\n",
      "Epoch 150/200\n",
      "11/11 - 0s - loss: 0.0025 - val_loss: 0.0016 - 86ms/epoch - 8ms/step\n",
      "Epoch 151/200\n",
      "11/11 - 0s - loss: 0.0025 - val_loss: 0.0015 - 85ms/epoch - 8ms/step\n",
      "Epoch 152/200\n",
      "11/11 - 0s - loss: 0.0024 - val_loss: 0.0015 - 85ms/epoch - 8ms/step\n",
      "Epoch 153/200\n",
      "11/11 - 0s - loss: 0.0024 - val_loss: 0.0015 - 85ms/epoch - 8ms/step\n",
      "Epoch 154/200\n",
      "11/11 - 0s - loss: 0.0024 - val_loss: 0.0017 - 87ms/epoch - 8ms/step\n",
      "Epoch 155/200\n",
      "11/11 - 0s - loss: 0.0025 - val_loss: 0.0016 - 87ms/epoch - 8ms/step\n",
      "Epoch 156/200\n",
      "11/11 - 0s - loss: 0.0025 - val_loss: 0.0015 - 87ms/epoch - 8ms/step\n",
      "Epoch 157/200\n",
      "11/11 - 0s - loss: 0.0025 - val_loss: 0.0015 - 86ms/epoch - 8ms/step\n",
      "Epoch 158/200\n",
      "11/11 - 0s - loss: 0.0024 - val_loss: 0.0015 - 86ms/epoch - 8ms/step\n",
      "Epoch 159/200\n",
      "11/11 - 0s - loss: 0.0024 - val_loss: 0.0015 - 87ms/epoch - 8ms/step\n",
      "Epoch 160/200\n",
      "11/11 - 0s - loss: 0.0024 - val_loss: 0.0017 - 86ms/epoch - 8ms/step\n",
      "Epoch 161/200\n",
      "11/11 - 0s - loss: 0.0025 - val_loss: 0.0017 - 86ms/epoch - 8ms/step\n",
      "Epoch 162/200\n",
      "11/11 - 0s - loss: 0.0025 - val_loss: 0.0023 - 86ms/epoch - 8ms/step\n",
      "Epoch 163/200\n",
      "11/11 - 0s - loss: 0.0026 - val_loss: 0.0015 - 87ms/epoch - 8ms/step\n",
      "Epoch 164/200\n",
      "11/11 - 0s - loss: 0.0024 - val_loss: 0.0015 - 86ms/epoch - 8ms/step\n",
      "Epoch 165/200\n",
      "11/11 - 0s - loss: 0.0024 - val_loss: 0.0017 - 85ms/epoch - 8ms/step\n",
      "Epoch 166/200\n",
      "11/11 - 0s - loss: 0.0024 - val_loss: 0.0015 - 86ms/epoch - 8ms/step\n",
      "Epoch 167/200\n",
      "11/11 - 0s - loss: 0.0023 - val_loss: 0.0015 - 87ms/epoch - 8ms/step\n",
      "Epoch 168/200\n",
      "11/11 - 0s - loss: 0.0023 - val_loss: 0.0018 - 85ms/epoch - 8ms/step\n",
      "Epoch 169/200\n",
      "11/11 - 0s - loss: 0.0025 - val_loss: 0.0020 - 86ms/epoch - 8ms/step\n",
      "Epoch 170/200\n",
      "11/11 - 0s - loss: 0.0024 - val_loss: 0.0018 - 87ms/epoch - 8ms/step\n",
      "Epoch 171/200\n",
      "11/11 - 0s - loss: 0.0024 - val_loss: 0.0015 - 86ms/epoch - 8ms/step\n",
      "Epoch 172/200\n",
      "11/11 - 0s - loss: 0.0025 - val_loss: 0.0017 - 86ms/epoch - 8ms/step\n",
      "Epoch 173/200\n",
      "11/11 - 0s - loss: 0.0025 - val_loss: 0.0017 - 85ms/epoch - 8ms/step\n",
      "Epoch 174/200\n",
      "11/11 - 0s - loss: 0.0024 - val_loss: 0.0016 - 86ms/epoch - 8ms/step\n",
      "Epoch 175/200\n",
      "11/11 - 0s - loss: 0.0024 - val_loss: 0.0016 - 85ms/epoch - 8ms/step\n",
      "Epoch 176/200\n",
      "11/11 - 0s - loss: 0.0024 - val_loss: 0.0015 - 85ms/epoch - 8ms/step\n",
      "Epoch 177/200\n",
      "11/11 - 0s - loss: 0.0025 - val_loss: 0.0024 - 86ms/epoch - 8ms/step\n",
      "Epoch 178/200\n",
      "11/11 - 0s - loss: 0.0026 - val_loss: 0.0015 - 87ms/epoch - 8ms/step\n",
      "Epoch 179/200\n",
      "11/11 - 0s - loss: 0.0026 - val_loss: 0.0017 - 86ms/epoch - 8ms/step\n",
      "Epoch 180/200\n",
      "11/11 - 0s - loss: 0.0025 - val_loss: 0.0015 - 86ms/epoch - 8ms/step\n",
      "Epoch 181/200\n",
      "11/11 - 0s - loss: 0.0024 - val_loss: 0.0015 - 86ms/epoch - 8ms/step\n",
      "Epoch 182/200\n",
      "11/11 - 0s - loss: 0.0024 - val_loss: 0.0015 - 87ms/epoch - 8ms/step\n",
      "Epoch 183/200\n",
      "11/11 - 0s - loss: 0.0026 - val_loss: 0.0019 - 88ms/epoch - 8ms/step\n",
      "Epoch 184/200\n",
      "11/11 - 0s - loss: 0.0025 - val_loss: 0.0015 - 86ms/epoch - 8ms/step\n",
      "Epoch 185/200\n",
      "11/11 - 0s - loss: 0.0023 - val_loss: 0.0015 - 86ms/epoch - 8ms/step\n",
      "Epoch 186/200\n",
      "11/11 - 0s - loss: 0.0023 - val_loss: 0.0015 - 86ms/epoch - 8ms/step\n",
      "Epoch 187/200\n",
      "11/11 - 0s - loss: 0.0025 - val_loss: 0.0016 - 86ms/epoch - 8ms/step\n",
      "Epoch 188/200\n",
      "11/11 - 0s - loss: 0.0025 - val_loss: 0.0016 - 88ms/epoch - 8ms/step\n",
      "Epoch 189/200\n",
      "11/11 - 0s - loss: 0.0024 - val_loss: 0.0017 - 85ms/epoch - 8ms/step\n",
      "Epoch 190/200\n",
      "11/11 - 0s - loss: 0.0025 - val_loss: 0.0016 - 86ms/epoch - 8ms/step\n",
      "Epoch 191/200\n",
      "11/11 - 0s - loss: 0.0024 - val_loss: 0.0015 - 86ms/epoch - 8ms/step\n",
      "Epoch 192/200\n",
      "11/11 - 0s - loss: 0.0024 - val_loss: 0.0015 - 86ms/epoch - 8ms/step\n",
      "Epoch 193/200\n",
      "11/11 - 0s - loss: 0.0023 - val_loss: 0.0015 - 85ms/epoch - 8ms/step\n",
      "Epoch 194/200\n",
      "11/11 - 0s - loss: 0.0023 - val_loss: 0.0016 - 84ms/epoch - 8ms/step\n",
      "Epoch 195/200\n",
      "11/11 - 0s - loss: 0.0025 - val_loss: 0.0023 - 85ms/epoch - 8ms/step\n",
      "Epoch 196/200\n",
      "11/11 - 0s - loss: 0.0027 - val_loss: 0.0021 - 87ms/epoch - 8ms/step\n",
      "Epoch 197/200\n",
      "11/11 - 0s - loss: 0.0026 - val_loss: 0.0017 - 86ms/epoch - 8ms/step\n",
      "Epoch 198/200\n",
      "11/11 - 0s - loss: 0.0025 - val_loss: 0.0017 - 86ms/epoch - 8ms/step\n",
      "Epoch 199/200\n",
      "11/11 - 0s - loss: 0.0023 - val_loss: 0.0015 - 88ms/epoch - 8ms/step\n",
      "Epoch 200/200\n",
      "11/11 - 0s - loss: 0.0023 - val_loss: 0.0015 - 86ms/epoch - 8ms/step\n"
     ]
    }
   ],
   "source": [
    "history = model.fit(X_train,y_train,validation_data=(X_test,ytest),epochs=200,verbose=2)"
   ]
  },
  {
   "cell_type": "code",
   "execution_count": 20,
   "metadata": {},
   "outputs": [
    {
     "data": {
      "image/png": "[encoded data removed]",
      "text/plain": [
       "<Figure size 576x432 with 1 Axes>"
      ]
     },
     "metadata": {},
     "output_type": "display_data"
    }
   ],
   "source": [
    "from matplotlib.pyplot import figure\n",
    "figure(figsize=(8, 6))\n",
    "plt.plot(history.history['loss'])\n",
    "plt.plot(history.history['val_loss'])\n",
    "plt.title('model loss')\n",
    "plt.ylabel('loss')\n",
    "plt.xlabel('epoch')\n",
    "plt.legend(['train', 'test'], loc='upper right')\n",
    "plt.show()"
   ]
  },
  {
   "cell_type": "code",
   "execution_count": 21,
   "metadata": {},
   "outputs": [
    {
     "name": "stdout",
     "output_type": "stream",
     "text": [
      "11/11 [==============================] - 0s 2ms/step\n",
      "6/6 [==============================] - 0s 2ms/step\n"
     ]
    }
   ],
   "source": [
    "train_predict=model.predict(X_train)\n",
    "test_predict=model.predict(X_test)"
   ]
  },
  {
   "cell_type": "code",
   "execution_count": 22,
   "metadata": {},
   "outputs": [],
   "source": [
    "rstrain_predict=scaler.inverse_transform(train_predict)\n",
    "rstest_predict=scaler.inverse_transform(test_predict)\n",
    "rsytest=scaler.inverse_transform(np.array(ytest).reshape(-1,1))\n",
    "rsytrain=scaler.inverse_transform(np.array(y_train).reshape(-1,1))"
   ]
  },
  {
   "cell_type": "code",
   "execution_count": 23,
   "metadata": {},
   "outputs": [
    {
     "name": "stdout",
     "output_type": "stream",
     "text": [
      "0.23997947960633617\n"
     ]
    }
   ],
   "source": [
    "RMSE_train=math.sqrt(mean_squared_error(rsytrain,rstrain_predict))\n",
    "print(RMSE_train)"
   ]
  },
  {
   "cell_type": "code",
   "execution_count": 24,
   "metadata": {},
   "outputs": [
    {
     "name": "stdout",
     "output_type": "stream",
     "text": [
      "RMSE: 0.19363651835533413\n",
      "MAE: 0.07488236400962534\n",
      "R-Squared: 0.9528675581320312\n"
     ]
    }
   ],
   "source": [
    "RMSE_test=math.sqrt(mean_squared_error(rsytest,rstest_predict))\n",
    "MAE_test=mean_absolute_error(rsytest,rstest_predict)\n",
    "R2_test=r2_score(rsytest,rstest_predict)\n",
    "print(\"RMSE:\", RMSE_test)\n",
    "print(\"MAE:\", MAE_test)\n",
    "print(\"R-Squared:\", R2_test)"
   ]
  },
  {
   "cell_type": "code",
   "execution_count": 25,
   "metadata": {},
   "outputs": [
    {
     "data": {
      "image/png": "[encoded data removed]",
      "text/plain": [
       "<Figure size 720x360 with 1 Axes>"
      ]
     },
     "metadata": {},
     "output_type": "display_data"
    }
   ],
   "source": [
    "look_back=10\n",
    "trainPredictPlot = numpy.empty_like(data1)\n",
    "trainPredictPlot[:, :] = np.nan\n",
    "trainPredictPlot[look_back:len(train_predict)+look_back, :] = rstrain_predict\n",
    "# shift test predictions for plotting\n",
    "testPredictPlot = numpy.empty_like(data1)\n",
    "testPredictPlot[:, :] = numpy.nan\n",
    "testPredictPlot[len(train_predict)+(look_back*2)+1:len(data1)-1, :] = rstest_predict\n",
    "# plot baseline and predictions\n",
    "plt.figure(figsize=(10,5))\n",
    "plt.plot(scaler.inverse_transform(data1))\n",
    "plt.plot(trainPredictPlot,label='Train_prediction')\n",
    "plt.plot(testPredictPlot, label='Test_prediction')\n",
    "plt.title('DPL Gated Recurrent Unit Plot', fontsize=20)\n",
    "plt.ylabel('Price')\n",
    "plt.xlabel('Number of Days')\n",
    "plt.legend()\n",
    "plt.show()"
   ]
  },
  {
   "cell_type": "code",
   "execution_count": 26,
   "metadata": {},
   "outputs": [
    {
     "data": {
      "text/plain": [
       "192"
      ]
     },
     "execution_count": 26,
     "metadata": {},
     "output_type": "execute_result"
    }
   ],
   "source": [
    "len(test_data)"
   ]
  },
  {
   "cell_type": "code",
   "execution_count": 27,
   "metadata": {},
   "outputs": [
    {
     "data": {
      "text/plain": [
       "(1, 10)"
      ]
     },
     "execution_count": 27,
     "metadata": {},
     "output_type": "execute_result"
    }
   ],
   "source": [
    "x_input=test_data[182:].reshape(1,-1)\n",
    "x_input.shape"
   ]
  },
  {
   "cell_type": "code",
   "execution_count": 28,
   "metadata": {},
   "outputs": [
    {
     "data": {
      "text/plain": [
       "[0.19999999999999973,\n",
       " 0.19999999999999973,\n",
       " 0.19999999999999973,\n",
       " 0.19999999999999973,\n",
       " 0.19999999999999973,\n",
       " 0.19999999999999973,\n",
       " 0.19999999999999973,\n",
       " 0.19999999999999973,\n",
       " 0.19999999999999973,\n",
       " 0.19999999999999973]"
      ]
     },
     "execution_count": 28,
     "metadata": {},
     "output_type": "execute_result"
    }
   ],
   "source": [
    "temp_input=list(x_input)\n",
    "temp_input=temp_input[0].tolist()\n",
    "temp_input"
   ]
  },
  {
   "cell_type": "code",
   "execution_count": 29,
   "metadata": {},
   "outputs": [],
   "source": [
    "lst_output=[]\n",
    "n_steps=10\n",
    "i=0\n",
    "while(i<30):\n",
    "    \n",
    "    if(len(temp_input)>10):\n",
    "        #print(temp_input)\n",
    "        x_input=np.array(temp_input[1:])\n",
    "        #print(\"{} day input {}\".format(i,x_input))\n",
    "        x_input=x_input.reshape(1,-1)\n",
    "        x_input = x_input.reshape((1, n_steps, 1))\n",
    "        #print(x_input)\n",
    "        yhat = model.predict(x_input, verbose=0)\n",
    "        #print(\"{} day output {}\".format(i,yhat))\n",
    "        temp_input.extend(yhat[0].tolist())\n",
    "        temp_input=temp_input[1:]\n",
    "        #print(temp_input)\n",
    "        lst_output.extend(yhat.tolist())\n",
    "        i=i+1\n",
    "    else:\n",
    "        x_input = x_input.reshape((1, n_steps,1))\n",
    "        yhat = model.predict(x_input, verbose=0)\n",
    "        #print(yhat[0])\n",
    "        temp_input.extend(yhat[0].tolist())\n",
    "        #print(len(temp_input))\n",
    "        lst_output.extend(yhat.tolist())\n",
    "        i=i+1\n",
    "    "
   ]
  },
  {
   "cell_type": "code",
   "execution_count": 30,
   "metadata": {},
   "outputs": [],
   "source": [
    "forecast_rescaled=scaler.inverse_transform(lst_output)"
   ]
  },
  {
   "cell_type": "code",
   "execution_count": 31,
   "metadata": {},
   "outputs": [
    {
     "data": {
      "text/plain": [
       "array([[12.944454  ],\n",
       "       [12.8817219 ],\n",
       "       [12.81410676],\n",
       "       [12.74105874],\n",
       "       [12.66219069],\n",
       "       [12.57718351],\n",
       "       [12.48557453],\n",
       "       [12.38698085],\n",
       "       [12.3602054 ],\n",
       "       [12.41658238],\n",
       "       [12.491191  ],\n",
       "       [12.5276341 ],\n",
       "       [12.51858403],\n",
       "       [12.48348866],\n",
       "       [12.44829272],\n",
       "       [12.4373809 ],\n",
       "       [12.45227125],\n",
       "       [12.4755307 ],\n",
       "       [12.48874483],\n",
       "       [12.48643917],\n",
       "       [12.47551669],\n",
       "       [12.4655344 ],\n",
       "       [12.46270654],\n",
       "       [12.46701066],\n",
       "       [12.47331296],\n",
       "       [12.47663398],\n",
       "       [12.47576614],\n",
       "       [12.47264352],\n",
       "       [12.4700613 ],\n",
       "       [12.46959631]])"
      ]
     },
     "execution_count": 31,
     "metadata": {},
     "output_type": "execute_result"
    }
   ],
   "source": [
    "forecast_rescaled"
   ]
  },
  {
   "cell_type": "code",
   "execution_count": 32,
   "metadata": {},
   "outputs": [],
   "source": [
    "day_new=np.arange(0,547)\n",
    "day_pred=np.arange(547,577)"
   ]
  },
  {
   "cell_type": "code",
   "execution_count": 33,
   "metadata": {},
   "outputs": [
    {
     "data": {
      "text/html": [
       "<div>\n",
       "<style scoped>\n",
       "    .dataframe tbody tr th:only-of-type {\n",
       "        vertical-align: middle;\n",
       "    }\n",
       "\n",
       "    .dataframe tbody tr th {\n",
       "        vertical-align: top;\n",
       "    }\n",
       "\n",
       "    .dataframe thead th {\n",
       "        text-align: right;\n",
       "    }\n",
       "</style>\n",
       "<table border=\"1\" class=\"dataframe\">\n",
       "  <thead>\n",
       "    <tr style=\"text-align: right;\">\n",
       "      <th></th>\n",
       "      <th>predicted_price</th>\n",
       "    </tr>\n",
       "  </thead>\n",
       "  <tbody>\n",
       "    <tr>\n",
       "      <th>0</th>\n",
       "      <td>12.944454</td>\n",
       "    </tr>\n",
       "    <tr>\n",
       "      <th>1</th>\n",
       "      <td>12.881722</td>\n",
       "    </tr>\n",
       "    <tr>\n",
       "      <th>2</th>\n",
       "      <td>12.814107</td>\n",
       "    </tr>\n",
       "    <tr>\n",
       "      <th>3</th>\n",
       "      <td>12.741059</td>\n",
       "    </tr>\n",
       "    <tr>\n",
       "      <th>4</th>\n",
       "      <td>12.662191</td>\n",
       "    </tr>\n",
       "  </tbody>\n",
       "</table>\n",
       "</div>"
      ],
      "text/plain": [
       "   predicted_price\n",
       "0        12.944454\n",
       "1        12.881722\n",
       "2        12.814107\n",
       "3        12.741059\n",
       "4        12.662191"
      ]
     },
     "execution_count": 33,
     "metadata": {},
     "output_type": "execute_result"
    }
   ],
   "source": [
    "forecast = pd.DataFrame(forecast_rescaled, columns = ['predicted_price'])\n",
    "forecast.head()"
   ]
  },
  {
   "cell_type": "code",
   "execution_count": 34,
   "metadata": {},
   "outputs": [
    {
     "data": {
      "text/html": [
       "<div>\n",
       "<style scoped>\n",
       "    .dataframe tbody tr th:only-of-type {\n",
       "        vertical-align: middle;\n",
       "    }\n",
       "\n",
       "    .dataframe tbody tr th {\n",
       "        vertical-align: top;\n",
       "    }\n",
       "\n",
       "    .dataframe thead th {\n",
       "        text-align: right;\n",
       "    }\n",
       "</style>\n",
       "<table border=\"1\" class=\"dataframe\">\n",
       "  <thead>\n",
       "    <tr style=\"text-align: right;\">\n",
       "      <th></th>\n",
       "      <th>price</th>\n",
       "    </tr>\n",
       "    <tr>\n",
       "      <th>date</th>\n",
       "      <th></th>\n",
       "    </tr>\n",
       "  </thead>\n",
       "  <tbody>\n",
       "    <tr>\n",
       "      <th>2020-04-23</th>\n",
       "      <td>15.0</td>\n",
       "    </tr>\n",
       "    <tr>\n",
       "      <th>2020-04-24</th>\n",
       "      <td>16.0</td>\n",
       "    </tr>\n",
       "    <tr>\n",
       "      <th>2020-04-27</th>\n",
       "      <td>16.0</td>\n",
       "    </tr>\n",
       "    <tr>\n",
       "      <th>2020-04-28</th>\n",
       "      <td>16.0</td>\n",
       "    </tr>\n",
       "    <tr>\n",
       "      <th>2020-04-29</th>\n",
       "      <td>16.0</td>\n",
       "    </tr>\n",
       "    <tr>\n",
       "      <th>...</th>\n",
       "      <td>...</td>\n",
       "    </tr>\n",
       "    <tr>\n",
       "      <th>2022-07-11</th>\n",
       "      <td>13.0</td>\n",
       "    </tr>\n",
       "    <tr>\n",
       "      <th>2022-07-12</th>\n",
       "      <td>13.0</td>\n",
       "    </tr>\n",
       "    <tr>\n",
       "      <th>2022-07-13</th>\n",
       "      <td>13.0</td>\n",
       "    </tr>\n",
       "    <tr>\n",
       "      <th>2022-07-14</th>\n",
       "      <td>13.0</td>\n",
       "    </tr>\n",
       "    <tr>\n",
       "      <th>2022-07-15</th>\n",
       "      <td>13.0</td>\n",
       "    </tr>\n",
       "  </tbody>\n",
       "</table>\n",
       "<p>548 rows × 1 columns</p>\n",
       "</div>"
      ],
      "text/plain": [
       "            price\n",
       "date             \n",
       "2020-04-23   15.0\n",
       "2020-04-24   16.0\n",
       "2020-04-27   16.0\n",
       "2020-04-28   16.0\n",
       "2020-04-29   16.0\n",
       "...           ...\n",
       "2022-07-11   13.0\n",
       "2022-07-12   13.0\n",
       "2022-07-13   13.0\n",
       "2022-07-14   13.0\n",
       "2022-07-15   13.0\n",
       "\n",
       "[548 rows x 1 columns]"
      ]
     },
     "execution_count": 34,
     "metadata": {},
     "output_type": "execute_result"
    }
   ],
   "source": [
    "data"
   ]
  },
  {
   "cell_type": "code",
   "execution_count": 35,
   "metadata": {},
   "outputs": [
    {
     "data": {
      "text/html": [
       "<div>\n",
       "<style scoped>\n",
       "    .dataframe tbody tr th:only-of-type {\n",
       "        vertical-align: middle;\n",
       "    }\n",
       "\n",
       "    .dataframe tbody tr th {\n",
       "        vertical-align: top;\n",
       "    }\n",
       "\n",
       "    .dataframe thead th {\n",
       "        text-align: right;\n",
       "    }\n",
       "</style>\n",
       "<table border=\"1\" class=\"dataframe\">\n",
       "  <thead>\n",
       "    <tr style=\"text-align: right;\">\n",
       "      <th></th>\n",
       "      <th>predicted_price</th>\n",
       "      <th>date</th>\n",
       "    </tr>\n",
       "  </thead>\n",
       "  <tbody>\n",
       "    <tr>\n",
       "      <th>0</th>\n",
       "      <td>12.944454</td>\n",
       "      <td>2022-07-15</td>\n",
       "    </tr>\n",
       "    <tr>\n",
       "      <th>1</th>\n",
       "      <td>12.881722</td>\n",
       "      <td>2022-07-16</td>\n",
       "    </tr>\n",
       "    <tr>\n",
       "      <th>2</th>\n",
       "      <td>12.814107</td>\n",
       "      <td>2022-07-17</td>\n",
       "    </tr>\n",
       "    <tr>\n",
       "      <th>3</th>\n",
       "      <td>12.741059</td>\n",
       "      <td>2022-07-18</td>\n",
       "    </tr>\n",
       "    <tr>\n",
       "      <th>4</th>\n",
       "      <td>12.662191</td>\n",
       "      <td>2022-07-19</td>\n",
       "    </tr>\n",
       "  </tbody>\n",
       "</table>\n",
       "</div>"
      ],
      "text/plain": [
       "   predicted_price       date\n",
       "0        12.944454 2022-07-15\n",
       "1        12.881722 2022-07-16\n",
       "2        12.814107 2022-07-17\n",
       "3        12.741059 2022-07-18\n",
       "4        12.662191 2022-07-19"
      ]
     },
     "execution_count": 35,
     "metadata": {},
     "output_type": "execute_result"
    }
   ],
   "source": [
    "forecast['date'] = pd.date_range(start='2022-07-15', periods=30, freq='D')\n",
    "forecast.head()"
   ]
  },
  {
   "cell_type": "code",
   "execution_count": 36,
   "metadata": {},
   "outputs": [
    {
     "data": {
      "text/html": [
       "<div>\n",
       "<style scoped>\n",
       "    .dataframe tbody tr th:only-of-type {\n",
       "        vertical-align: middle;\n",
       "    }\n",
       "\n",
       "    .dataframe tbody tr th {\n",
       "        vertical-align: top;\n",
       "    }\n",
       "\n",
       "    .dataframe thead th {\n",
       "        text-align: right;\n",
       "    }\n",
       "</style>\n",
       "<table border=\"1\" class=\"dataframe\">\n",
       "  <thead>\n",
       "    <tr style=\"text-align: right;\">\n",
       "      <th></th>\n",
       "      <th>predicted_price</th>\n",
       "    </tr>\n",
       "    <tr>\n",
       "      <th>date</th>\n",
       "      <th></th>\n",
       "    </tr>\n",
       "  </thead>\n",
       "  <tbody>\n",
       "    <tr>\n",
       "      <th>2022-07-15</th>\n",
       "      <td>12.944454</td>\n",
       "    </tr>\n",
       "    <tr>\n",
       "      <th>2022-07-16</th>\n",
       "      <td>12.881722</td>\n",
       "    </tr>\n",
       "    <tr>\n",
       "      <th>2022-07-17</th>\n",
       "      <td>12.814107</td>\n",
       "    </tr>\n",
       "    <tr>\n",
       "      <th>2022-07-18</th>\n",
       "      <td>12.741059</td>\n",
       "    </tr>\n",
       "    <tr>\n",
       "      <th>2022-07-19</th>\n",
       "      <td>12.662191</td>\n",
       "    </tr>\n",
       "    <tr>\n",
       "      <th>2022-07-20</th>\n",
       "      <td>12.577184</td>\n",
       "    </tr>\n",
       "    <tr>\n",
       "      <th>2022-07-21</th>\n",
       "      <td>12.485575</td>\n",
       "    </tr>\n",
       "    <tr>\n",
       "      <th>2022-07-22</th>\n",
       "      <td>12.386981</td>\n",
       "    </tr>\n",
       "    <tr>\n",
       "      <th>2022-07-23</th>\n",
       "      <td>12.360205</td>\n",
       "    </tr>\n",
       "    <tr>\n",
       "      <th>2022-07-24</th>\n",
       "      <td>12.416582</td>\n",
       "    </tr>\n",
       "    <tr>\n",
       "      <th>2022-07-25</th>\n",
       "      <td>12.491191</td>\n",
       "    </tr>\n",
       "    <tr>\n",
       "      <th>2022-07-26</th>\n",
       "      <td>12.527634</td>\n",
       "    </tr>\n",
       "    <tr>\n",
       "      <th>2022-07-27</th>\n",
       "      <td>12.518584</td>\n",
       "    </tr>\n",
       "    <tr>\n",
       "      <th>2022-07-28</th>\n",
       "      <td>12.483489</td>\n",
       "    </tr>\n",
       "    <tr>\n",
       "      <th>2022-07-29</th>\n",
       "      <td>12.448293</td>\n",
       "    </tr>\n",
       "    <tr>\n",
       "      <th>2022-07-30</th>\n",
       "      <td>12.437381</td>\n",
       "    </tr>\n",
       "    <tr>\n",
       "      <th>2022-07-31</th>\n",
       "      <td>12.452271</td>\n",
       "    </tr>\n",
       "    <tr>\n",
       "      <th>2022-08-01</th>\n",
       "      <td>12.475531</td>\n",
       "    </tr>\n",
       "    <tr>\n",
       "      <th>2022-08-02</th>\n",
       "      <td>12.488745</td>\n",
       "    </tr>\n",
       "    <tr>\n",
       "      <th>2022-08-03</th>\n",
       "      <td>12.486439</td>\n",
       "    </tr>\n",
       "    <tr>\n",
       "      <th>2022-08-04</th>\n",
       "      <td>12.475517</td>\n",
       "    </tr>\n",
       "    <tr>\n",
       "      <th>2022-08-05</th>\n",
       "      <td>12.465534</td>\n",
       "    </tr>\n",
       "    <tr>\n",
       "      <th>2022-08-06</th>\n",
       "      <td>12.462707</td>\n",
       "    </tr>\n",
       "    <tr>\n",
       "      <th>2022-08-07</th>\n",
       "      <td>12.467011</td>\n",
       "    </tr>\n",
       "    <tr>\n",
       "      <th>2022-08-08</th>\n",
       "      <td>12.473313</td>\n",
       "    </tr>\n",
       "    <tr>\n",
       "      <th>2022-08-09</th>\n",
       "      <td>12.476634</td>\n",
       "    </tr>\n",
       "    <tr>\n",
       "      <th>2022-08-10</th>\n",
       "      <td>12.475766</td>\n",
       "    </tr>\n",
       "    <tr>\n",
       "      <th>2022-08-11</th>\n",
       "      <td>12.472644</td>\n",
       "    </tr>\n",
       "    <tr>\n",
       "      <th>2022-08-12</th>\n",
       "      <td>12.470061</td>\n",
       "    </tr>\n",
       "    <tr>\n",
       "      <th>2022-08-13</th>\n",
       "      <td>12.469596</td>\n",
       "    </tr>\n",
       "  </tbody>\n",
       "</table>\n",
       "</div>"
      ],
      "text/plain": [
       "            predicted_price\n",
       "date                       \n",
       "2022-07-15        12.944454\n",
       "2022-07-16        12.881722\n",
       "2022-07-17        12.814107\n",
       "2022-07-18        12.741059\n",
       "2022-07-19        12.662191\n",
       "2022-07-20        12.577184\n",
       "2022-07-21        12.485575\n",
       "2022-07-22        12.386981\n",
       "2022-07-23        12.360205\n",
       "2022-07-24        12.416582\n",
       "2022-07-25        12.491191\n",
       "2022-07-26        12.527634\n",
       "2022-07-27        12.518584\n",
       "2022-07-28        12.483489\n",
       "2022-07-29        12.448293\n",
       "2022-07-30        12.437381\n",
       "2022-07-31        12.452271\n",
       "2022-08-01        12.475531\n",
       "2022-08-02        12.488745\n",
       "2022-08-03        12.486439\n",
       "2022-08-04        12.475517\n",
       "2022-08-05        12.465534\n",
       "2022-08-06        12.462707\n",
       "2022-08-07        12.467011\n",
       "2022-08-08        12.473313\n",
       "2022-08-09        12.476634\n",
       "2022-08-10        12.475766\n",
       "2022-08-11        12.472644\n",
       "2022-08-12        12.470061\n",
       "2022-08-13        12.469596"
      ]
     },
     "execution_count": 36,
     "metadata": {},
     "output_type": "execute_result"
    }
   ],
   "source": [
    "forecast = forecast.set_index('date')\n",
    "forecast"
   ]
  },
  {
   "cell_type": "code",
   "execution_count": 37,
   "metadata": {},
   "outputs": [
    {
     "data": {
      "image/png": "[encoded data removed]",
      "text/plain": [
       "<Figure size 432x288 with 1 Axes>"
      ]
     },
     "metadata": {},
     "output_type": "display_data"
    }
   ],
   "source": [
    "plt.plot(day_new,scaler.inverse_transform(data1[1:]))\n",
    "plt.plot(day_pred,scaler.inverse_transform(lst_output))\n",
    "plt.show()"
   ]
  },
  {
   "cell_type": "code",
   "execution_count": 38,
   "metadata": {},
   "outputs": [
    {
     "data": {
      "image/png": "[encoded data removed]",
      "text/plain": [
       "<Figure size 3000x1500 with 1 Axes>"
      ]
     },
     "metadata": {},
     "output_type": "display_data"
    }
   ],
   "source": [
    "plt.figure(figsize=(10,5),dpi=300)\n",
    "plt.plot(scaler.inverse_transform(data1), label='Original Data')\n",
    "plt.plot(trainPredictPlot,label='Train_prediction')\n",
    "plt.plot(testPredictPlot, label='Test_prediction')\n",
    "plt.plot(day_pred,scaler.inverse_transform(lst_output), label='Forecast')\n",
    "plt.title('DPL Gated Recurrent Unit Plot', fontsize=20)\n",
    "plt.ylabel('Price')\n",
    "plt.xlabel('Number of Days')\n",
    "plt.legend()\n",
    "plt.show()"
   ]
  },
  {
   "cell_type": "code",
   "execution_count": 39,
   "metadata": {},
   "outputs": [],
   "source": [
    "forecast = forecast.to_csv('predictedData/dpl_gru_forecast.csv')"
   ]
  },
  {
   "cell_type": "code",
   "execution_count": 40,
   "metadata": {},
   "outputs": [
    {
     "data": {
      "text/plain": [
       "30"
      ]
     },
     "execution_count": 40,
     "metadata": {},
     "output_type": "execute_result"
    }
   ],
   "source": [
    "len(day_pred)"
   ]
  },
  {
   "cell_type": "code",
   "execution_count": 41,
   "metadata": {},
   "outputs": [
    {
     "data": {
      "text/plain": [
       "30"
      ]
     },
     "execution_count": 41,
     "metadata": {},
     "output_type": "execute_result"
    }
   ],
   "source": [
    "len(forecast_rescaled)"
   ]
  },
  {
   "cell_type": "code",
   "execution_count": 42,
   "metadata": {},
   "outputs": [
    {
     "data": {
      "text/plain": [
       "548"
      ]
     },
     "execution_count": 42,
     "metadata": {},
     "output_type": "execute_result"
    }
   ],
   "source": [
    "len(testPredictPlot)"
   ]
  },
  {
   "cell_type": "code",
   "execution_count": 43,
   "metadata": {},
   "outputs": [
    {
     "data": {
      "text/plain": [
       "367"
      ]
     },
     "execution_count": 43,
     "metadata": {},
     "output_type": "execute_result"
    }
   ],
   "source": [
    "np.count_nonzero(np.isnan(testPredictPlot))"
   ]
  },
  {
   "cell_type": "code",
   "execution_count": 44,
   "metadata": {},
   "outputs": [
    {
     "data": {
      "text/plain": [
       "<bound method NDFrame.head of      predicted_price\n",
       "0                NaN\n",
       "1                NaN\n",
       "2                NaN\n",
       "3                NaN\n",
       "4                NaN\n",
       "..               ...\n",
       "543        12.944454\n",
       "544        12.944454\n",
       "545        12.944454\n",
       "546        12.944454\n",
       "547              NaN\n",
       "\n",
       "[548 rows x 1 columns]>"
      ]
     },
     "execution_count": 44,
     "metadata": {},
     "output_type": "execute_result"
    }
   ],
   "source": [
    "#convert numpy array to DF\n",
    "test = pd.DataFrame(testPredictPlot, columns = ['predicted_price'])\n",
    "test.head"
   ]
  },
  {
   "cell_type": "code",
   "execution_count": 45,
   "metadata": {},
   "outputs": [
    {
     "data": {
      "text/plain": [
       "predicted_price    367\n",
       "dtype: int64"
      ]
     },
     "execution_count": 45,
     "metadata": {},
     "output_type": "execute_result"
    }
   ],
   "source": [
    "test.isnull().sum()"
   ]
  },
  {
   "cell_type": "code",
   "execution_count": 46,
   "metadata": {},
   "outputs": [
    {
     "data": {
      "text/html": [
       "<div>\n",
       "<style scoped>\n",
       "    .dataframe tbody tr th:only-of-type {\n",
       "        vertical-align: middle;\n",
       "    }\n",
       "\n",
       "    .dataframe tbody tr th {\n",
       "        vertical-align: top;\n",
       "    }\n",
       "\n",
       "    .dataframe thead th {\n",
       "        text-align: right;\n",
       "    }\n",
       "</style>\n",
       "<table border=\"1\" class=\"dataframe\">\n",
       "  <thead>\n",
       "    <tr style=\"text-align: right;\">\n",
       "      <th></th>\n",
       "      <th>predicted_price</th>\n",
       "    </tr>\n",
       "  </thead>\n",
       "  <tbody>\n",
       "    <tr>\n",
       "      <th>366</th>\n",
       "      <td>16.012403</td>\n",
       "    </tr>\n",
       "    <tr>\n",
       "      <th>367</th>\n",
       "      <td>16.012403</td>\n",
       "    </tr>\n",
       "    <tr>\n",
       "      <th>368</th>\n",
       "      <td>16.012403</td>\n",
       "    </tr>\n",
       "    <tr>\n",
       "      <th>369</th>\n",
       "      <td>16.012403</td>\n",
       "    </tr>\n",
       "    <tr>\n",
       "      <th>370</th>\n",
       "      <td>16.012403</td>\n",
       "    </tr>\n",
       "    <tr>\n",
       "      <th>...</th>\n",
       "      <td>...</td>\n",
       "    </tr>\n",
       "    <tr>\n",
       "      <th>542</th>\n",
       "      <td>12.944454</td>\n",
       "    </tr>\n",
       "    <tr>\n",
       "      <th>543</th>\n",
       "      <td>12.944454</td>\n",
       "    </tr>\n",
       "    <tr>\n",
       "      <th>544</th>\n",
       "      <td>12.944454</td>\n",
       "    </tr>\n",
       "    <tr>\n",
       "      <th>545</th>\n",
       "      <td>12.944454</td>\n",
       "    </tr>\n",
       "    <tr>\n",
       "      <th>546</th>\n",
       "      <td>12.944454</td>\n",
       "    </tr>\n",
       "  </tbody>\n",
       "</table>\n",
       "<p>181 rows × 1 columns</p>\n",
       "</div>"
      ],
      "text/plain": [
       "     predicted_price\n",
       "366        16.012403\n",
       "367        16.012403\n",
       "368        16.012403\n",
       "369        16.012403\n",
       "370        16.012403\n",
       "..               ...\n",
       "542        12.944454\n",
       "543        12.944454\n",
       "544        12.944454\n",
       "545        12.944454\n",
       "546        12.944454\n",
       "\n",
       "[181 rows x 1 columns]"
      ]
     },
     "execution_count": 46,
     "metadata": {},
     "output_type": "execute_result"
    }
   ],
   "source": [
    "test = test.dropna()\n",
    "test"
   ]
  },
  {
   "cell_type": "code",
   "execution_count": 47,
   "metadata": {},
   "outputs": [
    {
     "data": {
      "text/plain": [
       "356"
      ]
     },
     "execution_count": 47,
     "metadata": {},
     "output_type": "execute_result"
    }
   ],
   "source": [
    "size = int(len(data) * 0.65)\n",
    "size"
   ]
  },
  {
   "cell_type": "code",
   "execution_count": 48,
   "metadata": {},
   "outputs": [
    {
     "data": {
      "text/html": [
       "<div>\n",
       "<style scoped>\n",
       "    .dataframe tbody tr th:only-of-type {\n",
       "        vertical-align: middle;\n",
       "    }\n",
       "\n",
       "    .dataframe tbody tr th {\n",
       "        vertical-align: top;\n",
       "    }\n",
       "\n",
       "    .dataframe thead th {\n",
       "        text-align: right;\n",
       "    }\n",
       "</style>\n",
       "<table border=\"1\" class=\"dataframe\">\n",
       "  <thead>\n",
       "    <tr style=\"text-align: right;\">\n",
       "      <th></th>\n",
       "      <th>price</th>\n",
       "    </tr>\n",
       "    <tr>\n",
       "      <th>date</th>\n",
       "      <th></th>\n",
       "    </tr>\n",
       "  </thead>\n",
       "  <tbody>\n",
       "    <tr>\n",
       "      <th>2021-10-13</th>\n",
       "      <td>16.0</td>\n",
       "    </tr>\n",
       "    <tr>\n",
       "      <th>2021-10-14</th>\n",
       "      <td>16.0</td>\n",
       "    </tr>\n",
       "    <tr>\n",
       "      <th>2021-10-18</th>\n",
       "      <td>16.0</td>\n",
       "    </tr>\n",
       "    <tr>\n",
       "      <th>2021-10-19</th>\n",
       "      <td>16.0</td>\n",
       "    </tr>\n",
       "    <tr>\n",
       "      <th>2021-10-20</th>\n",
       "      <td>16.0</td>\n",
       "    </tr>\n",
       "    <tr>\n",
       "      <th>...</th>\n",
       "      <td>...</td>\n",
       "    </tr>\n",
       "    <tr>\n",
       "      <th>2022-07-11</th>\n",
       "      <td>13.0</td>\n",
       "    </tr>\n",
       "    <tr>\n",
       "      <th>2022-07-12</th>\n",
       "      <td>13.0</td>\n",
       "    </tr>\n",
       "    <tr>\n",
       "      <th>2022-07-13</th>\n",
       "      <td>13.0</td>\n",
       "    </tr>\n",
       "    <tr>\n",
       "      <th>2022-07-14</th>\n",
       "      <td>13.0</td>\n",
       "    </tr>\n",
       "    <tr>\n",
       "      <th>2022-07-15</th>\n",
       "      <td>13.0</td>\n",
       "    </tr>\n",
       "  </tbody>\n",
       "</table>\n",
       "<p>183 rows × 1 columns</p>\n",
       "</div>"
      ],
      "text/plain": [
       "            price\n",
       "date             \n",
       "2021-10-13   16.0\n",
       "2021-10-14   16.0\n",
       "2021-10-18   16.0\n",
       "2021-10-19   16.0\n",
       "2021-10-20   16.0\n",
       "...           ...\n",
       "2022-07-11   13.0\n",
       "2022-07-12   13.0\n",
       "2022-07-13   13.0\n",
       "2022-07-14   13.0\n",
       "2022-07-15   13.0\n",
       "\n",
       "[183 rows x 1 columns]"
      ]
     },
     "execution_count": 48,
     "metadata": {},
     "output_type": "execute_result"
    }
   ],
   "source": [
    "#to know the date of test data\n",
    "data.iloc[355+10:]  #10 for that time steps"
   ]
  },
  {
   "cell_type": "code",
   "execution_count": 49,
   "metadata": {},
   "outputs": [
    {
     "name": "stderr",
     "output_type": "stream",
     "text": [
      "C:\\Users\\Asus\\AppData\\Local\\Temp/ipykernel_12092/531574769.py:1: SettingWithCopyWarning: \n",
      "A value is trying to be set on a copy of a slice from a DataFrame.\n",
      "Try using .loc[row_indexer,col_indexer] = value instead\n",
      "\n",
      "See the caveats in the documentation: https://pandas.pydata.org/pandas-docs/stable/user_guide/indexing.html#returning-a-view-versus-a-copy\n",
      "  test['date'] = pd.date_range(start='2021-10-15', periods=181, freq='D')\n"
     ]
    },
    {
     "data": {
      "text/html": [
       "<div>\n",
       "<style scoped>\n",
       "    .dataframe tbody tr th:only-of-type {\n",
       "        vertical-align: middle;\n",
       "    }\n",
       "\n",
       "    .dataframe tbody tr th {\n",
       "        vertical-align: top;\n",
       "    }\n",
       "\n",
       "    .dataframe thead th {\n",
       "        text-align: right;\n",
       "    }\n",
       "</style>\n",
       "<table border=\"1\" class=\"dataframe\">\n",
       "  <thead>\n",
       "    <tr style=\"text-align: right;\">\n",
       "      <th></th>\n",
       "      <th>predicted_price</th>\n",
       "      <th>date</th>\n",
       "    </tr>\n",
       "  </thead>\n",
       "  <tbody>\n",
       "    <tr>\n",
       "      <th>366</th>\n",
       "      <td>16.012403</td>\n",
       "      <td>2021-10-15</td>\n",
       "    </tr>\n",
       "    <tr>\n",
       "      <th>367</th>\n",
       "      <td>16.012403</td>\n",
       "      <td>2021-10-16</td>\n",
       "    </tr>\n",
       "    <tr>\n",
       "      <th>368</th>\n",
       "      <td>16.012403</td>\n",
       "      <td>2021-10-17</td>\n",
       "    </tr>\n",
       "    <tr>\n",
       "      <th>369</th>\n",
       "      <td>16.012403</td>\n",
       "      <td>2021-10-18</td>\n",
       "    </tr>\n",
       "    <tr>\n",
       "      <th>370</th>\n",
       "      <td>16.012403</td>\n",
       "      <td>2021-10-19</td>\n",
       "    </tr>\n",
       "    <tr>\n",
       "      <th>...</th>\n",
       "      <td>...</td>\n",
       "      <td>...</td>\n",
       "    </tr>\n",
       "    <tr>\n",
       "      <th>542</th>\n",
       "      <td>12.944454</td>\n",
       "      <td>2022-04-09</td>\n",
       "    </tr>\n",
       "    <tr>\n",
       "      <th>543</th>\n",
       "      <td>12.944454</td>\n",
       "      <td>2022-04-10</td>\n",
       "    </tr>\n",
       "    <tr>\n",
       "      <th>544</th>\n",
       "      <td>12.944454</td>\n",
       "      <td>2022-04-11</td>\n",
       "    </tr>\n",
       "    <tr>\n",
       "      <th>545</th>\n",
       "      <td>12.944454</td>\n",
       "      <td>2022-04-12</td>\n",
       "    </tr>\n",
       "    <tr>\n",
       "      <th>546</th>\n",
       "      <td>12.944454</td>\n",
       "      <td>2022-04-13</td>\n",
       "    </tr>\n",
       "  </tbody>\n",
       "</table>\n",
       "<p>181 rows × 2 columns</p>\n",
       "</div>"
      ],
      "text/plain": [
       "     predicted_price       date\n",
       "366        16.012403 2021-10-15\n",
       "367        16.012403 2021-10-16\n",
       "368        16.012403 2021-10-17\n",
       "369        16.012403 2021-10-18\n",
       "370        16.012403 2021-10-19\n",
       "..               ...        ...\n",
       "542        12.944454 2022-04-09\n",
       "543        12.944454 2022-04-10\n",
       "544        12.944454 2022-04-11\n",
       "545        12.944454 2022-04-12\n",
       "546        12.944454 2022-04-13\n",
       "\n",
       "[181 rows x 2 columns]"
      ]
     },
     "execution_count": 49,
     "metadata": {},
     "output_type": "execute_result"
    }
   ],
   "source": [
    "test['date'] = pd.date_range(start='2021-10-15', periods=181, freq='D')\n",
    "test"
   ]
  },
  {
   "cell_type": "code",
   "execution_count": 50,
   "metadata": {},
   "outputs": [
    {
     "data": {
      "text/html": [
       "<div>\n",
       "<style scoped>\n",
       "    .dataframe tbody tr th:only-of-type {\n",
       "        vertical-align: middle;\n",
       "    }\n",
       "\n",
       "    .dataframe tbody tr th {\n",
       "        vertical-align: top;\n",
       "    }\n",
       "\n",
       "    .dataframe thead th {\n",
       "        text-align: right;\n",
       "    }\n",
       "</style>\n",
       "<table border=\"1\" class=\"dataframe\">\n",
       "  <thead>\n",
       "    <tr style=\"text-align: right;\">\n",
       "      <th></th>\n",
       "      <th>date</th>\n",
       "      <th>predicted_price</th>\n",
       "    </tr>\n",
       "  </thead>\n",
       "  <tbody>\n",
       "    <tr>\n",
       "      <th>366</th>\n",
       "      <td>2021-10-15</td>\n",
       "      <td>16.012403</td>\n",
       "    </tr>\n",
       "    <tr>\n",
       "      <th>367</th>\n",
       "      <td>2021-10-16</td>\n",
       "      <td>16.012403</td>\n",
       "    </tr>\n",
       "    <tr>\n",
       "      <th>368</th>\n",
       "      <td>2021-10-17</td>\n",
       "      <td>16.012403</td>\n",
       "    </tr>\n",
       "    <tr>\n",
       "      <th>369</th>\n",
       "      <td>2021-10-18</td>\n",
       "      <td>16.012403</td>\n",
       "    </tr>\n",
       "    <tr>\n",
       "      <th>370</th>\n",
       "      <td>2021-10-19</td>\n",
       "      <td>16.012403</td>\n",
       "    </tr>\n",
       "    <tr>\n",
       "      <th>...</th>\n",
       "      <td>...</td>\n",
       "      <td>...</td>\n",
       "    </tr>\n",
       "    <tr>\n",
       "      <th>542</th>\n",
       "      <td>2022-04-09</td>\n",
       "      <td>12.944454</td>\n",
       "    </tr>\n",
       "    <tr>\n",
       "      <th>543</th>\n",
       "      <td>2022-04-10</td>\n",
       "      <td>12.944454</td>\n",
       "    </tr>\n",
       "    <tr>\n",
       "      <th>544</th>\n",
       "      <td>2022-04-11</td>\n",
       "      <td>12.944454</td>\n",
       "    </tr>\n",
       "    <tr>\n",
       "      <th>545</th>\n",
       "      <td>2022-04-12</td>\n",
       "      <td>12.944454</td>\n",
       "    </tr>\n",
       "    <tr>\n",
       "      <th>546</th>\n",
       "      <td>2022-04-13</td>\n",
       "      <td>12.944454</td>\n",
       "    </tr>\n",
       "  </tbody>\n",
       "</table>\n",
       "<p>181 rows × 2 columns</p>\n",
       "</div>"
      ],
      "text/plain": [
       "          date  predicted_price\n",
       "366 2021-10-15        16.012403\n",
       "367 2021-10-16        16.012403\n",
       "368 2021-10-17        16.012403\n",
       "369 2021-10-18        16.012403\n",
       "370 2021-10-19        16.012403\n",
       "..         ...              ...\n",
       "542 2022-04-09        12.944454\n",
       "543 2022-04-10        12.944454\n",
       "544 2022-04-11        12.944454\n",
       "545 2022-04-12        12.944454\n",
       "546 2022-04-13        12.944454\n",
       "\n",
       "[181 rows x 2 columns]"
      ]
     },
     "execution_count": 50,
     "metadata": {},
     "output_type": "execute_result"
    }
   ],
   "source": [
    "col = ['date','predicted_price']\n",
    "test = test[col]\n",
    "test"
   ]
  },
  {
   "cell_type": "code",
   "execution_count": 51,
   "metadata": {},
   "outputs": [
    {
     "data": {
      "text/html": [
       "<div>\n",
       "<style scoped>\n",
       "    .dataframe tbody tr th:only-of-type {\n",
       "        vertical-align: middle;\n",
       "    }\n",
       "\n",
       "    .dataframe tbody tr th {\n",
       "        vertical-align: top;\n",
       "    }\n",
       "\n",
       "    .dataframe thead th {\n",
       "        text-align: right;\n",
       "    }\n",
       "</style>\n",
       "<table border=\"1\" class=\"dataframe\">\n",
       "  <thead>\n",
       "    <tr style=\"text-align: right;\">\n",
       "      <th></th>\n",
       "      <th>predicted_price</th>\n",
       "    </tr>\n",
       "    <tr>\n",
       "      <th>date</th>\n",
       "      <th></th>\n",
       "    </tr>\n",
       "  </thead>\n",
       "  <tbody>\n",
       "    <tr>\n",
       "      <th>2021-10-15</th>\n",
       "      <td>16.012403</td>\n",
       "    </tr>\n",
       "    <tr>\n",
       "      <th>2021-10-16</th>\n",
       "      <td>16.012403</td>\n",
       "    </tr>\n",
       "    <tr>\n",
       "      <th>2021-10-17</th>\n",
       "      <td>16.012403</td>\n",
       "    </tr>\n",
       "    <tr>\n",
       "      <th>2021-10-18</th>\n",
       "      <td>16.012403</td>\n",
       "    </tr>\n",
       "    <tr>\n",
       "      <th>2021-10-19</th>\n",
       "      <td>16.012403</td>\n",
       "    </tr>\n",
       "    <tr>\n",
       "      <th>...</th>\n",
       "      <td>...</td>\n",
       "    </tr>\n",
       "    <tr>\n",
       "      <th>2022-04-09</th>\n",
       "      <td>12.944454</td>\n",
       "    </tr>\n",
       "    <tr>\n",
       "      <th>2022-04-10</th>\n",
       "      <td>12.944454</td>\n",
       "    </tr>\n",
       "    <tr>\n",
       "      <th>2022-04-11</th>\n",
       "      <td>12.944454</td>\n",
       "    </tr>\n",
       "    <tr>\n",
       "      <th>2022-04-12</th>\n",
       "      <td>12.944454</td>\n",
       "    </tr>\n",
       "    <tr>\n",
       "      <th>2022-04-13</th>\n",
       "      <td>12.944454</td>\n",
       "    </tr>\n",
       "  </tbody>\n",
       "</table>\n",
       "<p>181 rows × 1 columns</p>\n",
       "</div>"
      ],
      "text/plain": [
       "            predicted_price\n",
       "date                       \n",
       "2021-10-15        16.012403\n",
       "2021-10-16        16.012403\n",
       "2021-10-17        16.012403\n",
       "2021-10-18        16.012403\n",
       "2021-10-19        16.012403\n",
       "...                     ...\n",
       "2022-04-09        12.944454\n",
       "2022-04-10        12.944454\n",
       "2022-04-11        12.944454\n",
       "2022-04-12        12.944454\n",
       "2022-04-13        12.944454\n",
       "\n",
       "[181 rows x 1 columns]"
      ]
     },
     "execution_count": 51,
     "metadata": {},
     "output_type": "execute_result"
    }
   ],
   "source": [
    "test = test.set_index('date')\n",
    "test"
   ]
  },
  {
   "cell_type": "code",
   "execution_count": 52,
   "metadata": {},
   "outputs": [],
   "source": [
    "test = test.to_csv('predictedData/dpl_gru_testPred.csv')"
   ]
  },
  {
   "cell_type": "code",
   "execution_count": null,
   "metadata": {},
   "outputs": [],
   "source": []
  }
 ],
 "metadata": {
  "kernelspec": {
   "display_name": "Python 3 (ipykernel)",
   "language": "python",
   "name": "python3"
  },
  "language_info": {
   "codemirror_mode": {
    "name": "ipython",
    "version": 3
   },
   "file_extension": ".py",
   "mimetype": "text/x-python",
   "name": "python",
   "nbconvert_exporter": "python",
   "pygments_lexer": "ipython3",
   "version": "3.9.7"
  }
 },
 "nbformat": 4,
 "nbformat_minor": 4
}
